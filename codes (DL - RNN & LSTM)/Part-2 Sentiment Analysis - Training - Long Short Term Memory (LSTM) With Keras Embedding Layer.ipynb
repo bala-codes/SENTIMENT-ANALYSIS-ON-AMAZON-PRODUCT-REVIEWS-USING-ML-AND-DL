{
  "nbformat": 4,
  "nbformat_minor": 0,
  "metadata": {
    "colab": {
      "name": "Part 3.1 - Sentiment Analysis - Long Short Term Memory (LSTM) - With Keras Embedding Layer.ipynb",
      "provenance": [],
      "collapsed_sections": [],
      "include_colab_link": true
    },
    "kernelspec": {
      "name": "python3",
      "display_name": "Python 3"
    },
    "accelerator": "GPU"
  },
  "cells": [
    {
      "cell_type": "markdown",
      "metadata": {
        "id": "view-in-github",
        "colab_type": "text"
      },
      "source": [
        "<a href=\"https://colab.research.google.com/github/bala-codes/Sentiment_Analysis_on_Amazon_Product_Reviews_Using_Machine_and_Deep_Learning/blob/master/codes%20(DL%20-%20RNN%20%26%20LSTM)/Part-2%20Sentiment%20Analysis%20-%20Training%20-%20Long%20Short%20Term%20Memory%20(LSTM)%20With%20Keras%20Embedding%20Layer.ipynb\" target=\"_parent\"><img src=\"https://colab.research.google.com/assets/colab-badge.svg\" alt=\"Open In Colab\"/></a>"
      ]
    },
    {
      "cell_type": "code",
      "metadata": {
        "id": "IA6kJcUyGCOT",
        "colab_type": "code",
        "colab": {
          "base_uri": "https://localhost:8080/",
          "height": 125
        },
        "outputId": "e8672a7f-4339-450f-842f-7e01b196ed04"
      },
      "source": [
        "from google.colab import drive\n",
        "drive.mount('/content/drive')"
      ],
      "execution_count": null,
      "outputs": [
        {
          "output_type": "stream",
          "text": [
            "Go to this URL in a browser: https://accounts.google.com/o/oauth2/auth?client_id=947318989803-6bn6qk8qdgf4n4g3pfee6491hc0brc4i.apps.googleusercontent.com&redirect_uri=urn%3aietf%3awg%3aoauth%3a2.0%3aoob&response_type=code&scope=email%20https%3a%2f%2fwww.googleapis.com%2fauth%2fdocs.test%20https%3a%2f%2fwww.googleapis.com%2fauth%2fdrive%20https%3a%2f%2fwww.googleapis.com%2fauth%2fdrive.photos.readonly%20https%3a%2f%2fwww.googleapis.com%2fauth%2fpeopleapi.readonly\n",
            "\n",
            "Enter your authorization code:\n",
            "··········\n",
            "Mounted at /content/drive\n"
          ],
          "name": "stdout"
        }
      ]
    },
    {
      "cell_type": "code",
      "metadata": {
        "id": "LZvAdGgJGDeH",
        "colab_type": "code",
        "colab": {}
      },
      "source": [
        "#Importing the libraries which are required.\n",
        "import pandas as pd\n",
        "import string\n",
        "import pickle\n",
        "import warnings\n",
        "warnings.filterwarnings(\"ignore\")\n",
        "\n",
        "import matplotlib.pyplot as plt\n",
        "plt.style.use('ggplot')\n",
        "import os\n",
        "os.environ['TF_CPP_MIN_LOG_LEVEL'] = '3' \n",
        "import tensorflow as tf\n",
        "try:\n",
        "    from tensorflow.python.util import module_wrapper as deprecation\n",
        "except ImportError:\n",
        "    from tensorflow.python.util import deprecation_wrapper as deprecation\n",
        "deprecation._PER_MODULE_WARNING_LIMIT = 0\n",
        "\n",
        "from tensorflow.python.util import deprecation\n",
        "deprecation._PRINT_DEPRECATION_WARNINGS = False"
      ],
      "execution_count": null,
      "outputs": []
    },
    {
      "cell_type": "code",
      "metadata": {
        "id": "QKvaUe6Khd6o",
        "colab_type": "code",
        "colab": {
          "base_uri": "https://localhost:8080/",
          "height": 197
        },
        "outputId": "b3cf3881-71de-4529-f85b-db1a76abed9f"
      },
      "source": [
        "import pandas as pd\n",
        "\n",
        "dftrain = pd.read_csv(\"/content/drive/My Drive/Machine Learning Projects/SENTIMENT ANALYSIS - AMAZON CUSTOMER REVIEWS/SOURCE CODES AND DATASETS/Amazon EWS - Final Dataset/dftrainforlstm.csv\", usecols = ['review_body',\t'star_rating', 'star_rating_enc', 'review_body_cleaned'],index_col = False)  # SAVE THE FINAL CLEANED COPY IF YOU WANT \n",
        "dftest = pd.read_csv(\"/content/drive/My Drive/Machine Learning Projects/SENTIMENT ANALYSIS - AMAZON CUSTOMER REVIEWS/SOURCE CODES AND DATASETS/Amazon EWS - Final Dataset/dftestforlstm.csv\" , usecols = ['review_body',\t'star_rating', 'star_rating_enc', 'review_body_cleaned'],index_col = False)  # SAVE THE FINAL CLEANED COPY IF YOU WANT \n",
        "\n",
        "dftrain = pd.DataFrame(dftrain)\n",
        "dftest = pd.DataFrame(dftest)\n",
        "\n",
        "dftrain.head()"
      ],
      "execution_count": null,
      "outputs": [
        {
          "output_type": "execute_result",
          "data": {
            "text/html": [
              "<div>\n",
              "<style scoped>\n",
              "    .dataframe tbody tr th:only-of-type {\n",
              "        vertical-align: middle;\n",
              "    }\n",
              "\n",
              "    .dataframe tbody tr th {\n",
              "        vertical-align: top;\n",
              "    }\n",
              "\n",
              "    .dataframe thead th {\n",
              "        text-align: right;\n",
              "    }\n",
              "</style>\n",
              "<table border=\"1\" class=\"dataframe\">\n",
              "  <thead>\n",
              "    <tr style=\"text-align: right;\">\n",
              "      <th></th>\n",
              "      <th>review_body</th>\n",
              "      <th>star_rating</th>\n",
              "      <th>star_rating_enc</th>\n",
              "      <th>review_body_cleaned</th>\n",
              "    </tr>\n",
              "  </thead>\n",
              "  <tbody>\n",
              "    <tr>\n",
              "      <th>0</th>\n",
              "      <td>GOOD VALUE</td>\n",
              "      <td>4.0</td>\n",
              "      <td>1.0</td>\n",
              "      <td>GOOD VALUE</td>\n",
              "    </tr>\n",
              "    <tr>\n",
              "      <th>1</th>\n",
              "      <td>Excellent quality.</td>\n",
              "      <td>5.0</td>\n",
              "      <td>1.0</td>\n",
              "      <td>Excellent quality</td>\n",
              "    </tr>\n",
              "    <tr>\n",
              "      <th>2</th>\n",
              "      <td>3rd season using it. I only fill with water an...</td>\n",
              "      <td>4.0</td>\n",
              "      <td>1.0</td>\n",
              "      <td>season using it  only fill with water and imme...</td>\n",
              "    </tr>\n",
              "    <tr>\n",
              "      <th>3</th>\n",
              "      <td>Nice bag. Should have another strap on bottom ...</td>\n",
              "      <td>4.0</td>\n",
              "      <td>1.0</td>\n",
              "      <td>Nice bag  Should another strap bottom somethin...</td>\n",
              "    </tr>\n",
              "    <tr>\n",
              "      <th>4</th>\n",
              "      <td>Gave this to my son who used it while we were ...</td>\n",
              "      <td>5.0</td>\n",
              "      <td>1.0</td>\n",
              "      <td>Gave my son used we backpacking  loves it</td>\n",
              "    </tr>\n",
              "  </tbody>\n",
              "</table>\n",
              "</div>"
            ],
            "text/plain": [
              "                                         review_body  ...                                review_body_cleaned\n",
              "0                                         GOOD VALUE  ...                                         GOOD VALUE\n",
              "1                                 Excellent quality.  ...                                 Excellent quality \n",
              "2  3rd season using it. I only fill with water an...  ...  season using it  only fill with water and imme...\n",
              "3  Nice bag. Should have another strap on bottom ...  ...  Nice bag  Should another strap bottom somethin...\n",
              "4  Gave this to my son who used it while we were ...  ...         Gave my son used we backpacking  loves it \n",
              "\n",
              "[5 rows x 4 columns]"
            ]
          },
          "metadata": {
            "tags": []
          },
          "execution_count": 3
        }
      ]
    },
    {
      "cell_type": "code",
      "metadata": {
        "id": "xSFDazjshjBC",
        "colab_type": "code",
        "colab": {
          "base_uri": "https://localhost:8080/",
          "height": 52
        },
        "outputId": "006776ff-c3e2-4495-9c2c-cb11982a9467"
      },
      "source": [
        "final_df = pd.concat([dftrain,dftest], axis=0)\n",
        "print(final_df.shape)\n",
        "final_df.dropna(inplace=True)\n",
        "print(final_df.shape)\n",
        "final_df[['review_body_cleaned', 'star_rating_enc']].to_csv(\"/content/drive/My Drive/Machine Learning Projects/SENTIMENT ANALYSIS - AMAZON CUSTOMER REVIEWS/SOURCE CODES AND DATASETS/Amazon EWS - Final Dataset/finaldf_forlstm.csv\")"
      ],
      "execution_count": null,
      "outputs": [
        {
          "output_type": "stream",
          "text": [
            "(398272, 4)\n",
            "(398244, 4)\n"
          ],
          "name": "stdout"
        }
      ]
    },
    {
      "cell_type": "code",
      "metadata": {
        "id": "Y1K8lcgQGSCG",
        "colab_type": "code",
        "colab": {
          "base_uri": "https://localhost:8080/",
          "height": 197
        },
        "outputId": "5b23f282-62ef-4667-eb8e-80a8db92af1e"
      },
      "source": [
        "final_df = pd.read_csv('/content/drive/My Drive/Machine Learning Projects/SENTIMENT ANALYSIS - AMAZON CUSTOMER REVIEWS/SOURCE CODES AND DATASETS/Amazon EWS - Final Dataset/finaldf_forlstm.csv', usecols=['review_body_cleaned','star_rating_enc']) \n",
        "final_df = pd.DataFrame(final_df)\n",
        "final_df.head()"
      ],
      "execution_count": null,
      "outputs": [
        {
          "output_type": "execute_result",
          "data": {
            "text/html": [
              "<div>\n",
              "<style scoped>\n",
              "    .dataframe tbody tr th:only-of-type {\n",
              "        vertical-align: middle;\n",
              "    }\n",
              "\n",
              "    .dataframe tbody tr th {\n",
              "        vertical-align: top;\n",
              "    }\n",
              "\n",
              "    .dataframe thead th {\n",
              "        text-align: right;\n",
              "    }\n",
              "</style>\n",
              "<table border=\"1\" class=\"dataframe\">\n",
              "  <thead>\n",
              "    <tr style=\"text-align: right;\">\n",
              "      <th></th>\n",
              "      <th>review_body_cleaned</th>\n",
              "      <th>star_rating_enc</th>\n",
              "    </tr>\n",
              "  </thead>\n",
              "  <tbody>\n",
              "    <tr>\n",
              "      <th>0</th>\n",
              "      <td>GOOD VALUE</td>\n",
              "      <td>1.0</td>\n",
              "    </tr>\n",
              "    <tr>\n",
              "      <th>1</th>\n",
              "      <td>Excellent quality</td>\n",
              "      <td>1.0</td>\n",
              "    </tr>\n",
              "    <tr>\n",
              "      <th>2</th>\n",
              "      <td>season using it  only fill with water and imme...</td>\n",
              "      <td>1.0</td>\n",
              "    </tr>\n",
              "    <tr>\n",
              "      <th>3</th>\n",
              "      <td>Nice bag  Should another strap bottom somethin...</td>\n",
              "      <td>1.0</td>\n",
              "    </tr>\n",
              "    <tr>\n",
              "      <th>4</th>\n",
              "      <td>Gave my son used we backpacking  loves it</td>\n",
              "      <td>1.0</td>\n",
              "    </tr>\n",
              "  </tbody>\n",
              "</table>\n",
              "</div>"
            ],
            "text/plain": [
              "                                 review_body_cleaned  star_rating_enc\n",
              "0                                         GOOD VALUE              1.0\n",
              "1                                 Excellent quality               1.0\n",
              "2  season using it  only fill with water and imme...              1.0\n",
              "3  Nice bag  Should another strap bottom somethin...              1.0\n",
              "4         Gave my son used we backpacking  loves it               1.0"
            ]
          },
          "metadata": {
            "tags": []
          },
          "execution_count": 5
        }
      ]
    },
    {
      "cell_type": "code",
      "metadata": {
        "id": "oQUTxxnFGVtT",
        "colab_type": "code",
        "colab": {}
      },
      "source": [
        "final_df['review_body_cleaned'] = final_df['review_body_cleaned'].astype(str)"
      ],
      "execution_count": null,
      "outputs": []
    },
    {
      "cell_type": "code",
      "metadata": {
        "id": "D4nDzVUBGYur",
        "colab_type": "code",
        "colab": {
          "base_uri": "https://localhost:8080/",
          "height": 52
        },
        "outputId": "17991156-fd32-4937-f378-e4cb171b8f63"
      },
      "source": [
        "from sklearn.model_selection import train_test_split\n",
        "\n",
        "sentences = final_df['review_body_cleaned'].values\n",
        "y = final_df['star_rating_enc'].values\n",
        "\n",
        "sentences_train, sentences_test, y_train, y_test = train_test_split(sentences, y, test_size=0.20, random_state=123, shuffle=True)\n",
        "print(sentences_train.shape, sentences_test.shape)\n",
        "print(y_train.shape, y_test.shape)"
      ],
      "execution_count": null,
      "outputs": [
        {
          "output_type": "stream",
          "text": [
            "(318595,) (79649,)\n",
            "(318595,) (79649,)\n"
          ],
          "name": "stdout"
        }
      ]
    },
    {
      "cell_type": "code",
      "metadata": {
        "id": "VDZ2kvlY5Vi8",
        "colab_type": "code",
        "colab": {
          "base_uri": "https://localhost:8080/",
          "height": 70
        },
        "outputId": "9190f9eb-fa64-44f1-f97b-edc93617dbc7"
      },
      "source": [
        "ytest1 = list(y_test)\n",
        "print(\"1's\",ytest1.count(1))\n",
        "print(\"0's\",ytest1.count(0))\n",
        "print(\"Thus Test dataset is well Balanced\")"
      ],
      "execution_count": null,
      "outputs": [
        {
          "output_type": "stream",
          "text": [
            "1's 39697\n",
            "0's 39952\n",
            "Thus Test dataset is well Balanced\n"
          ],
          "name": "stdout"
        }
      ]
    },
    {
      "cell_type": "code",
      "metadata": {
        "id": "c4SCltX3Gear",
        "colab_type": "code",
        "colab": {
          "base_uri": "https://localhost:8080/",
          "height": 52
        },
        "outputId": "1a269b88-4a7a-4ab7-9649-0413096456d9"
      },
      "source": [
        "from keras.preprocessing.text import Tokenizer\n",
        "\n",
        "embed_size = 300 \n",
        "max_features = 50000 \n",
        "threshold = 0.35\n",
        "\n",
        "tokenizer = Tokenizer(num_words = max_features) # 20K -> 50K\n",
        "tokenizer.fit_on_texts(sentences_train)\n",
        "\n",
        "X_train = tokenizer.texts_to_sequences(sentences_train)\n",
        "X_test = tokenizer.texts_to_sequences(sentences_test)\n",
        "\n",
        "vocab_size = len(tokenizer.word_index) + 1\n",
        "print(\"Total Vocabulary Size\", vocab_size)"
      ],
      "execution_count": null,
      "outputs": [
        {
          "output_type": "stream",
          "text": [
            "Using TensorFlow backend.\n"
          ],
          "name": "stderr"
        },
        {
          "output_type": "stream",
          "text": [
            "Total Vocabulary Size 70763\n"
          ],
          "name": "stdout"
        }
      ]
    },
    {
      "cell_type": "code",
      "metadata": {
        "id": "9zTU4WNh6CAd",
        "colab_type": "code",
        "colab": {}
      },
      "source": [
        "#tokenizer.word_index.items()"
      ],
      "execution_count": 1,
      "outputs": []
    },
    {
      "cell_type": "code",
      "metadata": {
        "id": "WE8nzy8xGqZU",
        "colab_type": "code",
        "colab": {}
      },
      "source": [
        "with open('/content/drive/My Drive/Machine Learning Projects/SENTIMENT ANALYSIS - AMAZON CUSTOMER REVIEWS/SOURCE CODES AND DATASETS/PACKAGE 3 -SOURCE CODES AND FILES/Pretrained Models/Deep Learning Models - With Keras Embeddings/LSTM_Keras_Emb.pkl', 'wb') as handle:\n",
        "    pickle.dump(tokenizer, handle, protocol=pickle.HIGHEST_PROTOCOL)"
      ],
      "execution_count": null,
      "outputs": []
    },
    {
      "cell_type": "code",
      "metadata": {
        "id": "--kEAkSTGzgj",
        "colab_type": "code",
        "colab": {}
      },
      "source": [
        "from keras.preprocessing.sequence import pad_sequences\n",
        "\n",
        "maxlen = 300\n",
        "\n",
        "X_train = pad_sequences(X_train, padding='post', maxlen=maxlen)\n",
        "X_test = pad_sequences(X_test, padding='post', maxlen=maxlen)"
      ],
      "execution_count": null,
      "outputs": []
    },
    {
      "cell_type": "code",
      "metadata": {
        "id": "AX8z2KAmHnZA",
        "colab_type": "code",
        "colab": {}
      },
      "source": [
        "\n",
        "\n",
        "def plot_history(history):\n",
        "    acc = history.history['acc']\n",
        "    val_acc = history.history['val_acc']\n",
        "    loss = history.history['loss']\n",
        "    val_loss = history.history['val_loss']\n",
        "    x = range(1, len(acc) + 1)\n",
        "    print(\"X\",x)\n",
        "\n",
        "    plt.figure(figsize=(12, 5))\n",
        "    plt.subplot(1, 2, 1)\n",
        "    plt.plot(x, acc, 'b', label='Training acc')\n",
        "    plt.plot(x, val_acc, 'r', label='Validation acc')\n",
        "    plt.title('Training and validation accuracy')\n",
        "    plt.legend()\n",
        "    plt.subplot(1, 2, 2)\n",
        "    plt.plot(x, loss, 'b', label='Training loss')\n",
        "    plt.plot(x, val_loss, 'r', label='Validation loss')\n",
        "    plt.title('Training and validation loss')\n",
        "    plt.legend()"
      ],
      "execution_count": null,
      "outputs": []
    },
    {
      "cell_type": "code",
      "metadata": {
        "id": "Dh7Ad06GG5bb",
        "colab_type": "code",
        "colab": {
          "base_uri": "https://localhost:8080/",
          "height": 301
        },
        "outputId": "8e6a4647-66a5-4e09-d5a3-a18a3794f4a9"
      },
      "source": [
        "import keras\n",
        "from keras.models import Sequential\n",
        "from keras.layers import *\n",
        "from keras.callbacks import *\n",
        "\n",
        "embedding_dim = 128\n",
        "\n",
        "model = Sequential()\n",
        "model.add(Embedding(vocab_size, embedding_dim, input_length=maxlen,trainable=True))\n",
        "model.add(LSTM(units = 196, dropout=0.4, recurrent_dropout=0.4, return_sequences=True))\n",
        "model.add(LSTM(units = 96, dropout=0.4, recurrent_dropout=0.4, return_sequences=False))\n",
        "#model.add(GlobalMaxPooling1D())\n",
        "#model.add(Dense(512,activation=\"relu\"))\n",
        "#model.add(Dropout(0.4))\n",
        "#model.add(Dense(32,activation=\"relu\"))\n",
        "#model.add(Dropout(0.2))\n",
        "model.add(Dense(1,activation=\"sigmoid\"))\n",
        "model.compile(loss=\"binary_crossentropy\", optimizer=\"adam\",metrics=[\"accuracy\"])\n",
        "model.summary()"
      ],
      "execution_count": null,
      "outputs": [
        {
          "output_type": "stream",
          "text": [
            "Model: \"sequential_1\"\n",
            "_________________________________________________________________\n",
            "Layer (type)                 Output Shape              Param #   \n",
            "=================================================================\n",
            "embedding_1 (Embedding)      (None, 300, 128)          9057664   \n",
            "_________________________________________________________________\n",
            "lstm_1 (LSTM)                (None, 300, 196)          254800    \n",
            "_________________________________________________________________\n",
            "lstm_2 (LSTM)                (None, 96)                112512    \n",
            "_________________________________________________________________\n",
            "dense_1 (Dense)              (None, 1)                 97        \n",
            "=================================================================\n",
            "Total params: 9,425,073\n",
            "Trainable params: 9,425,073\n",
            "Non-trainable params: 0\n",
            "_________________________________________________________________\n"
          ],
          "name": "stdout"
        }
      ]
    },
    {
      "cell_type": "code",
      "metadata": {
        "id": "i1PucsdGo8V0",
        "colab_type": "code",
        "colab": {
          "base_uri": "https://localhost:8080/",
          "height": 70
        },
        "outputId": "e97f7fa7-b1c0-4e41-a264-f5f8df1cc852"
      },
      "source": [
        "%%time\n",
        "mc = ModelCheckpoint('/content/salstmnormal.h5', monitor='val_acc', verbose=1, save_best_only=True, mode='max')\n",
        "\n",
        "history = model.fit(X_train, y_train, epochs=5 , verbose=1,validation_data=(X_test, y_test),callbacks=[mc])"
      ],
      "execution_count": null,
      "outputs": [
        {
          "output_type": "stream",
          "text": [
            "Train on 318595 samples, validate on 79649 samples\n",
            "Epoch 1/5\n",
            "249376/318595 [======================>.......] - ETA: 37:27 - loss: 0.6934 - acc: 0.5009"
          ],
          "name": "stdout"
        }
      ]
    },
    {
      "cell_type": "code",
      "metadata": {
        "id": "ANO2rdBq3Khs",
        "colab_type": "code",
        "colab": {}
      },
      "source": [
        "%%time\n",
        "loss, accuracy = model.evaluate(X_train, y_train, verbose=False)\n",
        "print(\"Training Accuracy: {:.4f}\".format(accuracy))\n",
        "loss, accuracy = model.evaluate(X_test, y_test, verbose=False)\n",
        "print(\"Testing Accuracy:  {:.4f}\".format(accuracy))\n",
        "\n",
        "plot_history(history)"
      ],
      "execution_count": null,
      "outputs": []
    },
    {
      "cell_type": "code",
      "metadata": {
        "id": "MwzKPskjH10M",
        "colab_type": "code",
        "colab": {
          "base_uri": "https://localhost:8080/",
          "height": 54
        },
        "outputId": "b831abff-f9f3-49b1-c81e-1b8e44ab8140"
      },
      "source": [
        "'''model.save('/content/drive/My Drive/Machine Learning Projects/SENTIMENT ANALYSIS - AMAZON CUSTOMER REVIEWS/SOURCE CODES AND DATASETS/Pretrained Models/Deep Learning Models//content/drive/My Drive/Machine Learning Projects/SENTIMENT ANALYSIS - AMAZON CUSTOMER REVIEWS/SOURCE CODES AND DATASETS/PACKAGE 3 -SOURCE CODES AND FILES/Pretrained Models/Deep Learning Models - With Keras Embeddings/sentiment_LSTM_model.h5')\n",
        "print(\"Model Saved Successfully\")'''"
      ],
      "execution_count": null,
      "outputs": [
        {
          "output_type": "execute_result",
          "data": {
            "text/plain": [
              "'model.save(\\'/content/drive/My Drive/Machine Learning Projects/SENTIMENT ANALYSIS - AMAZON CUSTOMER REVIEWS/SOURCE CODES AND DATASETS/Pretrained Models/Deep Learning Models//content/drive/My Drive/Machine Learning Projects/SENTIMENT ANALYSIS - AMAZON CUSTOMER REVIEWS/SOURCE CODES AND DATASETS/PACKAGE 3 -SOURCE CODES AND FILES/Pretrained Models/Deep Learning Models - With Keras Embeddings/sentiment_LSTM_model.h5.h5\\')\\nprint(\"Model Saved Successfully\")'"
            ]
          },
          "metadata": {
            "tags": []
          },
          "execution_count": 17
        }
      ]
    },
    {
      "cell_type": "code",
      "metadata": {
        "id": "WxJEcCxxfAiK",
        "colab_type": "code",
        "colab": {
          "base_uri": "https://localhost:8080/",
          "height": 870
        },
        "outputId": "410cb393-04fa-4aff-8b85-36cad42864b5"
      },
      "source": [
        "import keras\n",
        "from keras.models import Sequential\n",
        "from keras.layers import *\n",
        "from keras.callbacks import *\n",
        "from keras import regularizers\n",
        "from keras.regularizers import l1_l2\n",
        "\n",
        "embedding_dim = 128\n",
        "\n",
        "model = Sequential()\n",
        "model.add(Embedding(vocab_size, embedding_dim, input_length=maxlen,trainable=True))\n",
        "model.add((Conv1D(filters=32, kernel_size=3, # 3\n",
        "                                  activation='relu',\n",
        "                                  bias_initializer='random_normal',    # random_uniform - > glorot_normal to all\n",
        "                                  padding='same')))\n",
        "\n",
        "model.add((Conv1D(filters=32, kernel_size=3, # 3\n",
        "                                  activation='relu',\n",
        "                                  bias_initializer='random_normal',\n",
        "                                  padding='same')))\n",
        "\n",
        "model.add((MaxPooling1D(pool_size=2)))\n",
        "\n",
        "model.add((Conv1D(filters=64, kernel_size=4, # 3\n",
        "                                  activation='relu',\n",
        "                                  bias_initializer='random_normal',\n",
        "                                  padding='same')))\n",
        "model.add(Dropout(rate=0.5)) \n",
        "\n",
        "model.add((Conv1D(filters=64, kernel_size=4, # 3\n",
        "                                  activation='relu',\n",
        "                                  bias_initializer='random_normal',\n",
        "                                  padding='same')))\n",
        "model.add(Dropout(rate=0.5)) \n",
        "\n",
        "model.add((MaxPooling1D(pool_size=2)))\n",
        "model.add((Conv1D(filters=96, kernel_size=4, # 3\n",
        "                                  activation='relu',\n",
        "                                  bias_initializer='random_normal',\n",
        "                                  padding='same')))\n",
        "model.add(Dropout(rate=0.5)) \n",
        "\n",
        "model.add((Conv1D(filters=96, kernel_size=4, # 3\n",
        "                                  activation='relu',\n",
        "                                  bias_initializer='random_normal',                                  \n",
        "                                  padding='same')))\n",
        "model.add(Dropout(rate=0.5)) \n",
        "\n",
        "model.add((MaxPooling1D(pool_size=2)))\n",
        "\n",
        "model.add((Dropout(rate=0.5)))\n",
        "model.add(LSTM(units = 196, return_sequences=True, dropout=0.4, recurrent_dropout=0.4))   # DROPOUT 0.2 -> 0.4, 128-> 196\n",
        "model.add(GlobalMaxPooling1D())\n",
        "model.add(Dense(64,activation=\"relu\"))\n",
        "model.add(Dropout(0.5))\n",
        "model.add(Dense(1,activation=\"sigmoid\"))\n",
        "model.load_weights('/content/preloadmodel.h5')\n",
        "model.compile(loss=\"binary_crossentropy\", optimizer=\"adam\",metrics=[\"accuracy\"])\n",
        "model.summary()"
      ],
      "execution_count": null,
      "outputs": [
        {
          "output_type": "stream",
          "text": [
            "Model: \"sequential_4\"\n",
            "_________________________________________________________________\n",
            "Layer (type)                 Output Shape              Param #   \n",
            "=================================================================\n",
            "embedding_4 (Embedding)      (None, 300, 128)          9057664   \n",
            "_________________________________________________________________\n",
            "conv1d_13 (Conv1D)           (None, 300, 32)           12320     \n",
            "_________________________________________________________________\n",
            "conv1d_14 (Conv1D)           (None, 300, 32)           3104      \n",
            "_________________________________________________________________\n",
            "max_pooling1d_7 (MaxPooling1 (None, 150, 32)           0         \n",
            "_________________________________________________________________\n",
            "conv1d_15 (Conv1D)           (None, 150, 64)           8256      \n",
            "_________________________________________________________________\n",
            "dropout_15 (Dropout)         (None, 150, 64)           0         \n",
            "_________________________________________________________________\n",
            "conv1d_16 (Conv1D)           (None, 150, 64)           16448     \n",
            "_________________________________________________________________\n",
            "dropout_16 (Dropout)         (None, 150, 64)           0         \n",
            "_________________________________________________________________\n",
            "max_pooling1d_8 (MaxPooling1 (None, 75, 64)            0         \n",
            "_________________________________________________________________\n",
            "conv1d_17 (Conv1D)           (None, 75, 96)            24672     \n",
            "_________________________________________________________________\n",
            "dropout_17 (Dropout)         (None, 75, 96)            0         \n",
            "_________________________________________________________________\n",
            "conv1d_18 (Conv1D)           (None, 75, 96)            36960     \n",
            "_________________________________________________________________\n",
            "dropout_18 (Dropout)         (None, 75, 96)            0         \n",
            "_________________________________________________________________\n",
            "max_pooling1d_9 (MaxPooling1 (None, 37, 96)            0         \n",
            "_________________________________________________________________\n",
            "dropout_19 (Dropout)         (None, 37, 96)            0         \n",
            "_________________________________________________________________\n",
            "lstm_5 (LSTM)                (None, 37, 128)           115200    \n",
            "_________________________________________________________________\n",
            "global_max_pooling1d_3 (Glob (None, 128)               0         \n",
            "_________________________________________________________________\n",
            "dense_8 (Dense)              (None, 64)                8256      \n",
            "_________________________________________________________________\n",
            "dropout_20 (Dropout)         (None, 64)                0         \n",
            "_________________________________________________________________\n",
            "dense_9 (Dense)              (None, 1)                 65        \n",
            "=================================================================\n",
            "Total params: 9,282,945\n",
            "Trainable params: 9,282,945\n",
            "Non-trainable params: 0\n",
            "_________________________________________________________________\n"
          ],
          "name": "stdout"
        }
      ]
    },
    {
      "cell_type": "code",
      "metadata": {
        "id": "LjIloyAkfeNc",
        "colab_type": "code",
        "colab": {
          "base_uri": "https://localhost:8080/",
          "height": 390
        },
        "outputId": "34aed233-d1c5-45f2-c2c5-9eea9ba311d4"
      },
      "source": [
        "%%time\n",
        "#mc = ModelCheckpoint('/content/drive/My Drive/Machine Learning Projects/SENTIMENT ANALYSIS - AMAZON CUSTOMER REVIEWS/SOURCE CODES AND DATASETS/PACKAGE 2 -SOURCE CODES AND FILES/Pretrained Models/salstmkerasemb.h5', monitor='val_acc', verbose=1, save_best_only=True, mode='max')\n",
        "mc = ModelCheckpoint('/content/salstmkerasembreggs.h5', monitor='val_acc', verbose=1, save_best_only=True, mode='max')\n",
        "red_lr= ReduceLROnPlateau(monitor='val_loss',patience=2,verbose=2,factor=0.001,min_delta=0.01)\n",
        "es = EarlyStopping(monitor='val_loss', patience=3)\n",
        "\n",
        "history = model.fit(X_train, y_train, epochs= 5  , verbose=1,validation_data=(X_test, y_test),callbacks=[mc,es,red_lr])"
      ],
      "execution_count": null,
      "outputs": [
        {
          "output_type": "stream",
          "text": [
            "Train on 318595 samples, validate on 79649 samples\n",
            "Epoch 1/5\n",
            "318595/318595 [==============================] - 1278s 4ms/step - loss: 0.2530 - acc: 0.9063 - val_loss: 0.2954 - val_acc: 0.8886\n",
            "\n",
            "Epoch 00001: val_acc improved from -inf to 0.88861, saving model to /content/salstmkerasembreggs.h5\n",
            "Epoch 2/5\n",
            "318595/318595 [==============================] - 1265s 4ms/step - loss: 0.2676 - acc: 0.9009 - val_loss: 0.3501 - val_acc: 0.8721\n",
            "\n",
            "Epoch 00002: val_acc did not improve from 0.88861\n",
            "Epoch 3/5\n",
            "318595/318595 [==============================] - 1245s 4ms/step - loss: 0.3072 - acc: 0.8827 - val_loss: 0.3279 - val_acc: 0.8708\n",
            "\n",
            "Epoch 00003: val_acc did not improve from 0.88861\n",
            "\n",
            "Epoch 00003: ReduceLROnPlateau reducing learning rate to 1.0000000474974512e-06.\n",
            "Epoch 4/5\n",
            "318595/318595 [==============================] - 1249s 4ms/step - loss: 0.2959 - acc: 0.8837 - val_loss: 0.3301 - val_acc: 0.8711\n",
            "\n",
            "Epoch 00004: val_acc did not improve from 0.88861\n",
            "CPU times: user 1h 45min 16s, sys: 11min 16s, total: 1h 56min 33s\n",
            "Wall time: 1h 24min 1s\n"
          ],
          "name": "stdout"
        }
      ]
    },
    {
      "cell_type": "code",
      "metadata": {
        "id": "G6Hh-hxKfiAW",
        "colab_type": "code",
        "colab": {
          "base_uri": "https://localhost:8080/",
          "height": 407
        },
        "outputId": "64c1c056-520d-43cc-ac3d-32c928dd2d8d"
      },
      "source": [
        "%%time\n",
        "loss, accuracy = model.evaluate(X_train, y_train, verbose=False)\n",
        "print(\"Training Accuracy: {:.4f}\".format(accuracy))\n",
        "loss, accuracy = model.evaluate(X_test, y_test, verbose=False)\n",
        "print(\"Testing Accuracy:  {:.4f}\".format(accuracy))\n",
        "\n",
        "\n",
        "acc = history.history['acc']\n",
        "val_acc = history.history['val_acc']\n",
        "loss = history.history['loss']\n",
        "val_loss = history.history['val_loss']\n",
        "x = range(1, len(acc) + 1)\n",
        "\n",
        "plt.figure(figsize=(12, 5))\n",
        "plt.subplot(1, 2, 1)\n",
        "plt.plot(x, acc, 'b', label='Training acc')\n",
        "plt.plot(x, val_acc, 'r', label='Validation acc')\n",
        "plt.title('Training and validation accuracy')\n",
        "plt.legend()\n",
        "plt.subplot(1, 2, 2)\n",
        "plt.plot(x, loss, 'b', label='Training loss')\n",
        "plt.plot(x, val_loss, 'r', label='Validation loss')\n",
        "plt.title('Training and validation loss')\n",
        "plt.legend()"
      ],
      "execution_count": null,
      "outputs": [
        {
          "output_type": "stream",
          "text": [
            "Training Accuracy: 0.8913\n",
            "Testing Accuracy:  0.8711\n",
            "CPU times: user 9min 1s, sys: 46.2 s, total: 9min 47s\n",
            "Wall time: 7min\n"
          ],
          "name": "stdout"
        },
        {
          "output_type": "display_data",
          "data": {
            "image/png": "[encoded data removed]",
            "text/plain": [
              "<Figure size 864x360 with 2 Axes>"
            ]
          },
          "metadata": {
            "tags": []
          }
        }
      ]
    },
    {
      "cell_type": "code",
      "metadata": {
        "id": "K9mdZR0r_CQn",
        "colab_type": "code",
        "colab": {
          "base_uri": "https://localhost:8080/",
          "height": 34
        },
        "outputId": "4925ee90-1c41-4261-b8d1-d6cdd36b4fe9"
      },
      "source": [
        "model.save_weights(\"/content/preloadmodel.h5\")\n",
        "print(\"Saved model to disk\")"
      ],
      "execution_count": null,
      "outputs": [
        {
          "output_type": "stream",
          "text": [
            "Saved model to disk\n"
          ],
          "name": "stdout"
        }
      ]
    },
    {
      "cell_type": "markdown",
      "metadata": {
        "id": "OvC4CkEOq-Uj",
        "colab_type": "text"
      },
      "source": [
        " Weight Initialization\n",
        "The Keras LSTM layer uses the glorot uniform weight initialization by default. This weight\n",
        "initialization works well in general, but I have had great success using normal type weight\n",
        "initialization with LSTMs. \n",
        "\n",
        "1. random uniform\n",
        "2. random normal\n",
        "3. glorot uniform\n",
        "4. glorot normal"
      ]
    },
    {
      "cell_type": "markdown",
      "metadata": {
        "id": "7daid7HRrdoy",
        "colab_type": "text"
      },
      "source": [
        "bias regularizer: regularization on the bias weights.\n",
        "kernel regularizer: regularization on the input weights.\n",
        "recurrent regularizer: regularization on the recurrent weights.\n",
        "Rather than a percentage as in the case of Dropout, you can use a regularization class such\n",
        "as L1, L2, or L1L2 regularization. I would recommend using L1L2 and use values between 0 and\n",
        "1 that allow to also simulate the L1 and L2 approaches. For example, you could try:\n",
        "\n",
        "1. L1L2(0.0, 0.0), e.g. baseline or no regularization.\n",
        "2. L1L2(0.01, 0.0), e.g. L1.\n",
        "3. L1L2(0.0, 0.01), e.g. L2.\n",
        "4. L1L2(0.01, 0.01), e.g. L1L2 also called elastic net.\n",
        "model.add(LSTM(..., kernel_regularizer=L1L2(0.01, 0.01)))"
      ]
    },
    {
      "cell_type": "markdown",
      "metadata": {
        "id": "AWa7HCuqUeMx",
        "colab_type": "text"
      },
      "source": [
        "# TYPES - 1, 2 & 3"
      ]
    },
    {
      "cell_type": "code",
      "metadata": {
        "id": "Vay8EumcUhKl",
        "colab_type": "code",
        "colab": {}
      },
      "source": [
        "\n",
        "import time\n",
        "from tqdm import tqdm\n",
        "import math\n",
        "from sklearn.model_selection import train_test_split\n",
        "from sklearn import metrics\n",
        "from sklearn.metrics import f1_score\n",
        "\n",
        "from keras.preprocessing import text, sequence\n",
        "from keras.preprocessing.text import Tokenizer\n",
        "from keras.preprocessing.sequence import pad_sequences\n",
        "from keras.layers import Dense, Input, LSTM, Embedding, Dropout, Activation, CuDNNGRU, Conv1D, CuDNNLSTM, Conv2D, MaxPool2D\n",
        "from keras.layers import Bidirectional, GlobalMaxPool1D, Reshape, Flatten, Concatenate, Dropout, SpatialDropout1D,GlobalAveragePooling1D, GlobalMaxPooling1D\n",
        "from keras.models import Model\n",
        "from keras.callbacks import *\n",
        "from keras import initializers, regularizers, constraints, optimizers, layers\n",
        "from keras.layers import concatenate\n",
        "\n",
        "\n",
        "\n",
        "import os\n",
        "os.environ['TF_CPP_MIN_LOG_LEVEL'] = '3' \n",
        "import tensorflow as tf\n",
        "try:\n",
        "    from tensorflow.python.util import module_wrapper as deprecation\n",
        "except ImportError:\n",
        "    from tensorflow.python.util import deprecation_wrapper as deprecation\n",
        "deprecation._PER_MODULE_WARNING_LIMIT = 0\n",
        "\n",
        "from tensorflow.python.util import deprecation\n",
        "deprecation._PRINT_DEPRECATION_WARNINGS = False\n",
        "\n",
        "class F1Evaluation(Callback):\n",
        "    def __init__(self, validation_data=(), interval=1):\n",
        "        super(Callback, self).__init__()\n",
        "\n",
        "        self.interval = interval\n",
        "        self.X_val, self.y_val = validation_data\n",
        "\n",
        "    def on_epoch_end(self, epoch, logs={}):\n",
        "        if epoch % self.interval == 0:\n",
        "            y_pred = self.model.predict(self.X_val, verbose=0)\n",
        "            y_pred = (y_pred > threshold).astype(int)\n",
        "            score = f1_score(self.y_val, y_pred)\n",
        "            print(\"\\n F1 Score - epoch: %d - score: %.6f \\n\" % (epoch+1, score))\n"
      ],
      "execution_count": null,
      "outputs": []
    },
    {
      "cell_type": "code",
      "metadata": {
        "id": "w2oD5JSlVofm",
        "colab_type": "code",
        "colab": {
          "base_uri": "https://localhost:8080/",
          "height": 1000
        },
        "outputId": "9401690e-9a42-4775-e8b5-0b591047c7b2"
      },
      "source": [
        "%%time\n",
        "\n",
        "def model_cnn():\n",
        "    filter_sizes = [1,2,3,5]\n",
        "    num_filters = 36\n",
        "\n",
        "    inp = Input(shape=(maxlen,))\n",
        "    x = Embedding(max_features, embed_size)(inp)\n",
        "    x = Reshape((maxlen, embed_size, 1))(x)\n",
        "    print(\"MAXLEN is {} and EMBED SIZE {}\".format(maxlen,embed_size))\n",
        "\n",
        "    maxpool_pool = []\n",
        "    for i in range(len(filter_sizes)):\n",
        "        conv = Conv2D(num_filters, kernel_size=(filter_sizes[i], embed_size),\n",
        "                                     kernel_initializer='he_normal', activation='relu')(x)\n",
        "        maxpool_pool.append(MaxPool2D(pool_size=(maxlen - filter_sizes[i] + 1, 1))(conv))\n",
        "\n",
        "    z = Concatenate(axis=1)(maxpool_pool)   \n",
        "    z = Flatten()(z)\n",
        "    z = Dropout(0.1)(z) # 0.1 -> 0.5\n",
        "\n",
        "    outp = Dense(1, activation=\"sigmoid\")(z)\n",
        "\n",
        "    model = Model(inputs=inp, outputs=outp)\n",
        "    model.compile(loss='binary_crossentropy', optimizer='adam', metrics=['accuracy'])\n",
        "    \n",
        "    return model\n",
        "\n",
        "model = model_cnn()\n",
        "print(model.summary())\n",
        "\n",
        "################################################################################\n",
        "\n",
        "F1_Score = F1Evaluation(validation_data=(X_test, y_test), interval=1)\n",
        "mc = ModelCheckpoint('/content/SA-model-type-1.h5', monitor='val_acc', verbose=1, save_best_only=True, mode='max')\n",
        "es = EarlyStopping(monitor='val_acc', patience=3)\n",
        "\n",
        "history = model.fit(X_train, y_train, batch_size=256, epochs=10,validation_data=(X_test, y_test),callbacks=[F1_Score,mc,es], verbose=1)\n",
        "\n",
        "################################################################################\n",
        "\n",
        "loss, accuracy = model.evaluate(X_train, y_train, verbose=False)\n",
        "print(\"Training Accuracy: {:.4f}\".format(accuracy))\n",
        "loss, accuracy = model.evaluate(X_test, y_test, verbose=False)\n",
        "print(\"Testing Accuracy:  {:.4f}\".format(accuracy))\n",
        "\n",
        "acc = history.history['acc']\n",
        "val_acc = history.history['val_acc']\n",
        "loss = history.history['loss']\n",
        "val_loss = history.history['val_loss']\n",
        "x = range(1, len(acc) + 1)\n",
        "\n",
        "plt.figure(figsize=(12, 5))\n",
        "plt.subplot(1, 2, 1)\n",
        "plt.plot(x, acc, 'b', label='Training acc')\n",
        "plt.plot(x, val_acc, 'r', label='Validation acc')\n",
        "plt.title('Training and validation accuracy')\n",
        "plt.legend()\n",
        "plt.subplot(1, 2, 2)\n",
        "plt.plot(x, loss, 'b', label='Training loss')\n",
        "plt.plot(x, val_loss, 'r', label='Validation loss')\n",
        "plt.title('Training and validation loss')\n",
        "plt.legend()\n",
        "plt.show()"
      ],
      "execution_count": null,
      "outputs": [
        {
          "output_type": "stream",
          "text": [
            "MAXLEN is 300 and EMBED SIZE 300\n",
            "Model: \"model_3\"\n",
            "__________________________________________________________________________________________________\n",
            "Layer (type)                    Output Shape         Param #     Connected to                     \n",
            "==================================================================================================\n",
            "input_4 (InputLayer)            (None, 300)          0                                            \n",
            "__________________________________________________________________________________________________\n",
            "embedding_4 (Embedding)         (None, 300, 300)     15000000    input_4[0][0]                    \n",
            "__________________________________________________________________________________________________\n",
            "reshape_3 (Reshape)             (None, 300, 300, 1)  0           embedding_4[0][0]                \n",
            "__________________________________________________________________________________________________\n",
            "conv2d_9 (Conv2D)               (None, 300, 1, 36)   10836       reshape_3[0][0]                  \n",
            "__________________________________________________________________________________________________\n",
            "conv2d_10 (Conv2D)              (None, 299, 1, 36)   21636       reshape_3[0][0]                  \n",
            "__________________________________________________________________________________________________\n",
            "conv2d_11 (Conv2D)              (None, 298, 1, 36)   32436       reshape_3[0][0]                  \n",
            "__________________________________________________________________________________________________\n",
            "conv2d_12 (Conv2D)              (None, 296, 1, 36)   54036       reshape_3[0][0]                  \n",
            "__________________________________________________________________________________________________\n",
            "max_pooling2d_9 (MaxPooling2D)  (None, 1, 1, 36)     0           conv2d_9[0][0]                   \n",
            "__________________________________________________________________________________________________\n",
            "max_pooling2d_10 (MaxPooling2D) (None, 1, 1, 36)     0           conv2d_10[0][0]                  \n",
            "__________________________________________________________________________________________________\n",
            "max_pooling2d_11 (MaxPooling2D) (None, 1, 1, 36)     0           conv2d_11[0][0]                  \n",
            "__________________________________________________________________________________________________\n",
            "max_pooling2d_12 (MaxPooling2D) (None, 1, 1, 36)     0           conv2d_12[0][0]                  \n",
            "__________________________________________________________________________________________________\n",
            "concatenate_3 (Concatenate)     (None, 4, 1, 36)     0           max_pooling2d_9[0][0]            \n",
            "                                                                 max_pooling2d_10[0][0]           \n",
            "                                                                 max_pooling2d_11[0][0]           \n",
            "                                                                 max_pooling2d_12[0][0]           \n",
            "__________________________________________________________________________________________________\n",
            "flatten_3 (Flatten)             (None, 144)          0           concatenate_3[0][0]              \n",
            "__________________________________________________________________________________________________\n",
            "dropout_3 (Dropout)             (None, 144)          0           flatten_3[0][0]                  \n",
            "__________________________________________________________________________________________________\n",
            "dense_3 (Dense)                 (None, 1)            145         dropout_3[0][0]                  \n",
            "==================================================================================================\n",
            "Total params: 15,119,089\n",
            "Trainable params: 15,119,089\n",
            "Non-trainable params: 0\n",
            "__________________________________________________________________________________________________\n",
            "None\n",
            "Train on 318595 samples, validate on 79649 samples\n",
            "Epoch 1/10\n",
            "318595/318595 [==============================] - 234s 735us/step - loss: 0.3077 - acc: 0.8708 - val_loss: 0.2638 - val_acc: 0.8923\n",
            "\n",
            " F1 Score - epoch: 1 - score: 0.887438 \n",
            "\n",
            "\n",
            "Epoch 00001: val_acc improved from -inf to 0.89234, saving model to /content/SA-model-type-1.h5\n",
            "Epoch 2/10\n",
            "318595/318595 [==============================] - 233s 731us/step - loss: 0.2307 - acc: 0.9094 - val_loss: 0.2621 - val_acc: 0.8940\n",
            "\n",
            " F1 Score - epoch: 2 - score: 0.893364 \n",
            "\n",
            "\n",
            "Epoch 00002: val_acc improved from 0.89234 to 0.89396, saving model to /content/SA-model-type-1.h5\n",
            "Epoch 3/10\n",
            "318595/318595 [==============================] - 233s 730us/step - loss: 0.1804 - acc: 0.9328 - val_loss: 0.2779 - val_acc: 0.8919\n",
            "\n",
            " F1 Score - epoch: 3 - score: 0.891502 \n",
            "\n",
            "\n",
            "Epoch 00003: val_acc did not improve from 0.89396\n",
            "Epoch 4/10\n",
            "318595/318595 [==============================] - 232s 730us/step - loss: 0.1358 - acc: 0.9513 - val_loss: 0.3091 - val_acc: 0.8855\n",
            "\n",
            " F1 Score - epoch: 4 - score: 0.884748 \n",
            "\n",
            "\n",
            "Epoch 00004: val_acc did not improve from 0.89396\n",
            "Epoch 5/10\n",
            "318595/318595 [==============================] - 232s 729us/step - loss: 0.1036 - acc: 0.9639 - val_loss: 0.3541 - val_acc: 0.8804\n",
            "\n",
            " F1 Score - epoch: 5 - score: 0.878687 \n",
            "\n",
            "\n",
            "Epoch 00005: val_acc did not improve from 0.89396\n",
            "Training Accuracy: 0.9795\n",
            "Testing Accuracy:  0.8804\n"
          ],
          "name": "stdout"
        },
        {
          "output_type": "error",
          "ename": "NameError",
          "evalue": "ignored",
          "traceback": [
            "\u001b[0;31m---------------------------------------------------------------------------\u001b[0m",
            "\u001b[0;31mNameError\u001b[0m                                 Traceback (most recent call last)",
            "\u001b[0;32m<ipython-input-15-37a4d112cf8f>\u001b[0m in \u001b[0;36m<module>\u001b[0;34m()\u001b[0m\n\u001b[1;32m     49\u001b[0m \u001b[0mx\u001b[0m \u001b[0;34m=\u001b[0m \u001b[0mrange\u001b[0m\u001b[0;34m(\u001b[0m\u001b[0;36m1\u001b[0m\u001b[0;34m,\u001b[0m \u001b[0mlen\u001b[0m\u001b[0;34m(\u001b[0m\u001b[0macc\u001b[0m\u001b[0;34m)\u001b[0m \u001b[0;34m+\u001b[0m \u001b[0;36m1\u001b[0m\u001b[0;34m)\u001b[0m\u001b[0;34m\u001b[0m\u001b[0;34m\u001b[0m\u001b[0m\n\u001b[1;32m     50\u001b[0m \u001b[0;34m\u001b[0m\u001b[0m\n\u001b[0;32m---> 51\u001b[0;31m \u001b[0mplt\u001b[0m\u001b[0;34m.\u001b[0m\u001b[0mfigure\u001b[0m\u001b[0;34m(\u001b[0m\u001b[0mfigsize\u001b[0m\u001b[0;34m=\u001b[0m\u001b[0;34m(\u001b[0m\u001b[0;36m12\u001b[0m\u001b[0;34m,\u001b[0m \u001b[0;36m5\u001b[0m\u001b[0;34m)\u001b[0m\u001b[0;34m)\u001b[0m\u001b[0;34m\u001b[0m\u001b[0;34m\u001b[0m\u001b[0m\n\u001b[0m\u001b[1;32m     52\u001b[0m \u001b[0mplt\u001b[0m\u001b[0;34m.\u001b[0m\u001b[0msubplot\u001b[0m\u001b[0;34m(\u001b[0m\u001b[0;36m1\u001b[0m\u001b[0;34m,\u001b[0m \u001b[0;36m2\u001b[0m\u001b[0;34m,\u001b[0m \u001b[0;36m1\u001b[0m\u001b[0;34m)\u001b[0m\u001b[0;34m\u001b[0m\u001b[0;34m\u001b[0m\u001b[0m\n\u001b[1;32m     53\u001b[0m \u001b[0mplt\u001b[0m\u001b[0;34m.\u001b[0m\u001b[0mplot\u001b[0m\u001b[0;34m(\u001b[0m\u001b[0mx\u001b[0m\u001b[0;34m,\u001b[0m \u001b[0macc\u001b[0m\u001b[0;34m,\u001b[0m \u001b[0;34m'b'\u001b[0m\u001b[0;34m,\u001b[0m \u001b[0mlabel\u001b[0m\u001b[0;34m=\u001b[0m\u001b[0;34m'Training acc'\u001b[0m\u001b[0;34m)\u001b[0m\u001b[0;34m\u001b[0m\u001b[0;34m\u001b[0m\u001b[0m\n",
            "\u001b[0;31mNameError\u001b[0m: name 'plt' is not defined"
          ]
        }
      ]
    },
    {
      "cell_type": "code",
      "metadata": {
        "id": "FpYGiC4KcLn3",
        "colab_type": "code",
        "colab": {
          "base_uri": "https://localhost:8080/",
          "height": 336
        },
        "outputId": "63106035-4c1a-4bee-d9bd-f4caa3397990"
      },
      "source": [
        ""
      ],
      "execution_count": null,
      "outputs": [
        {
          "output_type": "display_data",
          "data": {
            "image/png": "[encoded data removed]",
            "text/plain": [
              "<Figure size 864x360 with 2 Axes>"
            ]
          },
          "metadata": {
            "tags": []
          }
        }
      ]
    },
    {
      "cell_type": "code",
      "metadata": {
        "id": "oCEXCofdWFpN",
        "colab_type": "code",
        "colab": {
          "base_uri": "https://localhost:8080/",
          "height": 1000
        },
        "outputId": "62bf4599-3dfd-4ecb-b14f-ce547b7a8a3f"
      },
      "source": [
        "%%time\n",
        "\n",
        "# BiDirectional LSTM\n",
        "\n",
        "def model_lstm_du():\n",
        "    inp = Input(shape=(maxlen,))\n",
        "    x = Embedding(max_features, embed_size)(inp)\n",
        "    x = Bidirectional(CuDNNLSTM(96, return_sequences=True))(x)\n",
        "    avg_pool = GlobalAveragePooling1D()(x)\n",
        "    max_pool = GlobalMaxPooling1D()(x)\n",
        "    conc = concatenate([avg_pool, max_pool])\n",
        "    conc = Dense(64, activation=\"relu\")(conc)\n",
        "    conc = Dropout(0.4)(conc)\n",
        "    outp = Dense(1, activation=\"sigmoid\")(conc)\n",
        "    model = Model(inputs=inp, outputs=outp)\n",
        "    model.compile(loss='binary_crossentropy', optimizer='adam', metrics=['accuracy'])\n",
        "    return model\n",
        "\n",
        "\n",
        "model2 = model_lstm_du()\n",
        "print(model2.summary())\n",
        "\n",
        "################################################################################\n",
        "\n",
        "F1_Score = F1Evaluation(validation_data=(X_test, y_test), interval=1)\n",
        "mc = ModelCheckpoint('/content/SA-model-type-2.h5', monitor='val_acc', verbose=1, save_best_only=True, mode='max')\n",
        "es = EarlyStopping(monitor='val_acc', patience=3)\n",
        "\n",
        "history = model2.fit(X_train, y_train, batch_size=256, epochs=10,validation_data=(X_test, y_test),callbacks=[F1_Score,mc,es], verbose=1)\n",
        "\n",
        "################################################################################\n",
        "\n",
        "loss, accuracy = model2.evaluate(X_train, y_train, verbose=False)\n",
        "print(\"Training Accuracy: {:.4f}\".format(accuracy))\n",
        "loss, accuracy = model2.evaluate(X_test, y_test, verbose=False)\n",
        "print(\"Testing Accuracy:  {:.4f}\".format(accuracy))\n",
        "\n",
        "acc = history.history['acc']\n",
        "val_acc = history.history['val_acc']\n",
        "loss = history.history['loss']\n",
        "val_loss = history.history['val_loss']\n",
        "x = range(1, len(acc) + 1)\n",
        "\n",
        "plt.figure(figsize=(12, 5))\n",
        "plt.subplot(1, 2, 1)\n",
        "plt.plot(x, acc, 'b', label='Training acc')\n",
        "plt.plot(x, val_acc, 'r', label='Validation acc')\n",
        "plt.title('Training and validation accuracy')\n",
        "plt.legend()\n",
        "plt.subplot(1, 2, 2)\n",
        "plt.plot(x, loss, 'b', label='Training loss')\n",
        "plt.plot(x, val_loss, 'r', label='Validation loss')\n",
        "plt.title('Training and validation loss')\n",
        "plt.legend()\n",
        "plt.show()"
      ],
      "execution_count": null,
      "outputs": [
        {
          "output_type": "stream",
          "text": [
            "Model: \"model_4\"\n",
            "__________________________________________________________________________________________________\n",
            "Layer (type)                    Output Shape         Param #     Connected to                     \n",
            "==================================================================================================\n",
            "input_11 (InputLayer)           (None, 300)          0                                            \n",
            "__________________________________________________________________________________________________\n",
            "embedding_11 (Embedding)        (None, 300, 300)     15000000    input_11[0][0]                   \n",
            "__________________________________________________________________________________________________\n",
            "bidirectional_8 (Bidirectional) (None, 300, 192)     305664      embedding_11[0][0]               \n",
            "__________________________________________________________________________________________________\n",
            "global_average_pooling1d_6 (Glo (None, 192)          0           bidirectional_8[0][0]            \n",
            "__________________________________________________________________________________________________\n",
            "global_max_pooling1d_6 (GlobalM (None, 192)          0           bidirectional_8[0][0]            \n",
            "__________________________________________________________________________________________________\n",
            "concatenate_6 (Concatenate)     (None, 384)          0           global_average_pooling1d_6[0][0] \n",
            "                                                                 global_max_pooling1d_6[0][0]     \n",
            "__________________________________________________________________________________________________\n",
            "dense_6 (Dense)                 (None, 64)           24640       concatenate_6[0][0]              \n",
            "__________________________________________________________________________________________________\n",
            "dropout_4 (Dropout)             (None, 64)           0           dense_6[0][0]                    \n",
            "__________________________________________________________________________________________________\n",
            "dense_7 (Dense)                 (None, 1)            65          dropout_4[0][0]                  \n",
            "==================================================================================================\n",
            "Total params: 15,330,369\n",
            "Trainable params: 15,330,369\n",
            "Non-trainable params: 0\n",
            "__________________________________________________________________________________________________\n",
            "None\n",
            "Train on 318595 samples, validate on 79649 samples\n",
            "Epoch 1/10\n",
            "318595/318595 [==============================] - 310s 972us/step - loss: 0.3009 - acc: 0.8744 - val_loss: 0.2524 - val_acc: 0.8970\n",
            "\n",
            " F1 Score - epoch: 1 - score: 0.895040 \n",
            "\n",
            "\n",
            "Epoch 00001: val_acc improved from -inf to 0.89705, saving model to /content/SA-model-type-2.h5\n",
            "Epoch 2/10\n",
            "318595/318595 [==============================] - 309s 969us/step - loss: 0.2272 - acc: 0.9115 - val_loss: 0.2465 - val_acc: 0.9000\n",
            "\n",
            " F1 Score - epoch: 2 - score: 0.895491 \n",
            "\n",
            "\n",
            "Epoch 00002: val_acc improved from 0.89705 to 0.89996, saving model to /content/SA-model-type-2.h5\n",
            "Epoch 3/10\n",
            "318595/318595 [==============================] - 308s 967us/step - loss: 0.1886 - acc: 0.9280 - val_loss: 0.2662 - val_acc: 0.8967\n",
            "\n",
            " F1 Score - epoch: 3 - score: 0.894484 \n",
            "\n",
            "\n",
            "Epoch 00003: val_acc did not improve from 0.89996\n",
            "Epoch 4/10\n",
            "318595/318595 [==============================] - 309s 968us/step - loss: 0.1531 - acc: 0.9421 - val_loss: 0.2937 - val_acc: 0.8939\n",
            "\n",
            " F1 Score - epoch: 4 - score: 0.893260 \n",
            "\n",
            "\n",
            "Epoch 00004: val_acc did not improve from 0.89996\n",
            "Epoch 5/10\n",
            "318595/318595 [==============================] - 308s 968us/step - loss: 0.1232 - acc: 0.9536 - val_loss: 0.3601 - val_acc: 0.8889\n",
            "\n",
            " F1 Score - epoch: 5 - score: 0.887392 \n",
            "\n",
            "\n",
            "Epoch 00005: val_acc did not improve from 0.89996\n",
            "Training Accuracy: 0.9649\n",
            "Testing Accuracy:  0.8889\n"
          ],
          "name": "stdout"
        },
        {
          "output_type": "display_data",
          "data": {
            "image/png": "[encoded data removed]",
            "text/plain": [
              "<Figure size 864x360 with 2 Axes>"
            ]
          },
          "metadata": {
            "tags": []
          }
        },
        {
          "output_type": "stream",
          "text": [
            "CPU times: user 25min 4s, sys: 10min 45s, total: 35min 50s\n",
            "Wall time: 39min 15s\n"
          ],
          "name": "stdout"
        }
      ]
    },
    {
      "cell_type": "code",
      "metadata": {
        "id": "cIf3iucGWeFE",
        "colab_type": "code",
        "colab": {
          "base_uri": "https://localhost:8080/",
          "height": 1000
        },
        "outputId": "d7cd957d-0855-433e-827d-23bbdbe60031"
      },
      "source": [
        "%%time\n",
        "from keras.engine.topology import Layer\n",
        "\n",
        "def dot_product(x, kernel):\n",
        "    \"\"\"\n",
        "    Wrapper for dot product operation, in order to be compatible with both\n",
        "    Theano and Tensorflow\n",
        "    Args:\n",
        "        x (): input\n",
        "        kernel (): weights\n",
        "    Returns:\n",
        "    \"\"\"\n",
        "    if K.backend() == 'tensorflow':\n",
        "        return K.squeeze(K.dot(x, K.expand_dims(kernel)), axis=-1)\n",
        "    else:\n",
        "        return K.dot(x, kernel)\n",
        "    \n",
        "\n",
        "class AttentionWithContext(Layer):\n",
        "    \"\"\"\n",
        "    Attention operation, with a context/query vector, for temporal data.\n",
        "    Supports Masking.\n",
        "    Follows the work of Yang et al. [https://www.cs.cmu.edu/~diyiy/docs/naacl16.pdf]\n",
        "    \"Hierarchical Attention Networks for Document Classification\"\n",
        "    by using a context vector to assist the attention\n",
        "    # Input shape\n",
        "        3D tensor with shape: `(samples, steps, features)`.\n",
        "    # Output shape\n",
        "        2D tensor with shape: `(samples, features)`.\n",
        "    How to use:\n",
        "    Just put it on top of an RNN Layer (GRU/LSTM/SimpleRNN) with return_sequences=True.\n",
        "    The dimensions are inferred based on the output shape of the RNN.\n",
        "    Note: The layer has been tested with Keras 2.0.6\n",
        "    Example:\n",
        "        model.add(LSTM(64, return_sequences=True))\n",
        "        model.add(AttentionWithContext())\n",
        "        # next add a Dense layer (for classification/regression) or whatever...\n",
        "    \"\"\"\n",
        "\n",
        "    def __init__(self,\n",
        "                 W_regularizer=None, u_regularizer=None, b_regularizer=None,\n",
        "                 W_constraint=None, u_constraint=None, b_constraint=None,\n",
        "                 bias=True, **kwargs):\n",
        "\n",
        "        self.supports_masking = True\n",
        "        self.init = initializers.get('glorot_uniform')\n",
        "\n",
        "        self.W_regularizer = regularizers.get(W_regularizer)\n",
        "        self.u_regularizer = regularizers.get(u_regularizer)\n",
        "        self.b_regularizer = regularizers.get(b_regularizer)\n",
        "\n",
        "        self.W_constraint = constraints.get(W_constraint)\n",
        "        self.u_constraint = constraints.get(u_constraint)\n",
        "        self.b_constraint = constraints.get(b_constraint)\n",
        "\n",
        "        self.bias = bias\n",
        "        super(AttentionWithContext, self).__init__(**kwargs)\n",
        "\n",
        "    def build(self, input_shape):\n",
        "        assert len(input_shape) == 3\n",
        "\n",
        "        self.W = self.add_weight((input_shape[-1], input_shape[-1],),\n",
        "                                 initializer=self.init,\n",
        "                                 name='{}_W'.format(self.name),\n",
        "                                 regularizer=self.W_regularizer,\n",
        "                                 constraint=self.W_constraint)\n",
        "        if self.bias:\n",
        "            self.b = self.add_weight((input_shape[-1],),\n",
        "                                     initializer='zero',\n",
        "                                     name='{}_b'.format(self.name),\n",
        "                                     regularizer=self.b_regularizer,\n",
        "                                     constraint=self.b_constraint)\n",
        "\n",
        "        self.u = self.add_weight((input_shape[-1],),\n",
        "                                 initializer=self.init,\n",
        "                                 name='{}_u'.format(self.name),\n",
        "                                 regularizer=self.u_regularizer,\n",
        "                                 constraint=self.u_constraint)\n",
        "\n",
        "        super(AttentionWithContext, self).build(input_shape)\n",
        "\n",
        "    def compute_mask(self, input, input_mask=None):\n",
        "        # do not pass the mask to the next layers\n",
        "        return None\n",
        "\n",
        "    def call(self, x, mask=None):\n",
        "        uit = dot_product(x, self.W)\n",
        "\n",
        "        if self.bias:\n",
        "            uit += self.b\n",
        "\n",
        "        uit = K.tanh(uit)\n",
        "        ait = dot_product(uit, self.u)\n",
        "\n",
        "        a = K.exp(ait)\n",
        "\n",
        "        # apply mask after the exp. will be re-normalized next\n",
        "        if mask is not None:\n",
        "            # Cast the mask to floatX to avoid float64 upcasting in theano\n",
        "            a *= K.cast(mask, K.floatx())\n",
        "\n",
        "        # in some cases especially in the early stages of training the sum may be almost zero\n",
        "        # and this results in NaN's. A workaround is to add a very small positive number ε to the sum.\n",
        "        # a /= K.cast(K.sum(a, axis=1, keepdims=True), K.floatx())\n",
        "        a /= K.cast(K.sum(a, axis=1, keepdims=True) + K.epsilon(), K.floatx())\n",
        "\n",
        "        a = K.expand_dims(a)\n",
        "        weighted_input = x * a\n",
        "        return K.sum(weighted_input, axis=1)\n",
        "\n",
        "    def compute_output_shape(self, input_shape):\n",
        "        return input_shape[0], input_shape[-1]\n",
        "\n",
        "\n",
        "def model_lstm_atten():\n",
        "    inp = Input(shape=(maxlen,))\n",
        "    x = Embedding(max_features, embed_size)(inp)\n",
        "    x = Bidirectional(CuDNNLSTM(128, return_sequences=True))(x)\n",
        "    x = Bidirectional(CuDNNLSTM(64, return_sequences=True))(x)\n",
        "    x = AttentionWithContext()(x)\n",
        "    x = Dense(64, activation=\"relu\")(x)\n",
        "    x = Dense(1, activation=\"sigmoid\")(x)\n",
        "    model = Model(inputs=inp, outputs=x)\n",
        "    model.compile(loss='binary_crossentropy', optimizer='adam', metrics=['accuracy'])\n",
        "    return model\n",
        "\n",
        "\n",
        "model3 = model_lstm_atten()\n",
        "print(model3.summary())\n",
        "\n",
        "################################################################################\n",
        "\n",
        "F1_Score = F1Evaluation(validation_data=(X_test, y_test), interval=1)\n",
        "mc = ModelCheckpoint('/content/SA-model-type-3.h5', monitor='val_acc', verbose=1, save_best_only=True, mode='max')\n",
        "es = EarlyStopping(monitor='val_acc', patience=3)\n",
        "\n",
        "history = model3.fit(X_train, y_train, batch_size=256, epochs=10,validation_data=(X_test, y_test),callbacks=[F1_Score,mc,es], verbose=1)\n",
        "\n",
        "################################################################################\n",
        "\n",
        "loss, accuracy = model3.evaluate(X_train, y_train, verbose=False)\n",
        "print(\"Training Accuracy: {:.4f}\".format(accuracy))\n",
        "loss, accuracy = model3.evaluate(X_test, y_test, verbose=False)\n",
        "print(\"Testing Accuracy:  {:.4f}\".format(accuracy))\n",
        "\n",
        "acc = history.history['acc']\n",
        "val_acc = history.history['val_acc']\n",
        "loss = history.history['loss']\n",
        "val_loss = history.history['val_loss']\n",
        "x = range(1, len(acc) + 1)\n",
        "\n",
        "plt.figure(figsize=(12, 5))\n",
        "plt.subplot(1, 2, 1)\n",
        "plt.plot(x, acc, 'b', label='Training acc')\n",
        "plt.plot(x, val_acc, 'r', label='Validation acc')\n",
        "plt.title('Training and validation accuracy')\n",
        "plt.legend()\n",
        "plt.subplot(1, 2, 2)\n",
        "plt.plot(x, loss, 'b', label='Training loss')\n",
        "plt.plot(x, val_loss, 'r', label='Validation loss')\n",
        "plt.title('Training and validation loss')\n",
        "plt.legend()\n",
        "plt.show()"
      ],
      "execution_count": null,
      "outputs": [
        {
          "output_type": "stream",
          "text": [
            "Model: \"model_5\"\n",
            "_________________________________________________________________\n",
            "Layer (type)                 Output Shape              Param #   \n",
            "=================================================================\n",
            "input_13 (InputLayer)        (None, 300)               0         \n",
            "_________________________________________________________________\n",
            "embedding_13 (Embedding)     (None, 300, 300)          15000000  \n",
            "_________________________________________________________________\n",
            "bidirectional_11 (Bidirectio (None, 300, 256)          440320    \n",
            "_________________________________________________________________\n",
            "bidirectional_12 (Bidirectio (None, 300, 128)          164864    \n",
            "_________________________________________________________________\n",
            "attention_with_context_1 (At (None, 128)               16640     \n",
            "_________________________________________________________________\n",
            "dense_8 (Dense)              (None, 64)                8256      \n",
            "_________________________________________________________________\n",
            "dense_9 (Dense)              (None, 1)                 65        \n",
            "=================================================================\n",
            "Total params: 15,630,145\n",
            "Trainable params: 15,630,145\n",
            "Non-trainable params: 0\n",
            "_________________________________________________________________\n",
            "None\n",
            "Train on 318595 samples, validate on 79649 samples\n",
            "Epoch 1/10\n",
            "318595/318595 [==============================] - 562s 2ms/step - loss: 0.3043 - acc: 0.8692 - val_loss: 0.2594 - val_acc: 0.8951\n",
            "\n",
            " F1 Score - epoch: 1 - score: 0.893860 \n",
            "\n",
            "\n",
            "Epoch 00001: val_acc improved from -inf to 0.89505, saving model to /content/model-type-3.h5\n",
            "Epoch 2/10\n",
            "318595/318595 [==============================] - 555s 2ms/step - loss: 0.2279 - acc: 0.9095 - val_loss: 0.2553 - val_acc: 0.8980\n",
            "\n",
            " F1 Score - epoch: 2 - score: 0.896756 \n",
            "\n",
            "\n",
            "Epoch 00002: val_acc improved from 0.89505 to 0.89804, saving model to /content/model-type-3.h5\n",
            "Epoch 3/10\n",
            "318595/318595 [==============================] - 555s 2ms/step - loss: 0.1930 - acc: 0.9249 - val_loss: 0.2606 - val_acc: 0.8957\n",
            "\n",
            " F1 Score - epoch: 3 - score: 0.893109 \n",
            "\n",
            "\n",
            "Epoch 00003: val_acc did not improve from 0.89804\n",
            "Epoch 4/10\n",
            "318595/318595 [==============================] - 559s 2ms/step - loss: 0.1626 - acc: 0.9380 - val_loss: 0.2843 - val_acc: 0.8952\n",
            "\n",
            " F1 Score - epoch: 4 - score: 0.893393 \n",
            "\n",
            "\n",
            "Epoch 00004: val_acc did not improve from 0.89804\n",
            "Epoch 5/10\n",
            "318595/318595 [==============================] - 557s 2ms/step - loss: 0.1355 - acc: 0.9488 - val_loss: 0.3184 - val_acc: 0.8924\n",
            "\n",
            " F1 Score - epoch: 5 - score: 0.891164 \n",
            "\n",
            "\n",
            "Epoch 00005: val_acc did not improve from 0.89804\n",
            "Training Accuracy: 0.9623\n",
            "Testing Accuracy:  0.8924\n"
          ],
          "name": "stdout"
        },
        {
          "output_type": "display_data",
          "data": {
            "image/png": "[encoded data removed]",
            "text/plain": [
              "<Figure size 864x360 with 2 Axes>"
            ]
          },
          "metadata": {
            "tags": []
          }
        },
        {
          "output_type": "stream",
          "text": [
            "CPU times: user 52min 11s, sys: 22min 41s, total: 1h 14min 53s\n",
            "Wall time: 1h 21min 13s\n"
          ],
          "name": "stdout"
        }
      ]
    },
    {
      "cell_type": "code",
      "metadata": {
        "id": "VjSqMYSQzECk",
        "colab_type": "code",
        "colab": {
          "base_uri": "https://localhost:8080/",
          "height": 621
        },
        "outputId": "e0722d90-1d4b-492d-d86a-7ca4701458f7"
      },
      "source": [
        "%%time\n",
        "\n",
        "from sklearn.metrics import confusion_matrix\n",
        "import seaborn as sns\n",
        "import matplotlib.pyplot as plt\n",
        "from sklearn.metrics import accuracy_score\n",
        "from sklearn.metrics import classification_report\n",
        "\n",
        "pred1 = model.predict(X_train)\n",
        "pred2 = model2.predict(X_train)\n",
        "pred3 = model3.predict(X_train)\n",
        "\n",
        "pred = 0.33*pred1 + 0.33*pred2 + 0.34*pred3\n",
        "pred = (pred > 0.35).astype(int)\n",
        "\n",
        "cm = confusion_matrix(y_train,pred)\n",
        "print(cm)\n",
        "print()\n",
        "print(classification_report(y_train,pred))\n",
        "print()\n",
        "print(\"Training_accuracy_score :\",accuracy_score(y_train, pred))\n",
        "print()\n",
        "\n",
        "print(\"##########################################################################\")\n",
        "print()\n",
        "\n",
        "##########################################################################\n",
        "\n",
        "pred1 = model.predict(X_test)\n",
        "pred2 = model2.predict(X_test)\n",
        "pred3 = model3.predict(X_test)\n",
        "\n",
        "pred = 0.33*pred1 + 0.33*pred2 + 0.34*pred3\n",
        "pred = (pred > 0.35).astype(int)\n",
        "\n",
        "cm = confusion_matrix(y_test,pred)\n",
        "print(cm)\n",
        "print()\n",
        "print(classification_report(y_test,pred))\n",
        "print()\n",
        "print(\"Testing_accuracy_score :\",accuracy_score(y_test, pred))\n",
        "print()"
      ],
      "execution_count": null,
      "outputs": [
        {
          "output_type": "stream",
          "text": [
            "[[151755   7928]\n",
            " [  1347 157565]]\n",
            "\n",
            "Training_classification_report               precision    recall  f1-score   support\n",
            "\n",
            "         0.0       0.99      0.95      0.97    159683\n",
            "         1.0       0.95      0.99      0.97    158912\n",
            "\n",
            "    accuracy                           0.97    318595\n",
            "   macro avg       0.97      0.97      0.97    318595\n",
            "weighted avg       0.97      0.97      0.97    318595\n",
            "\n",
            "\n",
            "Training_accuracy_score : 0.9708878042656036\n",
            "\n",
            "##########################################################################\n",
            "\n",
            "[[33768  6184]\n",
            " [ 2569 37128]]\n",
            "\n",
            "Testing_classification_report               precision    recall  f1-score   support\n",
            "\n",
            "         0.0       0.93      0.85      0.89     39952\n",
            "         1.0       0.86      0.94      0.89     39697\n",
            "\n",
            "    accuracy                           0.89     79649\n",
            "   macro avg       0.89      0.89      0.89     79649\n",
            "weighted avg       0.89      0.89      0.89     79649\n",
            "\n",
            "\n",
            "Testing_accuracy_score : 0.8901053371668194\n",
            "\n",
            "CPU times: user 18min 31s, sys: 7min 49s, total: 26min 21s\n",
            "Wall time: 25min 31s\n"
          ],
          "name": "stdout"
        }
      ]
    },
    {
      "cell_type": "code",
      "metadata": {
        "id": "hEDIpPdA2Emv",
        "colab_type": "code",
        "colab": {}
      },
      "source": [
        "!cp '/content/SA-model-type-1.h5' '/content/drive/My Drive/Colab Notebooks/SA-model-type-1.h5'\n",
        "!cp '/content/SA-model-type-2.h5' '/content/drive/My Drive/Colab Notebooks/SA-model-type-2.h5'\n",
        "!cp '/content/SA-model-type-3.h5' '/content/drive/My Drive/Colab Notebooks/SA-model-type-3.h5'"
      ],
      "execution_count": null,
      "outputs": []
    }
  ]
}