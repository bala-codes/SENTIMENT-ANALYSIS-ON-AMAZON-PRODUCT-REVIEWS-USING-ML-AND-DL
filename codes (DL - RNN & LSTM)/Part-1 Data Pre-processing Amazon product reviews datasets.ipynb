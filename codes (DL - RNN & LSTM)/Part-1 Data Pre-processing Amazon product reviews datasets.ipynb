{
  "nbformat": 4,
  "nbformat_minor": 0,
  "metadata": {
    "colab": {
      "name": "3. Text Cleaner Specially for LSTM & CONV-NETS - Amazon Sentiment.ipynb",
      "provenance": [],
      "collapsed_sections": [],
      "include_colab_link": true
    },
    "kernelspec": {
      "name": "python3",
      "display_name": "Python 3"
    }
  },
  "cells": [
    {
      "cell_type": "markdown",
      "metadata": {
        "id": "view-in-github",
        "colab_type": "text"
      },
      "source": [
        "<a href=\"https://colab.research.google.com/github/bala-codes/Sentiment_Analysis_on_Amazon_Product_Reviews_Using_Machine_and_Deep_Learning/blob/master/codes%20(DL%20-%20RNN%20%26%20LSTM)/Part-1%20Data%20Pre-processing%20Amazon%20product%20reviews%20datasets.ipynb\" target=\"_parent\"><img src=\"https://colab.research.google.com/assets/colab-badge.svg\" alt=\"Open In Colab\"/></a>"
      ]
    },
    {
      "cell_type": "code",
      "metadata": {
        "id": "tDdZ8kTDA2fa",
        "colab_type": "code",
        "colab": {
          "base_uri": "https://localhost:8080/",
          "height": 125
        },
        "outputId": "19946ff6-fc41-4261-d079-6c0f4bd75bdf"
      },
      "source": [
        "from google.colab import drive\n",
        "drive.mount('/content/drive')"
      ],
      "execution_count": null,
      "outputs": [
        {
          "output_type": "stream",
          "text": [
            "Go to this URL in a browser: https://accounts.google.com/o/oauth2/auth?client_id=947318989803-6bn6qk8qdgf4n4g3pfee6491hc0brc4i.apps.googleusercontent.com&redirect_uri=urn%3Aietf%3Awg%3Aoauth%3A2.0%3Aoob&scope=email%20https%3A%2F%2Fwww.googleapis.com%2Fauth%2Fdocs.test%20https%3A%2F%2Fwww.googleapis.com%2Fauth%2Fdrive%20https%3A%2F%2Fwww.googleapis.com%2Fauth%2Fdrive.photos.readonly%20https%3A%2F%2Fwww.googleapis.com%2Fauth%2Fpeopleapi.readonly&response_type=code\n",
            "\n",
            "Enter your authorization code:\n",
            "··········\n",
            "Mounted at /content/drive\n"
          ],
          "name": "stdout"
        }
      ]
    },
    {
      "cell_type": "code",
      "metadata": {
        "id": "GqSXSwRzBBBx",
        "colab_type": "code",
        "colab": {}
      },
      "source": [
        "#Importing the libraries which are required.\n",
        "import pandas as pd\n",
        "import nltk\n",
        "import re\n",
        "import pickle\n",
        "from nltk.corpus import stopwords\n",
        "import string\n",
        "import matplotlib.pyplot as plt\n",
        "%matplotlib inline\n",
        "import seaborn as sns"
      ],
      "execution_count": null,
      "outputs": []
    },
    {
      "cell_type": "code",
      "metadata": {
        "id": "4jUcqFdfBChm",
        "colab_type": "code",
        "colab": {
          "base_uri": "https://localhost:8080/",
          "height": 105
        },
        "outputId": "70ba6437-7038-48f2-ada8-e935c9cd637d"
      },
      "source": [
        "nltk.download('stopwords')\n",
        "nltk.download('wordnet')"
      ],
      "execution_count": null,
      "outputs": [
        {
          "output_type": "stream",
          "text": [
            "[nltk_data] Downloading package stopwords to /root/nltk_data...\n",
            "[nltk_data]   Unzipping corpora/stopwords.zip.\n",
            "[nltk_data] Downloading package wordnet to /root/nltk_data...\n",
            "[nltk_data]   Unzipping corpora/wordnet.zip.\n"
          ],
          "name": "stdout"
        },
        {
          "output_type": "execute_result",
          "data": {
            "text/plain": [
              "True"
            ]
          },
          "metadata": {
            "tags": []
          },
          "execution_count": 10
        }
      ]
    },
    {
      "cell_type": "code",
      "metadata": {
        "id": "kr-kFJBoBLCM",
        "colab_type": "code",
        "colab": {}
      },
      "source": [
        "dfpos1 = pd.read_csv('/content/drive/My Drive/Machine Learning Projects/SENTIMENT ANALYSIS - AMAZON CUSTOMER REVIEWS/SOURCE CODES AND DATASETS/Amazon EWS - Final Dataset/reviews_pos1.csv',encoding='utf8', usecols =  [\"review_body\", \"star_rating\", \"star_rating_enc\"])\n",
        "dfpos2 = pd.read_csv('/content/drive/My Drive/Machine Learning Projects/SENTIMENT ANALYSIS - AMAZON CUSTOMER REVIEWS/SOURCE CODES AND DATASETS/Amazon EWS - Final Dataset/reviews_pos3.csv',encoding ='utf8', usecols =  [\"review_body\", \"star_rating\", \"star_rating_enc\"])\n",
        "\n",
        "dfneg1 = pd.read_csv('/content/drive/My Drive/Machine Learning Projects/SENTIMENT ANALYSIS - AMAZON CUSTOMER REVIEWS/SOURCE CODES AND DATASETS/Amazon EWS - Final Dataset/reviews_neg1.csv',encoding='utf8',usecols =  [\"review_body\", \"star_rating\", \"star_rating_enc\"])\n",
        "dfneg2 = pd.read_csv('/content/drive/My Drive/Machine Learning Projects/SENTIMENT ANALYSIS - AMAZON CUSTOMER REVIEWS/SOURCE CODES AND DATASETS/Amazon EWS - Final Dataset/reviews_neg3.csv',encoding ='utf8',usecols =  [\"review_body\", \"star_rating\", \"star_rating_enc\"])\n",
        "\n",
        "dfpos1 = pd.DataFrame(dfpos1)\n",
        "dfpos2 = pd.DataFrame(dfpos2)\n",
        "\n",
        "dfneg1 = pd.DataFrame(dfneg1)\n",
        "dfneg2 = pd.DataFrame(dfneg2)"
      ],
      "execution_count": null,
      "outputs": []
    },
    {
      "cell_type": "code",
      "metadata": {
        "id": "HzZvnqllBRoM",
        "colab_type": "code",
        "colab": {}
      },
      "source": [
        "dftrain = pd.concat([dfpos1, dfneg1], axis = 0)\n",
        "dftest = pd.concat([dfpos2, dfneg2], axis = 0)\n",
        "\n",
        "dftrain = pd.DataFrame(dftrain)\n",
        "dftest = pd.DataFrame(dftest)"
      ],
      "execution_count": null,
      "outputs": []
    },
    {
      "cell_type": "code",
      "metadata": {
        "id": "ySY8tbh3BWGQ",
        "colab_type": "code",
        "colab": {
          "base_uri": "https://localhost:8080/",
          "height": 215
        },
        "outputId": "1de8eb9b-4ed5-4276-8be2-9f82cad58faf"
      },
      "source": [
        "print(dftrain.shape)\n",
        "dftrain.head()"
      ],
      "execution_count": null,
      "outputs": [
        {
          "output_type": "stream",
          "text": [
            "(300000, 3)\n"
          ],
          "name": "stdout"
        },
        {
          "output_type": "execute_result",
          "data": {
            "text/html": [
              "<div>\n",
              "<style scoped>\n",
              "    .dataframe tbody tr th:only-of-type {\n",
              "        vertical-align: middle;\n",
              "    }\n",
              "\n",
              "    .dataframe tbody tr th {\n",
              "        vertical-align: top;\n",
              "    }\n",
              "\n",
              "    .dataframe thead th {\n",
              "        text-align: right;\n",
              "    }\n",
              "</style>\n",
              "<table border=\"1\" class=\"dataframe\">\n",
              "  <thead>\n",
              "    <tr style=\"text-align: right;\">\n",
              "      <th></th>\n",
              "      <th>review_body</th>\n",
              "      <th>star_rating</th>\n",
              "      <th>star_rating_enc</th>\n",
              "    </tr>\n",
              "  </thead>\n",
              "  <tbody>\n",
              "    <tr>\n",
              "      <th>0</th>\n",
              "      <td>GOOD VALUE</td>\n",
              "      <td>4.0</td>\n",
              "      <td>1.0</td>\n",
              "    </tr>\n",
              "    <tr>\n",
              "      <th>1</th>\n",
              "      <td>Excellent quality.</td>\n",
              "      <td>5.0</td>\n",
              "      <td>1.0</td>\n",
              "    </tr>\n",
              "    <tr>\n",
              "      <th>2</th>\n",
              "      <td>3rd season using it. I only fill with water an...</td>\n",
              "      <td>4.0</td>\n",
              "      <td>1.0</td>\n",
              "    </tr>\n",
              "    <tr>\n",
              "      <th>3</th>\n",
              "      <td>Nice bag. Should have another strap on bottom ...</td>\n",
              "      <td>4.0</td>\n",
              "      <td>1.0</td>\n",
              "    </tr>\n",
              "    <tr>\n",
              "      <th>4</th>\n",
              "      <td>Gave this to my son who used it while we were ...</td>\n",
              "      <td>5.0</td>\n",
              "      <td>1.0</td>\n",
              "    </tr>\n",
              "  </tbody>\n",
              "</table>\n",
              "</div>"
            ],
            "text/plain": [
              "                                         review_body  ...  star_rating_enc\n",
              "0                                         GOOD VALUE  ...              1.0\n",
              "1                                 Excellent quality.  ...              1.0\n",
              "2  3rd season using it. I only fill with water an...  ...              1.0\n",
              "3  Nice bag. Should have another strap on bottom ...  ...              1.0\n",
              "4  Gave this to my son who used it while we were ...  ...              1.0\n",
              "\n",
              "[5 rows x 3 columns]"
            ]
          },
          "metadata": {
            "tags": []
          },
          "execution_count": 5
        }
      ]
    },
    {
      "cell_type": "code",
      "metadata": {
        "id": "rzszQmfUBXx_",
        "colab_type": "code",
        "colab": {
          "base_uri": "https://localhost:8080/",
          "height": 215
        },
        "outputId": "fb13305e-a14e-4c21-d11d-06d1c54d258f"
      },
      "source": [
        "print(dftest.shape)\n",
        "dftest.head()"
      ],
      "execution_count": null,
      "outputs": [
        {
          "output_type": "stream",
          "text": [
            "(100000, 3)\n"
          ],
          "name": "stdout"
        },
        {
          "output_type": "execute_result",
          "data": {
            "text/html": [
              "<div>\n",
              "<style scoped>\n",
              "    .dataframe tbody tr th:only-of-type {\n",
              "        vertical-align: middle;\n",
              "    }\n",
              "\n",
              "    .dataframe tbody tr th {\n",
              "        vertical-align: top;\n",
              "    }\n",
              "\n",
              "    .dataframe thead th {\n",
              "        text-align: right;\n",
              "    }\n",
              "</style>\n",
              "<table border=\"1\" class=\"dataframe\">\n",
              "  <thead>\n",
              "    <tr style=\"text-align: right;\">\n",
              "      <th></th>\n",
              "      <th>review_body</th>\n",
              "      <th>star_rating</th>\n",
              "      <th>star_rating_enc</th>\n",
              "    </tr>\n",
              "  </thead>\n",
              "  <tbody>\n",
              "    <tr>\n",
              "      <th>0</th>\n",
              "      <td>Its hard to believe how much gear is packed in...</td>\n",
              "      <td>5.0</td>\n",
              "      <td>1.0</td>\n",
              "    </tr>\n",
              "    <tr>\n",
              "      <th>1</th>\n",
              "      <td>For 10 bucks you can't beat this knife&lt;br /&gt;I ...</td>\n",
              "      <td>5.0</td>\n",
              "      <td>1.0</td>\n",
              "    </tr>\n",
              "    <tr>\n",
              "      <th>2</th>\n",
              "      <td>I got 10 years out of my last one. I have had ...</td>\n",
              "      <td>4.0</td>\n",
              "      <td>1.0</td>\n",
              "    </tr>\n",
              "    <tr>\n",
              "      <th>3</th>\n",
              "      <td>I love this spork! Such a great design, and th...</td>\n",
              "      <td>5.0</td>\n",
              "      <td>1.0</td>\n",
              "    </tr>\n",
              "    <tr>\n",
              "      <th>4</th>\n",
              "      <td>Bag Is excellent love it</td>\n",
              "      <td>5.0</td>\n",
              "      <td>1.0</td>\n",
              "    </tr>\n",
              "  </tbody>\n",
              "</table>\n",
              "</div>"
            ],
            "text/plain": [
              "                                         review_body  ...  star_rating_enc\n",
              "0  Its hard to believe how much gear is packed in...  ...              1.0\n",
              "1  For 10 bucks you can't beat this knife<br />I ...  ...              1.0\n",
              "2  I got 10 years out of my last one. I have had ...  ...              1.0\n",
              "3  I love this spork! Such a great design, and th...  ...              1.0\n",
              "4                           Bag Is excellent love it  ...              1.0\n",
              "\n",
              "[5 rows x 3 columns]"
            ]
          },
          "metadata": {
            "tags": []
          },
          "execution_count": 6
        }
      ]
    },
    {
      "cell_type": "code",
      "metadata": {
        "id": "la6lTU-tBcvW",
        "colab_type": "code",
        "colab": {}
      },
      "source": [
        "dftrain.drop_duplicates(inplace = True)\n",
        "dftrain.dropna(inplace=True)\n",
        "\n",
        "dftest.drop_duplicates(inplace = True)\n",
        "dftest.dropna(inplace=True)"
      ],
      "execution_count": null,
      "outputs": []
    },
    {
      "cell_type": "code",
      "metadata": {
        "id": "fnYtuxybBepW",
        "colab_type": "code",
        "colab": {
          "base_uri": "https://localhost:8080/",
          "height": 1000
        },
        "outputId": "689b335d-46b5-4623-ba98-d11ce53a2d22"
      },
      "source": [
        "plt.figure(figsize=(10,8))\n",
        "plt.title('Training Count Ratings')\n",
        "sns.countplot(dftrain['star_rating'])\n",
        "plt.show()\n",
        "\n",
        "print('\\n\\n')\n",
        "plt.figure(figsize=(10,8))\n",
        "plt.title('Training Count Ratings Encoded')\n",
        "sns.countplot(dftrain['star_rating_enc'])\n",
        "plt.show()\n"
      ],
      "execution_count": null,
      "outputs": [
        {
          "output_type": "display_data",
          "data": {
            "image/png": "[encoded data removed]",
            "text/plain": [
              "<Figure size 720x576 with 1 Axes>"
            ]
          },
          "metadata": {
            "tags": []
          }
        },
        {
          "output_type": "stream",
          "text": [
            "\n",
            "\n",
            "\n"
          ],
          "name": "stdout"
        },
        {
          "output_type": "display_data",
          "data": {
            "image/png": "[encoded data removed]",
            "text/plain": [
              "<Figure size 720x576 with 1 Axes>"
            ]
          },
          "metadata": {
            "tags": []
          }
        }
      ]
    },
    {
      "cell_type": "markdown",
      "metadata": {
        "id": "COiLMSOZLYwN",
        "colab_type": "text"
      },
      "source": [
        "# CLEANER CODES -  DO NOT EDIT"
      ]
    },
    {
      "cell_type": "code",
      "metadata": {
        "id": "xeslmtZGBgou",
        "colab_type": "code",
        "colab": {}
      },
      "source": [
        "to_replace = {\"don't\": \"do not\", \"dont\": \"do not\",\"doesn't\": \"does not\", \"doesnt\": \"does not\",\"didn't\": \"did not\", \"didnt\": \"did not\",\"shouldn't\": \"should not\", \"shouldnt\": \"should not\",\n",
        "              \"haven't\": \"have not\", \"hvn't\": \"have not\",\"havent\": \"have not\", \"hadn't\": \"had not\",\"hadnt\": \"had not\", \"cannt\": \"can not\",\"cann't\": \"can not\", \"couldn't\": \"could not\",\n",
        "              \"couldnt\": \"could not\", \"nt\": \"not\",\"ain't\": \"is not\", \"aren't\": \"are not\",\"can't\": \"cannot\", \"'cause\": \"because\", \"could've\": \"could have\", \"couldn't\": \"could not\",\n",
        "               \"didn't\": \"did not\", \"doesn't\": \"does not\", \"don't\": \"do not\", \"hadn't\": \"had not\", \"hasn't\": \"has not\", \"haven't\": \"have not\",\"he'd\": \"he would\",\"he'll\": \"he will\", \"he's\": \"he is\", \"how'd\": \"how did\", \"how'd'y\": \"how do you\", \"how'll\": \"how will\", \"how's\": \"how is\",\n",
        "               \"I'd\": \"I would\", \"I'd've\": \"I would have\", \"I'll\": \"I will\", \"I'll've\": \"I will have\",\"I'm\": \"I am\", \"I've\": \"I have\", \"i'd\": \"i would\",\"i'd've\": \"i would have\", \"i'll\": \"i will\",  \"i'll've\": \"i will have\",\"i'm\": \"i am\", \"i've\": \"i have\", \"isn't\": \"is not\", \"it'd\": \"it would\",\n",
        "               \"it'd've\": \"it would have\", \"it'll\": \"it will\", \"it'll've\": \"it will have\",\"it's\": \"it is\", \"let's\": \"let us\", \"ma'am\": \"madam\",\"mayn't\": \"may not\", \"might've\": \"might have\",\"mightn't\": \"might not\",\"mightn't've\": \"might not have\", \"must've\": \"must have\",\n",
        "               \"mustn't\": \"must not\", \"mustn't've\": \"must not have\", \"needn't\": \"need not\", \"needn't've\": \"need not have\",\"o'clock\": \"of the clock\",\"oughtn't\": \"ought not\", \"oughtn't've\": \"ought not have\", \"shan't\": \"shall not\", \"sha'n't\": \"shall not\", \"shan't've\": \"shall not have\",\n",
        "               \"she'd\": \"she would\", \"she'd've\": \"she would have\", \"she'll\": \"she will\", \"she'll've\": \"she will have\", \"she's\": \"she is\",\"should've\": \"should have\", \"shouldn't\": \"should not\", \"shouldn't've\": \"should not have\", \"so've\": \"so have\",\"so's\": \"so as\",\n",
        "               \"this's\": \"this is\",\"that'd\": \"that would\", \"that'd've\": \"that would have\", \"that's\": \"that is\", \"there'd\": \"there would\",\"there'd've\": \"there would have\", \"there's\": \"there is\", \"here's\": \"here is\",\"they'd\": \"they would\", \"they'd've\": \"they would have\",\n",
        "               \"they'll\": \"they will\", \"they'll've\": \"they will have\", \"they're\": \"they are\", \"they've\": \"they have\", \"to've\": \"to have\",\"wasn't\": \"was not\", \"we'd\": \"we would\", \"we'd've\": \"we would have\", \"we'll\": \"we will\", \"we'll've\": \"we will have\", \"we're\": \"we are\",\n",
        "               \"we've\": \"we have\", \"weren't\": \"were not\", \"what'll\": \"what will\", \"what'll've\": \"what will have\", \"what're\": \"what are\",\"what's\": \"what is\", \"what've\": \"what have\", \"when's\": \"when is\", \"when've\": \"when have\", \"where'd\": \"where did\", \"where's\": \"where is\",\n",
        "               \"where've\": \"where have\", \"who'll\": \"who will\", \"who'll've\": \"who will have\", \"who's\": \"who is\", \"who've\": \"who have\",\"why's\": \"why is\", \"why've\": \"why have\", \"will've\": \"will have\", \"won't\": \"will not\", \"won't've\": \"will not have\",\n",
        "               \"would've\": \"would have\", \"wouldn't\": \"would not\", \"wouldn't've\": \"would not have\", \"y'all\": \"you all\",\"y'all'd\": \"you all would\",\"y'all'd've\": \"you all would have\",\"y'all're\": \"you all are\",\"y'all've\": \"you all have\",\n",
        "               \"you'd\": \"you would\", \"you'd've\": \"you would have\", \"you'll\": \"you will\", \"you'll've\": \"you will have\",\"you're\": \"you are\", \"you've\": \"you have\"}\n",
        "\n",
        "stopwords = ['i', 'me', 'mine', 'he', 'she', 'it', 'a', 'an', 'the','above', 'below', 'while', 'as', 'until', 'of', 'at', 'down', 'if', 'to', 'or', 'was', 'were', 'itself', 'for',\n",
        "             'other', 'both', 'any', 'all', 'between', 'do', 'does', 'did', 'on', 'own', 'who', 'whom', 'this', 'that', 'has','have', 'here', 'some', 'why', 'same','so', 'is', 'be',\n",
        "             'st', 'nd', 'rd', 'th']\n",
        "\n",
        "import re\n",
        "\n",
        "from nltk.stem import WordNetLemmatizer\n",
        "from nltk.stem.snowball import SnowballStemmer\n",
        "\n",
        "class NLP():\n",
        "    def __init__(self, remove_stopwords=True, replace_words=True,\n",
        "                 remove_numbers=True, remove_html_tags=True,\n",
        "                 remove_punctuations=True, lemmatize=False,\n",
        "                 lemmatize_method='wordnet'):\n",
        "        \"\"\"\n",
        "        This package contains functions that can help during the\n",
        "        preprocessing of text data.\n",
        "        :param remove_stopwords: boolean\n",
        "            default value = True\n",
        "        :param replace_words: boolean\n",
        "            default value = True\n",
        "        \"\"\"\n",
        "        if (type(remove_stopwords) != bool or\n",
        "            type(replace_words) != bool or\n",
        "            type(remove_numbers) != bool or\n",
        "            type(remove_html_tags) != bool or\n",
        "            type(remove_punctuations) != bool or\n",
        "            type(lemmatize) != bool):\n",
        "            raise Exception(\"Error - expecting a boolean parameter\")\n",
        "        if lemmatize_method not in ['wordnet', 'snowball']:\n",
        "            raise Exception(\"Error - lemmatizer method not supported\")\n",
        "        self.doc = None\n",
        "        self.lemmatizer = None\n",
        "        self.remove_stopwords = remove_stopwords\n",
        "        self.replace_words = replace_words\n",
        "        self.remove_numbers = remove_numbers\n",
        "        self.remove_html_tags = remove_html_tags\n",
        "        self.remove_punctations = remove_punctuations\n",
        "        self.lemmatize_method = lemmatize_method\n",
        "        self.lemmatize = lemmatize\n",
        "        self.stopword_list = set(stopwords)\n",
        "        self.replacement_list = to_replace\n",
        "        if self.lemmatize_method == 'wordnet':\n",
        "            self.lemmatizer = WordNetLemmatizer()\n",
        "        if self.lemmatize_method == 'snowball':\n",
        "            self.lemmatizer = SnowballStemmer('english')\n",
        "    \n",
        "\n",
        "    def remove_stopwords_fun(self):\n",
        "        \"\"\"\n",
        "        This function removes stopwords from doc.\n",
        "        It works by tokenizing the doc and then\n",
        "        checking if the word is present in stopwords\n",
        "        \"\"\"\n",
        "        tokens = str(self.doc).split()\n",
        "        cleaned_tokens = [token for token in tokens\n",
        "                          if token.lower() not in self.stopword_list]\n",
        "        self.doc = ' '.join(cleaned_tokens)\n",
        "\n",
        "    def replace_words_fun(self):\n",
        "        \"\"\"\n",
        "        This function replaces words that are --\n",
        "        by checking a word if a word is present in a dictionary\n",
        "        if the word is present in dictionary then it is replaced\n",
        "        with its value from dictionary\n",
        "        \"\"\"\n",
        "\n",
        "        cleaned_doc = []\n",
        "        for word in str(self.doc).split():\n",
        "            if word.lower() in self.replacement_list.keys():\n",
        "                cleaned_doc.append(self.replacement_list[word.lower()])\n",
        "            else:\n",
        "                cleaned_doc.append(word)\n",
        "        self.doc = ' '.join(cleaned_doc)\n",
        "\n",
        "    def remove_numbers_fun(self):\n",
        "        \"\"\"\n",
        "        This function uses regex to remve\n",
        "        all the numbers from the doc.\n",
        "        \"\"\"\n",
        "        self.doc = re.sub(\"[0-9]\", \"\", self.doc)\n",
        "\n",
        "    def remove_html_tags_fun(self):\n",
        "        \"\"\"\n",
        "        This function uses regex's complile method\n",
        "        to remove all the HTML tags from the doc\n",
        "        \"\"\"\n",
        "        cleaner = re.compile('<.*?>')\n",
        "        cleaned_text = re.sub(cleaner, '', self.doc)\n",
        "        cleaned_text = re.sub('[\\n\\t]', '', cleaned_text)\n",
        "        self.doc = cleaned_text\n",
        "\n",
        "    def remove_punctations_fun(self):\n",
        "        \"\"\"\n",
        "        This function uses regex to remove alk the\n",
        "        punctations from the doc.\n",
        "        \"\"\" \n",
        "        self.doc = re.sub('[^a-zA-Z0-9]', ' ', self.doc)\n",
        "\n",
        "    def lemmatize_fun(self):\n",
        "        \"\"\"\n",
        "        This function applies the stemming to the words\n",
        "        It can be operated with either WordNetLemmatizer\n",
        "        or Snowball Stemmer\n",
        "        ---------------------------\n",
        "        Example:\n",
        "        lemmatize(method='snowball')\n",
        "        \n",
        "        default value = 'wordnet\n",
        "        \"\"\"\n",
        "        tokens = str(self.doc).split()\n",
        "        cleaned_tokens = None\n",
        "        if self.lemmatize_method == 'wordnet':\n",
        "            cleaned_tokens = [self.lemmatizer.lemmatize(token) for token in tokens]\n",
        "        else:\n",
        "            cleaned_tokens = [self.lemmatizer.stem(token) for token in tokens]\n",
        "       \n",
        "        self.doc = ' '.join(cleaned_tokens)\n",
        "\n",
        "    def add_stopword(self, *args):\n",
        "        \"\"\"\n",
        "        This function is used to add new stopwords\n",
        "        to the predefined list\n",
        "        Parameters - [\"new_stopword\"]\n",
        "        ------------------------------\n",
        "        Example -\n",
        "        obj = NLP()\n",
        "        obj.add_stopword([\"first_word\", \"second_word\"])\n",
        "        \"\"\"\n",
        "        if self.remove_stopwords is False:\n",
        "            raise Exception(\"Please enable removal of stopwords\")\n",
        "        if type(args) != list:\n",
        "            raise Exception(\"Error - pass stopwords in list\")\n",
        "        for arg in args:\n",
        "            self.stopword_list.add(arg)\n",
        "\n",
        "    def add_replacement(self, *args):\n",
        "        \"\"\"\n",
        "        This function is used to add new replacement words\n",
        "        to the predifined list\n",
        "        Parameters - [  = \"\"]\n",
        "        ----------------------------\n",
        "        Example -\n",
        "        obj = NLP()\n",
        "        obj.add_replacement([first: \"replacement1\", second: \"replacement2\"])\n",
        "        \"\"\"\n",
        "        if self.replace_words is False:\n",
        "            raise Exception(\"Please enable cleaning of stopwords\")\n",
        "        if type(args) != list:\n",
        "            raise Exception(\"Error - pass input parameters in list\")\n",
        "        if args == []:\n",
        "            raise Exception(\"Error - list is empty\")\n",
        "        try:\n",
        "            for key, value in args.items():\n",
        "                self.replacement_list[key] = value\n",
        "        except:\n",
        "            print(\"Expected args in dict format\")\n",
        "\n",
        "    def remove_stopwords(self, *args):\n",
        "        \"\"\"\n",
        "        This function is used to remove stopwords from predefined list\n",
        "        Parameters - [\"first_word\"]\n",
        "        ------------------------------\n",
        "        Example\n",
        "        obj = NLP()\n",
        "        obj.remove_stopwords(['new_stopword_here'])\n",
        "        \"\"\"\n",
        "        if self.remove_stopwords is False:\n",
        "            raise Exception(\"Error - enable stopword removal functionality\")\n",
        "        if type(args) != list:\n",
        "            raise Exception(\"Error - expected a list\")\n",
        "        if args == []:\n",
        "            raise Exception(\"Error - no items to remove from stopword list\")\n",
        "        for arg in args:\n",
        "            if arg in self.stopword_list:\n",
        "                self.stopword_list.remove(arg)\n",
        "            else:\n",
        "                raise Exception(arg+\" not in list\")\n",
        "\n",
        "    def print_stopwords(self):\n",
        "        \"\"\"\n",
        "        This function prints all the stopwords\n",
        "        that are present in the list\n",
        "        Return Type - list\n",
        "        ------------------------------\n",
        "        Example\n",
        "        obj = NLP()\n",
        "        obj.print_stopwords()\n",
        "        \"\"\"\n",
        "        if self.stopword_list == []:\n",
        "            raise Exception(\"Error - stopword list is empty\")\n",
        "        print(self.stopword_list)\n",
        "\n",
        "    def process(self, doc):\n",
        "        \"\"\"\n",
        "        This function processes the doc\n",
        "        If the remove_stopwords flag is True\n",
        "            - it will remove stopwords from doc\n",
        "        If the clean_words flag is True\n",
        "            - it will clean the doc by replacing words\n",
        "        Parameters - [doc]\n",
        "        ------------------------------\n",
        "        Example\n",
        "        obj = NLP()\n",
        "        obj.process([\"process this text\"])\n",
        "        How to use with pandas?\n",
        "        obj = NLP()\n",
        "        df = df['text].apply(obj.process)\n",
        "        \"\"\"\n",
        "        self.doc = doc\n",
        "        if self.replace_words is True:\n",
        "            self.replace_words_fun()\n",
        "        if self.remove_html_tags is True:\n",
        "            self.remove_html_tags_fun()\n",
        "        if self.remove_stopwords is True:\n",
        "            self.remove_stopwords_fun()\n",
        "        if self.remove_numbers is True:\n",
        "            self.remove_numbers_fun()\n",
        "        if self.remove_stopwords is True:\n",
        "            self.remove_stopwords_fun()\n",
        "        if self.remove_punctations is True:\n",
        "            self.remove_punctations_fun() \n",
        "        if self.lemmatize is True:\n",
        "            self.lemmatize_fun()\n",
        "        return self.doc\n"
      ],
      "execution_count": null,
      "outputs": []
    },
    {
      "cell_type": "code",
      "metadata": {
        "id": "CZoic2wyKkOZ",
        "colab_type": "code",
        "colab": {
          "base_uri": "https://localhost:8080/",
          "height": 52
        },
        "outputId": "bc5c6e2e-0b72-4af9-b97d-88c8ab78e882"
      },
      "source": [
        "%%time\n",
        "text_cleaner = NLP()\n",
        "dftrain['review_body_cleaned'] = dftrain['review_body'].apply(text_cleaner.process)\n",
        "dftest['review_body_cleaned'] = dftest['review_body'].apply(text_cleaner.process)"
      ],
      "execution_count": null,
      "outputs": [
        {
          "output_type": "stream",
          "text": [
            "CPU times: user 23.3 s, sys: 197 ms, total: 23.5 s\n",
            "Wall time: 23.5 s\n"
          ],
          "name": "stdout"
        }
      ]
    },
    {
      "cell_type": "code",
      "metadata": {
        "id": "x5LDrwNdL4ks",
        "colab_type": "code",
        "colab": {}
      },
      "source": [
        "dftrain.to_csv(\"/content/drive/My Drive/Machine Learning Projects/SENTIMENT ANALYSIS - AMAZON CUSTOMER REVIEWS/SOURCE CODES AND DATASETS/Amazon EWS - Final Dataset/dftrainforlstm.csv\", columns = ['review_body',\t'star_rating', 'star_rating_enc', 'review_body_cleaned'],index= False)  # SAVE THE FINAL CLEANED COPY IF YOU WANT \n",
        "dftest.to_csv(\"/content/drive/My Drive/Machine Learning Projects/SENTIMENT ANALYSIS - AMAZON CUSTOMER REVIEWS/SOURCE CODES AND DATASETS/Amazon EWS - Final Dataset/dftestforlstm.csv\" , columns = ['review_body',\t'star_rating', 'star_rating_enc', 'review_body_cleaned'],index=False)  # SAVE THE FINAL CLEANED COPY IF YOU WANT "
      ],
      "execution_count": null,
      "outputs": []
    },
    {
      "cell_type": "code",
      "metadata": {
        "id": "Ga5qar1gN5ce",
        "colab_type": "code",
        "colab": {
          "base_uri": "https://localhost:8080/",
          "height": 197
        },
        "outputId": "8b304921-6f7b-41ae-ad67-c7985efa56fb"
      },
      "source": [
        "dftrain.tail()"
      ],
      "execution_count": null,
      "outputs": [
        {
          "output_type": "execute_result",
          "data": {
            "text/html": [
              "<div>\n",
              "<style scoped>\n",
              "    .dataframe tbody tr th:only-of-type {\n",
              "        vertical-align: middle;\n",
              "    }\n",
              "\n",
              "    .dataframe tbody tr th {\n",
              "        vertical-align: top;\n",
              "    }\n",
              "\n",
              "    .dataframe thead th {\n",
              "        text-align: right;\n",
              "    }\n",
              "</style>\n",
              "<table border=\"1\" class=\"dataframe\">\n",
              "  <thead>\n",
              "    <tr style=\"text-align: right;\">\n",
              "      <th></th>\n",
              "      <th>review_body</th>\n",
              "      <th>star_rating</th>\n",
              "      <th>star_rating_enc</th>\n",
              "      <th>review_body_cleaned</th>\n",
              "    </tr>\n",
              "  </thead>\n",
              "  <tbody>\n",
              "    <tr>\n",
              "      <th>149995</th>\n",
              "      <td>Good and loud</td>\n",
              "      <td>3.0</td>\n",
              "      <td>0.0</td>\n",
              "      <td>Good and loud</td>\n",
              "    </tr>\n",
              "    <tr>\n",
              "      <th>149996</th>\n",
              "      <td>Bought this to use on MTB 29x2.1 tire, pumped ...</td>\n",
              "      <td>1.0</td>\n",
              "      <td>0.0</td>\n",
              "      <td>Bought use MTB x  tire  pumped mins straight a...</td>\n",
              "    </tr>\n",
              "    <tr>\n",
              "      <th>149997</th>\n",
              "      <td>Everyone says this food is not that good, alth...</td>\n",
              "      <td>3.0</td>\n",
              "      <td>0.0</td>\n",
              "      <td>Everyone says food not good  although not tast...</td>\n",
              "    </tr>\n",
              "    <tr>\n",
              "      <th>149998</th>\n",
              "      <td>Unfortunately, the bracket interfered with bra...</td>\n",
              "      <td>1.0</td>\n",
              "      <td>0.0</td>\n",
              "      <td>Unfortunately  bracket interfered with brake c...</td>\n",
              "    </tr>\n",
              "    <tr>\n",
              "      <th>149999</th>\n",
              "      <td>The pocket is kind of lame.  It's on the side ...</td>\n",
              "      <td>3.0</td>\n",
              "      <td>0.0</td>\n",
              "      <td>pocket kind lame  side and zips  stays snug  J...</td>\n",
              "    </tr>\n",
              "  </tbody>\n",
              "</table>\n",
              "</div>"
            ],
            "text/plain": [
              "                                              review_body  ...                                review_body_cleaned\n",
              "149995                                      Good and loud  ...                                      Good and loud\n",
              "149996  Bought this to use on MTB 29x2.1 tire, pumped ...  ...  Bought use MTB x  tire  pumped mins straight a...\n",
              "149997  Everyone says this food is not that good, alth...  ...  Everyone says food not good  although not tast...\n",
              "149998  Unfortunately, the bracket interfered with bra...  ...  Unfortunately  bracket interfered with brake c...\n",
              "149999  The pocket is kind of lame.  It's on the side ...  ...  pocket kind lame  side and zips  stays snug  J...\n",
              "\n",
              "[5 rows x 4 columns]"
            ]
          },
          "metadata": {
            "tags": []
          },
          "execution_count": 28
        }
      ]
    }
  ]
}