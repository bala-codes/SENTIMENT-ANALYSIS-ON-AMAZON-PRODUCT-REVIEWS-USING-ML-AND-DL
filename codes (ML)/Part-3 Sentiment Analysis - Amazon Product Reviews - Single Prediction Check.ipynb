{
  "nbformat": 4,
  "nbformat_minor": 0,
  "metadata": {
    "colab": {
      "name": "Part 3 - Sentiment Analysis - Amazon Product Reviews - Single Prediction Check.ipynb",
      "provenance": [],
      "collapsed_sections": [],
      "include_colab_link": true
    },
    "kernelspec": {
      "name": "python3",
      "display_name": "Python 3"
    }
  },
  "cells": [
    {
      "cell_type": "markdown",
      "metadata": {
        "id": "view-in-github",
        "colab_type": "text"
      },
      "source": [
        "<a href=\"https://colab.research.google.com/github/bala-codes/SENTIMENT-ANALYSIS-ON-AMAZON-PRODUCT-REVIEWS-USING-ML-AND-DL/blob/master/codes%20(ML)/Part-3%20Sentiment%20Analysis%20-%20Amazon%20Product%20Reviews%20-%20Single%20Prediction%20Check.ipynb\" target=\"_parent\"><img src=\"https://colab.research.google.com/assets/colab-badge.svg\" alt=\"Open In Colab\"/></a>"
      ]
    },
    {
      "cell_type": "code",
      "metadata": {
        "id": "vAuR7lxYWS3v",
        "colab_type": "code",
        "colab": {
          "base_uri": "https://localhost:8080/",
          "height": 125
        },
        "outputId": "c05c321b-73d8-454e-c243-37e2b38a33c3"
      },
      "source": [
        "from google.colab import drive\n",
        "drive.mount('/content/drive')"
      ],
      "execution_count": null,
      "outputs": [
        {
          "output_type": "stream",
          "text": [
            "Go to this URL in a browser: https://accounts.google.com/o/oauth2/auth?client_id=947318989803-6bn6qk8qdgf4n4g3pfee6491hc0brc4i.apps.googleusercontent.com&redirect_uri=urn%3aietf%3awg%3aoauth%3a2.0%3aoob&response_type=code&scope=email%20https%3a%2f%2fwww.googleapis.com%2fauth%2fdocs.test%20https%3a%2f%2fwww.googleapis.com%2fauth%2fdrive%20https%3a%2f%2fwww.googleapis.com%2fauth%2fdrive.photos.readonly%20https%3a%2f%2fwww.googleapis.com%2fauth%2fpeopleapi.readonly\n",
            "\n",
            "Enter your authorization code:\n",
            "··········\n",
            "Mounted at /content/drive\n"
          ],
          "name": "stdout"
        }
      ]
    },
    {
      "cell_type": "code",
      "metadata": {
        "id": "z-2nvjesWUEy",
        "colab_type": "code",
        "colab": {
          "base_uri": "https://localhost:8080/",
          "height": 105
        },
        "outputId": "c968985b-1a96-41b4-c6fc-51e4eba20c21"
      },
      "source": [
        "import pickle\n",
        "import string\n",
        "import numpy as np\n",
        "import matplotlib.pyplot as plt\n",
        "plt.style.use('ggplot')\n",
        "import nltk\n",
        "import re\n",
        "from nltk.corpus import stopwords\n",
        "nltk.download('stopwords')\n",
        "nltk.download('wordnet')"
      ],
      "execution_count": null,
      "outputs": [
        {
          "output_type": "stream",
          "text": [
            "[nltk_data] Downloading package stopwords to /root/nltk_data...\n",
            "[nltk_data]   Unzipping corpora/stopwords.zip.\n",
            "[nltk_data] Downloading package wordnet to /root/nltk_data...\n",
            "[nltk_data]   Unzipping corpora/wordnet.zip.\n"
          ],
          "name": "stdout"
        },
        {
          "output_type": "execute_result",
          "data": {
            "text/plain": [
              "True"
            ]
          },
          "metadata": {
            "tags": []
          },
          "execution_count": 2
        }
      ]
    },
    {
      "cell_type": "code",
      "metadata": {
        "id": "XBNrKH_sWenx",
        "colab_type": "code",
        "colab": {
          "base_uri": "https://localhost:8080/",
          "height": 70
        },
        "outputId": "0213db89-6d49-4e36-9a4f-0a2803113730"
      },
      "source": [
        "%%time\n",
        "with open(\"/content/drive/My Drive/Machine Learning Projects/SENTIMENT ANALYSIS - AMAZON CUSTOMER REVIEWS/SOURCE CODES AND DATASETS/PACKAGE 1 - SOURCE CODES AND FILES/Pretrained Models/PA_classifier.pkl\", \"rb\") as fin:\n",
        "  vectorizer, PA_classifier = pickle.load(fin)\n",
        " \n",
        "with open(\"/content/drive/My Drive/Machine Learning Projects/SENTIMENT ANALYSIS - AMAZON CUSTOMER REVIEWS/SOURCE CODES AND DATASETS/PACKAGE 1 - SOURCE CODES AND FILES/Pretrained Models/SGD_calibrator_classifier.pkl\", \"rb\") as fin:\n",
        "  vectorizer, calibrator_classifier = pickle.load(fin)\n",
        " \n",
        "with open(\"/content/drive/My Drive/Machine Learning Projects/SENTIMENT ANALYSIS - AMAZON CUSTOMER REVIEWS/SOURCE CODES AND DATASETS/PACKAGE 1 - SOURCE CODES AND FILES/Pretrained Models/SVC_classifier.pkl\", \"rb\") as fin:\n",
        "  vectorizer, SVC_classifier = pickle.load(fin)\n",
        " \n",
        "with open(\"/content/drive/My Drive/Machine Learning Projects/SENTIMENT ANALYSIS - AMAZON CUSTOMER REVIEWS/SOURCE CODES AND DATASETS/PACKAGE 1 - SOURCE CODES AND FILES/Pretrained Models/bb_classifier.pkl\", \"rb\") as fin:\n",
        "  vectorizer, bb_classifier = pickle.load(fin)\n",
        " \n",
        "with open(\"/content/drive/My Drive/Machine Learning Projects/SENTIMENT ANALYSIS - AMAZON CUSTOMER REVIEWS/SOURCE CODES AND DATASETS/PACKAGE 1 - SOURCE CODES AND FILES/Pretrained Models/nb_classifier.pkl\", \"rb\") as fin:\n",
        "  vectorizer, nb_classifier = pickle.load(fin)\n",
        " \n",
        "with open(\"/content/drive/My Drive/Machine Learning Projects/SENTIMENT ANALYSIS - AMAZON CUSTOMER REVIEWS/SOURCE CODES AND DATASETS/PACKAGE 1 - SOURCE CODES AND FILES/Pretrained Models/logreg_classifier.pkl\", \"rb\") as fin:\n",
        "  vectorizer, logreg_classifier = pickle.load(fin)\n",
        "\n",
        "print(\"SUCCESS ALL MODELS LOADED\")"
      ],
      "execution_count": null,
      "outputs": [
        {
          "output_type": "stream",
          "text": [
            "SUCCESS ALL MODELS LOADED\n",
            "CPU times: user 14.4 s, sys: 1.97 s, total: 16.4 s\n",
            "Wall time: 25.3 s\n"
          ],
          "name": "stdout"
        }
      ]
    },
    {
      "cell_type": "code",
      "metadata": {
        "id": "jMZguPi01f6v",
        "colab_type": "code",
        "colab": {}
      },
      "source": [
        "all_punctuations = string.punctuation + '‘’,:”][],' \n",
        "\n",
        "def punc_remover(raw_text):\n",
        "    no_punct = \"\".join([i for i in raw_text if i not in all_punctuations])\n",
        "    return no_punct\n",
        "\n",
        "def stopword_remover(no_punc_text):\n",
        "    words = no_punc_text.split()\n",
        "    no_stp_words = \" \".join([i for i in words if i not in stopwords.words('english')])\n",
        "    return no_stp_words\n",
        "\n",
        "lemmer = nltk.stem.WordNetLemmatizer()\n",
        "def lem(words):\n",
        "    return \" \".join([lemmer.lemmatize(word,'v') for word in words.split()])\n",
        "    \n",
        "def text_cleaner(raw):\n",
        "    cleaned_text = stopword_remover(punc_remover(raw.lower()))\n",
        "    return lem(cleaned_text)"
      ],
      "execution_count": null,
      "outputs": []
    },
    {
      "cell_type": "code",
      "metadata": {
        "id": "7XhWq3nFW6J8",
        "colab_type": "code",
        "colab": {}
      },
      "source": [
        "# Required Functions to predict the News\n",
        "def prediction(text):\n",
        "  test = vectorizer.transform(text)\n",
        "  graph,output = ensemble(test)\n",
        "  print(\"output\", output)\n",
        "  if output == 1:\n",
        "    value = 'POSITIVE SENTIMENT'\n",
        "  else:\n",
        "    value = 'NEGATIVE SENTIMENT'\n",
        "\n",
        "  class_labels = ['NEGATIVE','POSITIVE']\n",
        "  j = [graph[0][0],graph[0][1]]\n",
        "  y_pos = np.arange(len(class_labels))\n",
        "  plt.barh(y_pos,j)\n",
        "  plt.yticks(y_pos,class_labels)\n",
        "  plt.title('PREDICTION FOR BEING POS VS NEG')\n",
        "  plt.ylabel('Percentage')\n",
        "  plt.xlabel('Labels')\n",
        "  plt.show()\n",
        "  print()\n",
        "  start = \"\\033[1m\"\n",
        "  end = \"\\033[0;0m\"\n",
        "  print('THE GIVEN TEXT IS ' + start + str(value) + end)\n",
        "\n",
        "def ensemble(x):\n",
        "  pred1 = bb_classifier.predict_proba(x)\n",
        "  pred2 = nb_classifier.predict_proba(x)\n",
        "  pred3 = PA_classifier._predict_proba_lr(x)\n",
        "  pred4 = logreg_classifier.predict_proba(x)\n",
        "  pred5 = calibrator_classifier.predict_proba(x)\n",
        "  pred6 = SVC_classifier._predict_proba_lr(x)\n",
        "\n",
        "  test_pred_prob = np.mean([pred1, pred2, pred3, pred4, pred5, pred6], axis=0)\n",
        "  pred = np.argmax(test_pred_prob, axis=1)\n",
        "  return test_pred_prob,pred\n"
      ],
      "execution_count": null,
      "outputs": []
    },
    {
      "cell_type": "markdown",
      "metadata": {
        "id": "yGhQUc02vlb9",
        "colab_type": "text"
      },
      "source": [
        "# Give your Input Here"
      ]
    },
    {
      "cell_type": "code",
      "metadata": {
        "id": "OvLtam-iXJzI",
        "colab_type": "code",
        "colab": {
          "base_uri": "https://localhost:8080/",
          "height": 405
        },
        "outputId": "220298c7-8e88-4b00-ad79-3ab8d0dff0b8"
      },
      "source": [
        "%%time\n",
        "#String input\n",
        "x = input(\"ENTER THE TEXT HERE : \")\n",
        "x = text_cleaner(x)\n",
        "x=[x,]\n",
        "prediction(x)"
      ],
      "execution_count": null,
      "outputs": [
        {
          "output_type": "stream",
          "text": [
            "ENTER THE TEXT HERE : ENTER THE TEXT HERE : DONOT BUY THIS PRODUCT IT IS A UTTER WASTE OF TIME AND ENERGY, SO PLEASE DON'T\n",
            "output [0]\n"
          ],
          "name": "stdout"
        },
        {
          "output_type": "display_data",
          "data": {
            "image/png": "[encoded data removed]",
            "text/plain": [
              "<Figure size 432x288 with 1 Axes>"
            ]
          },
          "metadata": {
            "tags": []
          }
        },
        {
          "output_type": "stream",
          "text": [
            "\n",
            "THE GIVEN TEXT IS \u001b[1mNEGATIVE SENTIMENT\u001b[0;0m\n",
            "CPU times: user 316 ms, sys: 6.5 ms, total: 322 ms\n",
            "Wall time: 2.2 s\n"
          ],
          "name": "stdout"
        }
      ]
    },
    {
      "cell_type": "code",
      "metadata": {
        "id": "XQceuCpaxgQk",
        "colab_type": "code",
        "colab": {
          "base_uri": "https://localhost:8080/",
          "height": 405
        },
        "outputId": "9e19a97e-9c0c-4152-ae3b-4cd6635f7497"
      },
      "source": [
        "%%time\n",
        "#String input\n",
        "x = input(\"ENTER THE TEXT HERE : \")\n",
        "x = text_cleaner(x)\n",
        "x=[x,]\n",
        "prediction(x)"
      ],
      "execution_count": null,
      "outputs": [
        {
          "output_type": "stream",
          "text": [
            "ENTER THE TEXT HERE : The product was good, not bad at all.\n",
            "output [0]\n"
          ],
          "name": "stdout"
        },
        {
          "output_type": "display_data",
          "data": {
            "image/png": "[encoded data removed]",
            "text/plain": [
              "<Figure size 432x288 with 1 Axes>"
            ]
          },
          "metadata": {
            "tags": []
          }
        },
        {
          "output_type": "stream",
          "text": [
            "\n",
            "THE GIVEN TEXT IS \u001b[1mNEGATIVE SENTIMENT\u001b[0;0m\n",
            "CPU times: user 2.26 s, sys: 24.8 ms, total: 2.29 s\n",
            "Wall time: 9.77 s\n"
          ],
          "name": "stdout"
        }
      ]
    },
    {
      "cell_type": "code",
      "metadata": {
        "id": "VBcA3f4roSvZ",
        "colab_type": "code",
        "colab": {
          "base_uri": "https://localhost:8080/",
          "height": 405
        },
        "outputId": "abc4339b-d316-4d38-eb7d-625b67d864ca"
      },
      "source": [
        "%%time\n",
        "#String input\n",
        "x = input(\"ENTER THE TEXT HERE : \")\n",
        "x = text_cleaner(x)\n",
        "x=[x,]\n",
        "prediction(x)"
      ],
      "execution_count": null,
      "outputs": [
        {
          "output_type": "stream",
          "text": [
            "ENTER THE TEXT HERE : The product was bad, not good at all.\n",
            "output [0]\n"
          ],
          "name": "stdout"
        },
        {
          "output_type": "display_data",
          "data": {
            "image/png": "[encoded data removed]",
            "text/plain": [
              "<Figure size 432x288 with 1 Axes>"
            ]
          },
          "metadata": {
            "tags": []
          }
        },
        {
          "output_type": "stream",
          "text": [
            "\n",
            "THE GIVEN TEXT IS \u001b[1mNEGATIVE SENTIMENT\u001b[0;0m\n",
            "CPU times: user 358 ms, sys: 6.21 ms, total: 364 ms\n",
            "Wall time: 6.73 s\n"
          ],
          "name": "stdout"
        }
      ]
    },
    {
      "cell_type": "code",
      "metadata": {
        "id": "6ZmeaSPUpBL_",
        "colab_type": "code",
        "colab": {}
      },
      "source": [
        ""
      ],
      "execution_count": null,
      "outputs": []
    }
  ]
}