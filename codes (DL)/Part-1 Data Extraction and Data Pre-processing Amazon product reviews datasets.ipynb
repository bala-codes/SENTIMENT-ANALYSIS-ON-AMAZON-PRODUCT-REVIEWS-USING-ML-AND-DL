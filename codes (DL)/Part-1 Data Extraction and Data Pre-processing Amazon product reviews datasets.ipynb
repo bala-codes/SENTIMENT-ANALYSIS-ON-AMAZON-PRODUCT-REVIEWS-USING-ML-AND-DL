{
  "nbformat": 4,
  "nbformat_minor": 0,
  "metadata": {
    "colab": {
      "name": "Part 1 - Data Extraction and Data Preprocessing - Amazon Sentiments(DONOT RUN - ALREADY DATASET DOWNLOADED).ipynb",
      "provenance": [],
      "collapsed_sections": [],
      "machine_shape": "hm",
      "include_colab_link": true
    },
    "kernelspec": {
      "name": "python3",
      "display_name": "Python 3"
    },
    "accelerator": "GPU"
  },
  "cells": [
    {
      "cell_type": "markdown",
      "metadata": {
        "id": "view-in-github",
        "colab_type": "text"
      },
      "source": [
        "<a href=\"https://colab.research.google.com/github/bala-codes/Sentiment_Analysis_on_Amazon_Product_Reviews_Using_Machine_and_Deep_Learning/blob/master/codes%20(DL)/Part-1%20Data%20Extraction%20and%20Data%20Pre-processing%20Amazon%20product%20reviews%20datasets.ipynb\" target=\"_parent\"><img src=\"https://colab.research.google.com/assets/colab-badge.svg\" alt=\"Open In Colab\"/></a>"
      ]
    },
    {
      "cell_type": "code",
      "metadata": {
        "id": "iUh2Gu34eLEl",
        "colab_type": "code",
        "colab": {}
      },
      "source": [
        "# Datasets Acquired from Amazon Official : https://s3.amazonaws.com/amazon-reviews-pds/tsv/index.txt"
      ],
      "execution_count": null,
      "outputs": []
    },
    {
      "cell_type": "code",
      "metadata": {
        "id": "qg-OaLOmzE6J",
        "colab_type": "code",
        "colab": {
          "base_uri": "https://localhost:8080/",
          "height": 125
        },
        "outputId": "037f6775-9100-4049-b39f-abeb8d5c12c2"
      },
      "source": [
        "from google.colab import drive\n",
        "drive.mount('/content/drive')"
      ],
      "execution_count": null,
      "outputs": [
        {
          "output_type": "stream",
          "text": [
            "Go to this URL in a browser: https://accounts.google.com/o/oauth2/auth?client_id=947318989803-6bn6qk8qdgf4n4g3pfee6491hc0brc4i.apps.googleusercontent.com&redirect_uri=urn%3Aietf%3Awg%3Aoauth%3A2.0%3Aoob&scope=email%20https%3A%2F%2Fwww.googleapis.com%2Fauth%2Fdocs.test%20https%3A%2F%2Fwww.googleapis.com%2Fauth%2Fdrive%20https%3A%2F%2Fwww.googleapis.com%2Fauth%2Fdrive.photos.readonly%20https%3A%2F%2Fwww.googleapis.com%2Fauth%2Fpeopleapi.readonly&response_type=code\n",
            "\n",
            "Enter your authorization code:\n",
            "··········\n",
            "Mounted at /content/drive\n"
          ],
          "name": "stdout"
        }
      ]
    },
    {
      "cell_type": "code",
      "metadata": {
        "id": "qV7WL6HZsuNi",
        "colab_type": "code",
        "colab": {
          "base_uri": "https://localhost:8080/",
          "height": 1000
        },
        "outputId": "b13b3fd2-c4de-404b-b01c-2cd227e08c46"
      },
      "source": [
        "!wget https://s3.amazonaws.com/amazon-reviews-pds/tsv/amazon_reviews_us_Wireless_v1_00.tsv.gz\n",
        "!wget https://s3.amazonaws.com/amazon-reviews-pds/tsv/amazon_reviews_us_Watches_v1_00.tsv.gz\n",
        "!wget https://s3.amazonaws.com/amazon-reviews-pds/tsv/amazon_reviews_us_Video_Games_v1_00.tsv.gz\n",
        "!wget https://s3.amazonaws.com/amazon-reviews-pds/tsv/amazon_reviews_us_Toys_v1_00.tsv.gz\n",
        "!wget https://s3.amazonaws.com/amazon-reviews-pds/tsv/amazon_reviews_us_Tools_v1_00.tsv.gz\n",
        "!wget https://s3.amazonaws.com/amazon-reviews-pds/tsv/amazon_reviews_us_Sports_v1_00.tsv.gz\n",
        "!wget https://s3.amazonaws.com/amazon-reviews-pds/tsv/amazon_reviews_us_Software_v1_00.tsv.gz\n",
        "!wget https://s3.amazonaws.com/amazon-reviews-pds/tsv/amazon_reviews_us_Shoes_v1_00.tsv.gz\n",
        "!wget https://s3.amazonaws.com/amazon-reviews-pds/tsv/amazon_reviews_us_Pet_Products_v1_00.tsv.gz\n",
        "!wget https://s3.amazonaws.com/amazon-reviews-pds/tsv/amazon_reviews_us_Personal_Care_Appliances_v1_00.tsv.gz\n",
        "!wget https://s3.amazonaws.com/amazon-reviews-pds/tsv/amazon_reviews_us_Outdoors_v1_00.tsv.gz\n"
      ],
      "execution_count": null,
      "outputs": [
        {
          "output_type": "stream",
          "text": [
            "--2019-10-16 10:03:40--  https://s3.amazonaws.com/amazon-reviews-pds/tsv/amazon_reviews_us_Wireless_v1_00.tsv.gz\n",
            "Resolving s3.amazonaws.com (s3.amazonaws.com)... 52.216.242.214\n",
            "Connecting to s3.amazonaws.com (s3.amazonaws.com)|52.216.242.214|:443... connected.\n",
            "HTTP request sent, awaiting response... 200 OK\n",
            "Length: 1704713674 (1.6G) [application/x-gzip]\n",
            "Saving to: ‘amazon_reviews_us_Wireless_v1_00.tsv.gz’\n",
            "\n",
            "amazon_reviews_us_W 100%[===================>]   1.59G  68.4MB/s    in 64s     \n",
            "\n",
            "2019-10-16 10:04:44 (25.4 MB/s) - ‘amazon_reviews_us_Wireless_v1_00.tsv.gz’ saved [1704713674/1704713674]\n",
            "\n",
            "--2019-10-16 10:04:46--  https://s3.amazonaws.com/amazon-reviews-pds/tsv/amazon_reviews_us_Watches_v1_00.tsv.gz\n",
            "Resolving s3.amazonaws.com (s3.amazonaws.com)... 52.217.37.142\n",
            "Connecting to s3.amazonaws.com (s3.amazonaws.com)|52.217.37.142|:443... connected.\n",
            "HTTP request sent, awaiting response... 200 OK\n",
            "Length: 162973819 (155M) [application/x-gzip]\n",
            "Saving to: ‘amazon_reviews_us_Watches_v1_00.tsv.gz’\n",
            "\n",
            "amazon_reviews_us_W 100%[===================>] 155.42M  59.3MB/s    in 2.6s    \n",
            "\n",
            "2019-10-16 10:04:49 (59.3 MB/s) - ‘amazon_reviews_us_Watches_v1_00.tsv.gz’ saved [162973819/162973819]\n",
            "\n",
            "--2019-10-16 10:04:50--  https://s3.amazonaws.com/amazon-reviews-pds/tsv/amazon_reviews_us_Video_Games_v1_00.tsv.gz\n",
            "Resolving s3.amazonaws.com (s3.amazonaws.com)... 52.216.229.11\n",
            "Connecting to s3.amazonaws.com (s3.amazonaws.com)|52.216.229.11|:443... connected.\n",
            "HTTP request sent, awaiting response... 200 OK\n",
            "Length: 475199894 (453M) [application/x-gzip]\n",
            "Saving to: ‘amazon_reviews_us_Video_Games_v1_00.tsv.gz’\n",
            "\n",
            "amazon_reviews_us_V 100%[===================>] 453.19M  37.8MB/s    in 42s     \n",
            "\n",
            "2019-10-16 10:05:32 (10.9 MB/s) - ‘amazon_reviews_us_Video_Games_v1_00.tsv.gz’ saved [475199894/475199894]\n",
            "\n",
            "--2019-10-16 10:05:34--  https://s3.amazonaws.com/amazon-reviews-pds/tsv/amazon_reviews_us_Toys_v1_00.tsv.gz\n",
            "Resolving s3.amazonaws.com (s3.amazonaws.com)... 52.216.94.117\n",
            "Connecting to s3.amazonaws.com (s3.amazonaws.com)|52.216.94.117|:443... connected.\n",
            "HTTP request sent, awaiting response... 200 OK\n",
            "Length: 838451398 (800M) [application/x-gzip]\n",
            "Saving to: ‘amazon_reviews_us_Toys_v1_00.tsv.gz’\n",
            "\n",
            "amazon_reviews_us_T 100%[===================>] 799.61M  79.2MB/s    in 10s     \n",
            "\n",
            "2019-10-16 10:05:44 (78.3 MB/s) - ‘amazon_reviews_us_Toys_v1_00.tsv.gz’ saved [838451398/838451398]\n",
            "\n",
            "--2019-10-16 10:05:45--  https://s3.amazonaws.com/amazon-reviews-pds/tsv/amazon_reviews_us_Tools_v1_00.tsv.gz\n",
            "Resolving s3.amazonaws.com (s3.amazonaws.com)... 52.216.207.173\n",
            "Connecting to s3.amazonaws.com (s3.amazonaws.com)|52.216.207.173|:443... connected.\n",
            "HTTP request sent, awaiting response... 200 OK\n",
            "Length: 333782939 (318M) [application/x-gzip]\n",
            "Saving to: ‘amazon_reviews_us_Tools_v1_00.tsv.gz’\n",
            "\n",
            "amazon_reviews_us_T 100%[===================>] 318.32M  79.5MB/s    in 4.2s    \n",
            "\n",
            "2019-10-16 10:05:50 (76.5 MB/s) - ‘amazon_reviews_us_Tools_v1_00.tsv.gz’ saved [333782939/333782939]\n",
            "\n",
            "--2019-10-16 10:05:52--  https://s3.amazonaws.com/amazon-reviews-pds/tsv/amazon_reviews_us_Sports_v1_00.tsv.gz\n",
            "Resolving s3.amazonaws.com (s3.amazonaws.com)... 52.216.163.5\n",
            "Connecting to s3.amazonaws.com (s3.amazonaws.com)|52.216.163.5|:443... connected.\n",
            "HTTP request sent, awaiting response... 200 OK\n",
            "Length: 872478735 (832M) [application/x-gzip]\n",
            "Saving to: ‘amazon_reviews_us_Sports_v1_00.tsv.gz’\n",
            "\n",
            "amazon_reviews_us_S 100%[===================>] 832.06M  83.2MB/s    in 10s     \n",
            "\n",
            "2019-10-16 10:06:02 (81.5 MB/s) - ‘amazon_reviews_us_Sports_v1_00.tsv.gz’ saved [872478735/872478735]\n",
            "\n",
            "--2019-10-16 10:06:03--  https://s3.amazonaws.com/amazon-reviews-pds/tsv/amazon_reviews_us_Software_v1_00.tsv.gz\n",
            "Resolving s3.amazonaws.com (s3.amazonaws.com)... 52.216.168.61\n",
            "Connecting to s3.amazonaws.com (s3.amazonaws.com)|52.216.168.61|:443... connected.\n",
            "HTTP request sent, awaiting response... 200 OK\n",
            "Length: 94010685 (90M) [application/x-gzip]\n",
            "Saving to: ‘amazon_reviews_us_Software_v1_00.tsv.gz’\n",
            "\n",
            "amazon_reviews_us_S 100%[===================>]  89.66M  61.3MB/s    in 1.5s    \n",
            "\n",
            "2019-10-16 10:06:05 (61.3 MB/s) - ‘amazon_reviews_us_Software_v1_00.tsv.gz’ saved [94010685/94010685]\n",
            "\n",
            "--2019-10-16 10:06:06--  https://s3.amazonaws.com/amazon-reviews-pds/tsv/amazon_reviews_us_Shoes_v1_00.tsv.gz\n",
            "Resolving s3.amazonaws.com (s3.amazonaws.com)... 52.216.107.6\n",
            "Connecting to s3.amazonaws.com (s3.amazonaws.com)|52.216.107.6|:443... connected.\n",
            "HTTP request sent, awaiting response... 200 OK\n",
            "Length: 642255314 (613M) [application/x-gzip]\n",
            "Saving to: ‘amazon_reviews_us_Shoes_v1_00.tsv.gz’\n",
            "\n",
            "amazon_reviews_us_S 100%[===================>] 612.50M  76.3MB/s    in 7.6s    \n",
            "\n",
            "2019-10-16 10:06:14 (80.1 MB/s) - ‘amazon_reviews_us_Shoes_v1_00.tsv.gz’ saved [642255314/642255314]\n",
            "\n",
            "--2019-10-16 10:06:15--  https://s3.amazonaws.com/amazon-reviews-pds/tsv/amazon_reviews_us_Pet_Products_v1_00.tsv.gz\n",
            "Resolving s3.amazonaws.com (s3.amazonaws.com)... 52.216.98.221\n",
            "Connecting to s3.amazonaws.com (s3.amazonaws.com)|52.216.98.221|:443... connected.\n",
            "HTTP request sent, awaiting response... 200 OK\n",
            "Length: 515815253 (492M) [application/x-gzip]\n",
            "Saving to: ‘amazon_reviews_us_Pet_Products_v1_00.tsv.gz’\n",
            "\n",
            "amazon_reviews_us_P 100%[===================>] 491.92M  72.4MB/s    in 6.8s    \n",
            "\n",
            "2019-10-16 10:06:22 (72.6 MB/s) - ‘amazon_reviews_us_Pet_Products_v1_00.tsv.gz’ saved [515815253/515815253]\n",
            "\n",
            "--2019-10-16 10:06:23--  https://s3.amazonaws.com/amazon-reviews-pds/tsv/amazon_reviews_us_Personal_Care_Appliances_v1_00.tsv.gz\n",
            "Resolving s3.amazonaws.com (s3.amazonaws.com)... 52.216.97.221\n",
            "Connecting to s3.amazonaws.com (s3.amazonaws.com)|52.216.97.221|:443... connected.\n",
            "HTTP request sent, awaiting response... 200 OK\n",
            "Length: 17634794 (17M) [application/x-gzip]\n",
            "Saving to: ‘amazon_reviews_us_Personal_Care_Appliances_v1_00.tsv.gz’\n",
            "\n",
            "amazon_reviews_us_P 100%[===================>]  16.82M  34.7MB/s    in 0.5s    \n",
            "\n",
            "2019-10-16 10:06:24 (34.7 MB/s) - ‘amazon_reviews_us_Personal_Care_Appliances_v1_00.tsv.gz’ saved [17634794/17634794]\n",
            "\n",
            "--2019-10-16 10:06:25--  https://s3.amazonaws.com/amazon-reviews-pds/tsv/amazon_reviews_us_Outdoors_v1_00.tsv.gz\n",
            "Resolving s3.amazonaws.com (s3.amazonaws.com)... 52.216.97.221\n",
            "Connecting to s3.amazonaws.com (s3.amazonaws.com)|52.216.97.221|:443... connected.\n",
            "HTTP request sent, awaiting response... 200 OK\n",
            "Length: 448963100 (428M) [application/x-gzip]\n",
            "Saving to: ‘amazon_reviews_us_Outdoors_v1_00.tsv.gz’\n",
            "\n",
            "amazon_reviews_us_O 100%[===================>] 428.16M  47.0MB/s    in 9.4s    \n",
            "\n",
            "2019-10-16 10:06:35 (45.5 MB/s) - ‘amazon_reviews_us_Outdoors_v1_00.tsv.gz’ saved [448963100/448963100]\n",
            "\n"
          ],
          "name": "stdout"
        }
      ]
    },
    {
      "cell_type": "code",
      "metadata": {
        "id": "lYACE1yPsuWm",
        "colab_type": "code",
        "colab": {}
      },
      "source": [
        "# Download the below datasets also, if you want at your own risk\n",
        "# CAUTION : THOSE ARE MASSIVE DATASETS , UPON PROCESSING MIGHT CONSUME 20 GB OF STORAGE AND INTERNET DOWNLOADS\n",
        "''' \n",
        "!wget https://s3.amazonaws.com/amazon-reviews-pds/tsv/amazon_reviews_us_Office_Products_v1_00.tsv.gz\n",
        "!wget https://s3.amazonaws.com/amazon-reviews-pds/tsv/amazon_reviews_us_Musical_Instruments_v1_00.tsv.gz\n",
        "!wget https://s3.amazonaws.com/amazon-reviews-pds/tsv/amazon_reviews_us_Music_v1_00.tsv.gz\n",
        "!wget https://s3.amazonaws.com/amazon-reviews-pds/tsv/amazon_reviews_us_Mobile_Electronics_v1_00.tsv.gz\n",
        "!wget https://s3.amazonaws.com/amazon-reviews-pds/tsv/amazon_reviews_us_Mobile_Apps_v1_00.tsv.gz\n",
        "!wget https://s3.amazonaws.com/amazon-reviews-pds/tsv/amazon_reviews_us_Major_Appliances_v1_00.tsv.gz\n",
        "!wget https://s3.amazonaws.com/amazon-reviews-pds/tsv/amazon_reviews_us_Luggage_v1_00.tsv.gz\n",
        "!wget https://s3.amazonaws.com/amazon-reviews-pds/tsv/amazon_reviews_us_Lawn_and_Garden_v1_00.tsv.gz\n",
        "!wget https://s3.amazonaws.com/amazon-reviews-pds/tsv/amazon_reviews_us_Kitchen_v1_00.tsv.gz\n",
        "!wget https://s3.amazonaws.com/amazon-reviews-pds/tsv/amazon_reviews_us_Jewelry_v1_00.tsv.gz\n",
        "!wget https://s3.amazonaws.com/amazon-reviews-pds/tsv/amazon_reviews_us_Home_Entertainment_v1_00.tsv.gz\n",
        "!wget https://s3.amazonaws.com/amazon-reviews-pds/tsv/amazon_reviews_us_Home_v1_00.tsv.gz\n",
        "!wget https://s3.amazonaws.com/amazon-reviews-pds/tsv/amazon_reviews_us_Health_Personal_Care_v1_00.tsv.gz\n",
        "!wget https://s3.amazonaws.com/amazon-reviews-pds/tsv/amazon_reviews_us_PC_v1_00.tsv.gz\n",
        "\n",
        " '''"
      ],
      "execution_count": null,
      "outputs": []
    },
    {
      "cell_type": "code",
      "metadata": {
        "id": "-ywtPfD8fiP4",
        "colab_type": "code",
        "colab": {
          "base_uri": "https://localhost:8080/",
          "height": 212
        },
        "outputId": "45d51407-c158-4b9d-e1d1-a9e315e7506f"
      },
      "source": [
        "# Download the below datasets also, if you want at your own risk\n",
        "'''\n",
        "!wget https://s3.amazonaws.com/amazon-reviews-pds/tsv/amazon_reviews_us_Grocery_v1_00.tsv.gz\n",
        "!wget https://s3.amazonaws.com/amazon-reviews-pds/tsv/amazon_reviews_us_Gift_Card_v1_00.tsv.gz\n",
        "!wget https://s3.amazonaws.com/amazon-reviews-pds/tsv/amazon_reviews_us_Furniture_v1_00.tsv.gz\n",
        "!wget https://s3.amazonaws.com/amazon-reviews-pds/tsv/amazon_reviews_us_Electronics_v1_00.tsv.gz\n",
        "!wget https://s3.amazonaws.com/amazon-reviews-pds/tsv/amazon_reviews_us_Digital_Video_Games_v1_00.tsv.gz\n",
        "!wget https://s3.amazonaws.com/amazon-reviews-pds/tsv/amazon_reviews_us_Digital_Video_Download_v1_00.tsv.gz\n",
        "!wget https://s3.amazonaws.com/amazon-reviews-pds/tsv/amazon_reviews_us_Digital_Software_v1_00.tsv.gz\n",
        "!wget https://s3.amazonaws.com/amazon-reviews-pds/tsv/amazon_reviews_us_Digital_Music_Purchase_v1_00.tsv.gz\n",
        "!wget https://s3.amazonaws.com/amazon-reviews-pds/tsv/amazon_reviews_us_Digital_Ebook_Purchase_v1_01.tsv.gz\n",
        "!wget https://s3.amazonaws.com/amazon-reviews-pds/tsv/amazon_reviews_us_Digital_Ebook_Purchase_v1_00.tsv.gz\n",
        "!wget https://s3.amazonaws.com/amazon-reviews-pds/tsv/amazon_reviews_us_Camera_v1_00.tsv.gz\n",
        "!wget https://s3.amazonaws.com/amazon-reviews-pds/tsv/amazon_reviews_us_Books_v1_02.tsv.gz\n",
        "!wget https://s3.amazonaws.com/amazon-reviews-pds/tsv/amazon_reviews_us_Books_v1_01.tsv.gz\n",
        "!wget https://s3.amazonaws.com/amazon-reviews-pds/tsv/amazon_reviews_us_Books_v1_00.tsv.gz\n",
        "!wget https://s3.amazonaws.com/amazon-reviews-pds/tsv/amazon_reviews_us_Beauty_v1_00.tsv.gz\n",
        "!wget https://s3.amazonaws.com/amazon-reviews-pds/tsv/amazon_reviews_us_Baby_v1_00.tsv.gz\n",
        "!wget https://s3.amazonaws.com/amazon-reviews-pds/tsv/amazon_reviews_us_Automotive_v1_00.tsv.gz\n",
        "!wget https://s3.amazonaws.com/amazon-reviews-pds/tsv/amazon_reviews_us_Apparel_v1_00.tsv.gz'''"
      ],
      "execution_count": null,
      "outputs": [
        {
          "output_type": "stream",
          "text": [
            "--2019-10-16 08:25:33--  https://s3.amazonaws.com/amazon-reviews-pds/tsv/amazon_reviews_us_Video_Games_v1_00.tsv.gz\n",
            "Resolving s3.amazonaws.com (s3.amazonaws.com)... 52.217.10.38\n",
            "Connecting to s3.amazonaws.com (s3.amazonaws.com)|52.217.10.38|:443... connected.\n",
            "HTTP request sent, awaiting response... 200 OK\n",
            "Length: 475199894 (453M) [application/x-gzip]\n",
            "Saving to: ‘amazon_reviews_us_Video_Games_v1_00.tsv.gz’\n",
            "\n",
            "amazon_reviews_us_V 100%[===================>] 453.19M  16.5MB/s    in 29s     \n",
            "\n",
            "2019-10-16 08:26:03 (15.7 MB/s) - ‘amazon_reviews_us_Video_Games_v1_00.tsv.gz’ saved [475199894/475199894]\n",
            "\n"
          ],
          "name": "stdout"
        }
      ]
    },
    {
      "cell_type": "code",
      "metadata": {
        "id": "BpZ_KZyikKfU",
        "colab_type": "code",
        "colab": {
          "base_uri": "https://localhost:8080/",
          "height": 247
        },
        "outputId": "edec3d37-05fe-4730-fb3f-b640866614f6"
      },
      "source": [
        "x = !ls /content\n",
        "x"
      ],
      "execution_count": null,
      "outputs": [
        {
          "output_type": "execute_result",
          "data": {
            "text/plain": [
              "['amazon_reviews_us_Outdoors_v1_00.tsv.gz',\n",
              " 'amazon_reviews_us_Personal_Care_Appliances_v1_00.tsv.gz',\n",
              " 'amazon_reviews_us_Pet_Products_v1_00.tsv.gz',\n",
              " 'amazon_reviews_us_Shoes_v1_00.tsv.gz',\n",
              " 'amazon_reviews_us_Software_v1_00.tsv.gz',\n",
              " 'amazon_reviews_us_Sports_v1_00.tsv.gz',\n",
              " 'amazon_reviews_us_Tools_v1_00.tsv.gz',\n",
              " 'amazon_reviews_us_Toys_v1_00.tsv.gz',\n",
              " 'amazon_reviews_us_Video_Games_v1_00.tsv.gz',\n",
              " 'amazon_reviews_us_Watches_v1_00.tsv.gz',\n",
              " 'amazon_reviews_us_Wireless_v1_00.tsv.gz',\n",
              " 'drive',\n",
              " 'sample_data']"
            ]
          },
          "metadata": {
            "tags": []
          },
          "execution_count": 3
        }
      ]
    },
    {
      "cell_type": "code",
      "metadata": {
        "id": "N2eTwJE4rOfU",
        "colab_type": "code",
        "colab": {
          "base_uri": "https://localhost:8080/",
          "height": 212
        },
        "outputId": "c818ff1e-54f3-4596-9063-69f15854adaa"
      },
      "source": [
        "x = x[:-2]\n",
        "x"
      ],
      "execution_count": null,
      "outputs": [
        {
          "output_type": "execute_result",
          "data": {
            "text/plain": [
              "['amazon_reviews_us_Outdoors_v1_00.tsv.gz',\n",
              " 'amazon_reviews_us_Personal_Care_Appliances_v1_00.tsv.gz',\n",
              " 'amazon_reviews_us_Pet_Products_v1_00.tsv.gz',\n",
              " 'amazon_reviews_us_Shoes_v1_00.tsv.gz',\n",
              " 'amazon_reviews_us_Software_v1_00.tsv.gz',\n",
              " 'amazon_reviews_us_Sports_v1_00.tsv.gz',\n",
              " 'amazon_reviews_us_Tools_v1_00.tsv.gz',\n",
              " 'amazon_reviews_us_Toys_v1_00.tsv.gz',\n",
              " 'amazon_reviews_us_Video_Games_v1_00.tsv.gz',\n",
              " 'amazon_reviews_us_Watches_v1_00.tsv.gz',\n",
              " 'amazon_reviews_us_Wireless_v1_00.tsv.gz']"
            ]
          },
          "metadata": {
            "tags": []
          },
          "execution_count": 4
        }
      ]
    },
    {
      "cell_type": "code",
      "metadata": {
        "id": "M1yIx8Syo5Qa",
        "colab_type": "code",
        "colab": {
          "base_uri": "https://localhost:8080/",
          "height": 52
        },
        "outputId": "be492058-d4b0-4626-acb8-27cb22b7bb5c"
      },
      "source": [
        "title = []\n",
        "for i in x:\n",
        "  title.append(i.split(\"_\")[3])\n",
        "\n",
        "print(title)\n",
        "title[0]"
      ],
      "execution_count": null,
      "outputs": [
        {
          "output_type": "stream",
          "text": [
            "['Outdoors', 'Personal', 'Pet', 'Shoes', 'Software', 'Sports', 'Tools', 'Toys', 'Video', 'Watches', 'Wireless']\n"
          ],
          "name": "stdout"
        },
        {
          "output_type": "execute_result",
          "data": {
            "text/plain": [
              "'Outdoors'"
            ]
          },
          "metadata": {
            "tags": []
          },
          "execution_count": 5
        }
      ]
    },
    {
      "cell_type": "code",
      "metadata": {
        "id": "gwPDj75mf7nq",
        "colab_type": "code",
        "colab": {
          "base_uri": "https://localhost:8080/",
          "height": 680
        },
        "outputId": "c4d1c1e3-9524-42b7-ea9d-d15ae8a0925e"
      },
      "source": [
        "import gzip\n",
        "import pandas as pd\n",
        "\n",
        "for i,files in enumerate(x):\n",
        "  with gzip.open(files) as f:\n",
        "      features_train = pd.read_csv(f,delimiter = '\\t', error_bad_lines=False, usecols = ['star_rating','verified_purchase','review_body'])\n",
        "      df = pd.DataFrame(features_train)\n",
        "      df.to_csv(\"/content/dataset_{}\".format(title[i]))\n",
        "      print(\"Dataset_{} loaded Successfully\".format(title[i]))\n",
        "      print(\" \")\n",
        "      \n",
        "df.head()"
      ],
      "execution_count": null,
      "outputs": [
        {
          "output_type": "stream",
          "text": [
            "/usr/local/lib/python3.6/dist-packages/IPython/core/interactiveshell.py:2718: DtypeWarning: Columns (7) have mixed types. Specify dtype option on import or set low_memory=False.\n",
            "  interactivity=interactivity, compiler=compiler, result=result)\n"
          ],
          "name": "stderr"
        },
        {
          "output_type": "stream",
          "text": [
            "Dataset_Outdoors loaded Successfully\n",
            " \n",
            "Dataset_Personal loaded Successfully\n",
            " \n",
            "Dataset_Pet loaded Successfully\n",
            " \n",
            "Dataset_Shoes loaded Successfully\n",
            " \n",
            "Dataset_Software loaded Successfully\n",
            " \n"
          ],
          "name": "stdout"
        },
        {
          "output_type": "stream",
          "text": [
            "/usr/local/lib/python3.6/dist-packages/IPython/core/interactiveshell.py:2718: DtypeWarning: Columns (7) have mixed types. Specify dtype option on import or set low_memory=False.\n",
            "  interactivity=interactivity, compiler=compiler, result=result)\n"
          ],
          "name": "stderr"
        },
        {
          "output_type": "stream",
          "text": [
            "Dataset_Sports loaded Successfully\n",
            " \n",
            "Dataset_Tools loaded Successfully\n",
            " \n",
            "Dataset_Toys loaded Successfully\n",
            " \n",
            "Dataset_Video loaded Successfully\n",
            " \n",
            "Dataset_Watches loaded Successfully\n",
            " \n",
            "Dataset_Wireless loaded Successfully\n",
            " \n"
          ],
          "name": "stdout"
        },
        {
          "output_type": "execute_result",
          "data": {
            "text/html": [
              "<div>\n",
              "<style scoped>\n",
              "    .dataframe tbody tr th:only-of-type {\n",
              "        vertical-align: middle;\n",
              "    }\n",
              "\n",
              "    .dataframe tbody tr th {\n",
              "        vertical-align: top;\n",
              "    }\n",
              "\n",
              "    .dataframe thead th {\n",
              "        text-align: right;\n",
              "    }\n",
              "</style>\n",
              "<table border=\"1\" class=\"dataframe\">\n",
              "  <thead>\n",
              "    <tr style=\"text-align: right;\">\n",
              "      <th></th>\n",
              "      <th>star_rating</th>\n",
              "      <th>verified_purchase</th>\n",
              "      <th>review_body</th>\n",
              "    </tr>\n",
              "  </thead>\n",
              "  <tbody>\n",
              "    <tr>\n",
              "      <th>0</th>\n",
              "      <td>2</td>\n",
              "      <td>Y</td>\n",
              "      <td>2 issues  -  Once I turned on the circle apps ...</td>\n",
              "    </tr>\n",
              "    <tr>\n",
              "      <th>1</th>\n",
              "      <td>4</td>\n",
              "      <td>N</td>\n",
              "      <td>I’m embarrassed to admit that until recently, ...</td>\n",
              "    </tr>\n",
              "    <tr>\n",
              "      <th>2</th>\n",
              "      <td>5</td>\n",
              "      <td>Y</td>\n",
              "      <td>Fits iPhone 6 well</td>\n",
              "    </tr>\n",
              "    <tr>\n",
              "      <th>3</th>\n",
              "      <td>5</td>\n",
              "      <td>Y</td>\n",
              "      <td>Great charger.  I easily get 3+ charges on a S...</td>\n",
              "    </tr>\n",
              "    <tr>\n",
              "      <th>4</th>\n",
              "      <td>5</td>\n",
              "      <td>Y</td>\n",
              "      <td>Great for the price :-)</td>\n",
              "    </tr>\n",
              "  </tbody>\n",
              "</table>\n",
              "</div>"
            ],
            "text/plain": [
              "  star_rating  ...                                        review_body\n",
              "0           2  ...  2 issues  -  Once I turned on the circle apps ...\n",
              "1           4  ...  I’m embarrassed to admit that until recently, ...\n",
              "2           5  ...                                 Fits iPhone 6 well\n",
              "3           5  ...  Great charger.  I easily get 3+ charges on a S...\n",
              "4           5  ...                            Great for the price :-)\n",
              "\n",
              "[5 rows x 3 columns]"
            ]
          },
          "metadata": {
            "tags": []
          },
          "execution_count": 6
        }
      ]
    },
    {
      "cell_type": "code",
      "metadata": {
        "id": "NQw1euK2zlPz",
        "colab_type": "code",
        "colab": {
          "base_uri": "https://localhost:8080/",
          "height": 90
        },
        "outputId": "9165ef8b-f19c-4fd5-9caf-55549482837d"
      },
      "source": [
        "%%time\n",
        "import pandas as pd\n",
        "\n",
        "df1 = pd.read_csv('/content/dataset_Outdoors')\n",
        "df2 = pd.read_csv('/content/dataset_Wireless')\n",
        "df3 = pd.read_csv('/content/dataset_Personal')\n",
        "df4 = pd.read_csv('/content/dataset_Pet')\n",
        "\n",
        "print(\" '_' \")\n",
        "df1 = pd.DataFrame(df1)\n",
        "df2 = pd.DataFrame(df2)\n",
        "df3 = pd.DataFrame(df3)\n",
        "df4 = pd.DataFrame(df4)\n",
        "\n",
        "dftemp1 = pd.concat([df1,df2,df3,df4], axis=0)\n",
        "dftemp1.to_csv(\"/content/drive/My Drive/Machine Learning Projects/SENTIMENT ANALYSIS/SOURCE CODES AND DATASETS/Amazon EWS - Final Dataset/dftemp1.csv\")"
      ],
      "execution_count": null,
      "outputs": [
        {
          "output_type": "stream",
          "text": [
            "/usr/local/lib/python3.6/dist-packages/IPython/core/interactiveshell.py:2718: DtypeWarning: Columns (1) have mixed types. Specify dtype option on import or set low_memory=False.\n",
            "  interactivity=interactivity, compiler=compiler, result=result)\n"
          ],
          "name": "stderr"
        },
        {
          "output_type": "stream",
          "text": [
            " '_' \n"
          ],
          "name": "stdout"
        }
      ]
    },
    {
      "cell_type": "code",
      "metadata": {
        "id": "VI3b2_xB3oxf",
        "colab_type": "code",
        "colab": {
          "base_uri": "https://localhost:8080/",
          "height": 87
        },
        "outputId": "7a0f8a0d-cf24-4914-8943-3b96d7120cd7"
      },
      "source": [
        "%%time\n",
        "import pandas as pd\n",
        "\n",
        "df5 = pd.read_csv('/content/dataset_Shoes')\n",
        "df6 = pd.read_csv('/content/dataset_Software')\n",
        "df7 = pd.read_csv('/content/dataset_Sports')\n",
        "df8 = pd.read_csv('/content/dataset_Tools')\n",
        "\n",
        "print(\" '_' \")\n",
        "df5 = pd.DataFrame(df5)\n",
        "df6 = pd.DataFrame(df6)\n",
        "df7 = pd.DataFrame(df7)\n",
        "df8 = pd.DataFrame(df8)\n",
        "\n",
        "dftemp2 = pd.concat([df5,df6,df7,df8], axis=0)\n",
        "dftemp2.to_csv(\"/content/drive/My Drive/Machine Learning Projects/SENTIMENT ANALYSIS/SOURCE CODES AND DATASETS/Amazon EWS - Final Dataset/dftemp2.csv\")"
      ],
      "execution_count": null,
      "outputs": [
        {
          "output_type": "stream",
          "text": [
            "<string>:2: DtypeWarning: Columns (1) have mixed types. Specify dtype option on import or set low_memory=False.\n"
          ],
          "name": "stderr"
        },
        {
          "output_type": "stream",
          "text": [
            " '_' \n",
            "CPU times: user 2min 5s, sys: 6.58 s, total: 2min 11s\n",
            "Wall time: 2min 33s\n"
          ],
          "name": "stdout"
        }
      ]
    },
    {
      "cell_type": "code",
      "metadata": {
        "id": "RBlWj2nS2lW1",
        "colab_type": "code",
        "colab": {
          "base_uri": "https://localhost:8080/",
          "height": 70
        },
        "outputId": "eb77eaa8-324e-4f42-cabe-36cc67c29513"
      },
      "source": [
        "%%time\n",
        "import pandas as pd\n",
        "\n",
        "df9 = pd.read_csv('/content/dataset_Toys')\n",
        "df10 = pd.read_csv('/content/dataset_Video')\n",
        "df11 = pd.read_csv('/content/dataset_Watches')\n",
        "\n",
        "print(\" '_' \")\n",
        "df9 = pd.DataFrame(df9)\n",
        "df10 = pd.DataFrame(df10)\n",
        "df11 = pd.DataFrame(df11)\n",
        "\n",
        "dftemp3 = pd.concat([df9,df10,df11], axis=0)\n",
        "dftemp3.to_csv(\"/content/drive/My Drive/Machine Learning Projects/SENTIMENT ANALYSIS/SOURCE CODES AND DATASETS/Amazon EWS - Final Dataset/dftemp3.csv\")"
      ],
      "execution_count": null,
      "outputs": [
        {
          "output_type": "stream",
          "text": [
            " '_' \n",
            "CPU times: user 1min 42s, sys: 5.56 s, total: 1min 47s\n",
            "Wall time: 2min 36s\n"
          ],
          "name": "stdout"
        }
      ]
    },
    {
      "cell_type": "code",
      "metadata": {
        "id": "adDAJ2h83yl6",
        "colab_type": "code",
        "colab": {
          "base_uri": "https://localhost:8080/",
          "height": 365
        },
        "outputId": "53511c8e-7008-46f9-d9e0-de9fd995bdc6"
      },
      "source": [
        "print(dftemp3.shape)\n",
        "dftemp3.head(10)"
      ],
      "execution_count": null,
      "outputs": [
        {
          "output_type": "stream",
          "text": [
            "(7600444, 4)\n"
          ],
          "name": "stdout"
        },
        {
          "output_type": "execute_result",
          "data": {
            "text/html": [
              "<div>\n",
              "<style scoped>\n",
              "    .dataframe tbody tr th:only-of-type {\n",
              "        vertical-align: middle;\n",
              "    }\n",
              "\n",
              "    .dataframe tbody tr th {\n",
              "        vertical-align: top;\n",
              "    }\n",
              "\n",
              "    .dataframe thead th {\n",
              "        text-align: right;\n",
              "    }\n",
              "</style>\n",
              "<table border=\"1\" class=\"dataframe\">\n",
              "  <thead>\n",
              "    <tr style=\"text-align: right;\">\n",
              "      <th></th>\n",
              "      <th>Unnamed: 0</th>\n",
              "      <th>star_rating</th>\n",
              "      <th>verified_purchase</th>\n",
              "      <th>review_body</th>\n",
              "    </tr>\n",
              "  </thead>\n",
              "  <tbody>\n",
              "    <tr>\n",
              "      <th>0</th>\n",
              "      <td>0</td>\n",
              "      <td>5.0</td>\n",
              "      <td>Y</td>\n",
              "      <td>Excellent!!!</td>\n",
              "    </tr>\n",
              "    <tr>\n",
              "      <th>1</th>\n",
              "      <td>1</td>\n",
              "      <td>5.0</td>\n",
              "      <td>Y</td>\n",
              "      <td>Great quality wooden track (better than some o...</td>\n",
              "    </tr>\n",
              "    <tr>\n",
              "      <th>2</th>\n",
              "      <td>2</td>\n",
              "      <td>2.0</td>\n",
              "      <td>Y</td>\n",
              "      <td>Cards are not as big as pictured.</td>\n",
              "    </tr>\n",
              "    <tr>\n",
              "      <th>3</th>\n",
              "      <td>3</td>\n",
              "      <td>5.0</td>\n",
              "      <td>Y</td>\n",
              "      <td>my daughter loved it and i liked the price and...</td>\n",
              "    </tr>\n",
              "    <tr>\n",
              "      <th>4</th>\n",
              "      <td>4</td>\n",
              "      <td>1.0</td>\n",
              "      <td>Y</td>\n",
              "      <td>Do not buy these! They break very fast I spun ...</td>\n",
              "    </tr>\n",
              "    <tr>\n",
              "      <th>5</th>\n",
              "      <td>5</td>\n",
              "      <td>5.0</td>\n",
              "      <td>Y</td>\n",
              "      <td>Great item. Pictures pop thru and add detail a...</td>\n",
              "    </tr>\n",
              "    <tr>\n",
              "      <th>6</th>\n",
              "      <td>6</td>\n",
              "      <td>3.0</td>\n",
              "      <td>Y</td>\n",
              "      <td>To keep together, had to use crazy  glue.</td>\n",
              "    </tr>\n",
              "    <tr>\n",
              "      <th>7</th>\n",
              "      <td>7</td>\n",
              "      <td>5.0</td>\n",
              "      <td>Y</td>\n",
              "      <td>I was pleased with the product.</td>\n",
              "    </tr>\n",
              "    <tr>\n",
              "      <th>8</th>\n",
              "      <td>8</td>\n",
              "      <td>5.0</td>\n",
              "      <td>Y</td>\n",
              "      <td>Children like it</td>\n",
              "    </tr>\n",
              "    <tr>\n",
              "      <th>9</th>\n",
              "      <td>9</td>\n",
              "      <td>1.0</td>\n",
              "      <td>Y</td>\n",
              "      <td>Showed up not how it's shown . Was someone's o...</td>\n",
              "    </tr>\n",
              "  </tbody>\n",
              "</table>\n",
              "</div>"
            ],
            "text/plain": [
              "   Unnamed: 0  ...                                        review_body\n",
              "0           0  ...                                       Excellent!!!\n",
              "1           1  ...  Great quality wooden track (better than some o...\n",
              "2           2  ...                  Cards are not as big as pictured.\n",
              "3           3  ...  my daughter loved it and i liked the price and...\n",
              "4           4  ...  Do not buy these! They break very fast I spun ...\n",
              "5           5  ...  Great item. Pictures pop thru and add detail a...\n",
              "6           6  ...          To keep together, had to use crazy  glue.\n",
              "7           7  ...                    I was pleased with the product.\n",
              "8           8  ...                                   Children like it\n",
              "9           9  ...  Showed up not how it's shown . Was someone's o...\n",
              "\n",
              "[10 rows x 4 columns]"
            ]
          },
          "metadata": {
            "tags": []
          },
          "execution_count": 10
        }
      ]
    },
    {
      "cell_type": "code",
      "metadata": {
        "id": "mzqArEyu73aX",
        "colab_type": "code",
        "colab": {
          "base_uri": "https://localhost:8080/",
          "height": 403
        },
        "outputId": "2117eade-22d5-4c99-878b-9c92f2f06edc"
      },
      "source": [
        "import pandas as pd\n",
        "\n",
        "dftemp1 = pd.read_csv('/content/drive/My Drive/Machine Learning Projects/SENTIMENT ANALYSIS/SOURCE CODES AND DATASETS/Amazon EWS - Final Dataset/dftemp1.csv', usecols = ['star_rating','verified_purchase','review_body'])\n",
        "#dftemp2 = pd.read_csv('/content/drive/My Drive/Machine Learning Projects/SENTIMENT ANALYSIS/SOURCE CODES AND DATASETS/Amazon EWS - Final Dataset/dftemp2.csv')\n",
        "dftemp3 = pd.read_csv('/content/drive/My Drive/Machine Learning Projects/SENTIMENT ANALYSIS/SOURCE CODES AND DATASETS/Amazon EWS - Final Dataset/dftemp3.csv', usecols = ['star_rating','verified_purchase','review_body'])\n",
        "\n",
        "\n",
        "dftemp1 = pd.DataFrame(dftemp1)\n",
        "#dftemp2 = pd.DataFrame(dftemp2)\n",
        "dftemp3 = pd.DataFrame(dftemp3)\n",
        "\n",
        "final_df = pd.concat([dftemp1,dftemp3], axis=0)\n",
        "final_df.head(10)"
      ],
      "execution_count": null,
      "outputs": [
        {
          "output_type": "stream",
          "text": [
            "/usr/local/lib/python3.6/dist-packages/IPython/core/interactiveshell.py:2718: DtypeWarning: Columns (2) have mixed types. Specify dtype option on import or set low_memory=False.\n",
            "  interactivity=interactivity, compiler=compiler, result=result)\n"
          ],
          "name": "stderr"
        },
        {
          "output_type": "execute_result",
          "data": {
            "text/html": [
              "<div>\n",
              "<style scoped>\n",
              "    .dataframe tbody tr th:only-of-type {\n",
              "        vertical-align: middle;\n",
              "    }\n",
              "\n",
              "    .dataframe tbody tr th {\n",
              "        vertical-align: top;\n",
              "    }\n",
              "\n",
              "    .dataframe thead th {\n",
              "        text-align: right;\n",
              "    }\n",
              "</style>\n",
              "<table border=\"1\" class=\"dataframe\">\n",
              "  <thead>\n",
              "    <tr style=\"text-align: right;\">\n",
              "      <th></th>\n",
              "      <th>star_rating</th>\n",
              "      <th>verified_purchase</th>\n",
              "      <th>review_body</th>\n",
              "    </tr>\n",
              "  </thead>\n",
              "  <tbody>\n",
              "    <tr>\n",
              "      <th>0</th>\n",
              "      <td>4</td>\n",
              "      <td>Y</td>\n",
              "      <td>GOOD VALUE</td>\n",
              "    </tr>\n",
              "    <tr>\n",
              "      <th>1</th>\n",
              "      <td>5</td>\n",
              "      <td>Y</td>\n",
              "      <td>Excellent quality.</td>\n",
              "    </tr>\n",
              "    <tr>\n",
              "      <th>2</th>\n",
              "      <td>4</td>\n",
              "      <td>Y</td>\n",
              "      <td>3rd season using it. I only fill with water an...</td>\n",
              "    </tr>\n",
              "    <tr>\n",
              "      <th>3</th>\n",
              "      <td>3</td>\n",
              "      <td>Y</td>\n",
              "      <td>poor construction as mildew keeps forming in t...</td>\n",
              "    </tr>\n",
              "    <tr>\n",
              "      <th>4</th>\n",
              "      <td>1</td>\n",
              "      <td>Y</td>\n",
              "      <td>Very bad quality, clips was broken when it arr...</td>\n",
              "    </tr>\n",
              "    <tr>\n",
              "      <th>5</th>\n",
              "      <td>4</td>\n",
              "      <td>Y</td>\n",
              "      <td>Nice bag. Should have another strap on bottom ...</td>\n",
              "    </tr>\n",
              "    <tr>\n",
              "      <th>6</th>\n",
              "      <td>5</td>\n",
              "      <td>Y</td>\n",
              "      <td>Gave this to my son who used it while we were ...</td>\n",
              "    </tr>\n",
              "    <tr>\n",
              "      <th>7</th>\n",
              "      <td>5</td>\n",
              "      <td>Y</td>\n",
              "      <td>Went on vacation in Lyme Disease country, kids...</td>\n",
              "    </tr>\n",
              "    <tr>\n",
              "      <th>8</th>\n",
              "      <td>5</td>\n",
              "      <td>Y</td>\n",
              "      <td>Great item. Gets better after burn in. Used th...</td>\n",
              "    </tr>\n",
              "    <tr>\n",
              "      <th>9</th>\n",
              "      <td>5</td>\n",
              "      <td>Y</td>\n",
              "      <td>I am so glad I bought this lifter over the oth...</td>\n",
              "    </tr>\n",
              "  </tbody>\n",
              "</table>\n",
              "</div>"
            ],
            "text/plain": [
              "  star_rating  ...                                        review_body\n",
              "0           4  ...                                         GOOD VALUE\n",
              "1           5  ...                                 Excellent quality.\n",
              "2           4  ...  3rd season using it. I only fill with water an...\n",
              "3           3  ...  poor construction as mildew keeps forming in t...\n",
              "4           1  ...  Very bad quality, clips was broken when it arr...\n",
              "5           4  ...  Nice bag. Should have another strap on bottom ...\n",
              "6           5  ...  Gave this to my son who used it while we were ...\n",
              "7           5  ...  Went on vacation in Lyme Disease country, kids...\n",
              "8           5  ...  Great item. Gets better after burn in. Used th...\n",
              "9           5  ...  I am so glad I bought this lifter over the oth...\n",
              "\n",
              "[10 rows x 3 columns]"
            ]
          },
          "metadata": {
            "tags": []
          },
          "execution_count": 24
        }
      ]
    },
    {
      "cell_type": "code",
      "metadata": {
        "id": "j7O8tOu68tJL",
        "colab_type": "code",
        "colab": {
          "base_uri": "https://localhost:8080/",
          "height": 52
        },
        "outputId": "b6cef2d3-a308-4928-c18d-46295be8b194"
      },
      "source": [
        "print(final_df.shape)\n",
        "final_df.drop_duplicates(inplace=True)\n",
        "final_df.dropna(inplace=True)\n",
        "print(final_df.shape)              "
      ],
      "execution_count": null,
      "outputs": [
        {
          "output_type": "stream",
          "text": [
            "(21618055, 3)\n",
            "(19747922, 3)\n"
          ],
          "name": "stdout"
        }
      ]
    },
    {
      "cell_type": "code",
      "metadata": {
        "id": "eHmGN61FIAkn",
        "colab_type": "code",
        "colab": {
          "base_uri": "https://localhost:8080/",
          "height": 233
        },
        "outputId": "80d4f533-5585-44ab-95c2-d60a11e19195"
      },
      "source": [
        "final_df = final_df[final_df['verified_purchase'] == 'Y']\n",
        "print(pd.unique(final_df['verified_purchase']))\n",
        "print(final_df.shape)              \n",
        "final_df.head()"
      ],
      "execution_count": null,
      "outputs": [
        {
          "output_type": "stream",
          "text": [
            "['Y']\n",
            "(16614969, 3)\n"
          ],
          "name": "stdout"
        },
        {
          "output_type": "execute_result",
          "data": {
            "text/html": [
              "<div>\n",
              "<style scoped>\n",
              "    .dataframe tbody tr th:only-of-type {\n",
              "        vertical-align: middle;\n",
              "    }\n",
              "\n",
              "    .dataframe tbody tr th {\n",
              "        vertical-align: top;\n",
              "    }\n",
              "\n",
              "    .dataframe thead th {\n",
              "        text-align: right;\n",
              "    }\n",
              "</style>\n",
              "<table border=\"1\" class=\"dataframe\">\n",
              "  <thead>\n",
              "    <tr style=\"text-align: right;\">\n",
              "      <th></th>\n",
              "      <th>star_rating</th>\n",
              "      <th>verified_purchase</th>\n",
              "      <th>review_body</th>\n",
              "    </tr>\n",
              "  </thead>\n",
              "  <tbody>\n",
              "    <tr>\n",
              "      <th>0</th>\n",
              "      <td>4</td>\n",
              "      <td>Y</td>\n",
              "      <td>GOOD VALUE</td>\n",
              "    </tr>\n",
              "    <tr>\n",
              "      <th>1</th>\n",
              "      <td>5</td>\n",
              "      <td>Y</td>\n",
              "      <td>Excellent quality.</td>\n",
              "    </tr>\n",
              "    <tr>\n",
              "      <th>2</th>\n",
              "      <td>4</td>\n",
              "      <td>Y</td>\n",
              "      <td>3rd season using it. I only fill with water an...</td>\n",
              "    </tr>\n",
              "    <tr>\n",
              "      <th>3</th>\n",
              "      <td>3</td>\n",
              "      <td>Y</td>\n",
              "      <td>poor construction as mildew keeps forming in t...</td>\n",
              "    </tr>\n",
              "    <tr>\n",
              "      <th>4</th>\n",
              "      <td>1</td>\n",
              "      <td>Y</td>\n",
              "      <td>Very bad quality, clips was broken when it arr...</td>\n",
              "    </tr>\n",
              "  </tbody>\n",
              "</table>\n",
              "</div>"
            ],
            "text/plain": [
              "  star_rating  ...                                        review_body\n",
              "0           4  ...                                         GOOD VALUE\n",
              "1           5  ...                                 Excellent quality.\n",
              "2           4  ...  3rd season using it. I only fill with water an...\n",
              "3           3  ...  poor construction as mildew keeps forming in t...\n",
              "4           1  ...  Very bad quality, clips was broken when it arr...\n",
              "\n",
              "[5 rows x 3 columns]"
            ]
          },
          "metadata": {
            "tags": []
          },
          "execution_count": 26
        }
      ]
    },
    {
      "cell_type": "code",
      "metadata": {
        "id": "ZZsAx2JdGo_c",
        "colab_type": "code",
        "colab": {
          "base_uri": "https://localhost:8080/",
          "height": 52
        },
        "outputId": "05dc4b82-620e-40bb-ad38-4359870c120d"
      },
      "source": [
        "pd.unique(final_df['star_rating'])"
      ],
      "execution_count": null,
      "outputs": [
        {
          "output_type": "execute_result",
          "data": {
            "text/plain": [
              "array(['4', '5', '3', '1', '2', 5, 1, 4, 2, 3, '2.0', '5.0', '1.0', '4.0',\n",
              "       '3.0'], dtype=object)"
            ]
          },
          "metadata": {
            "tags": []
          },
          "execution_count": 27
        }
      ]
    },
    {
      "cell_type": "code",
      "metadata": {
        "id": "cqtU7zFaG0JM",
        "colab_type": "code",
        "colab": {
          "base_uri": "https://localhost:8080/",
          "height": 34
        },
        "outputId": "07756a04-a1ac-494b-e279-281ffa1f88db"
      },
      "source": [
        "final_df['star_rating'] = final_df['star_rating'].replace(to_replace = ['1','2','3','4','5'], value = [1,2,3,4,5])\n",
        "final_df['star_rating'] = final_df['star_rating'].replace(to_replace = ['1.0','2.0','3.0','4.0','5.0'], value = [1,2,3,4,5])\n",
        "\n",
        "pd.unique(final_df['star_rating'])"
      ],
      "execution_count": null,
      "outputs": [
        {
          "output_type": "execute_result",
          "data": {
            "text/plain": [
              "array([4., 5., 3., 1., 2.])"
            ]
          },
          "metadata": {
            "tags": []
          },
          "execution_count": 28
        }
      ]
    },
    {
      "cell_type": "code",
      "metadata": {
        "id": "5bHVKN0xFuLY",
        "colab_type": "code",
        "colab": {
          "base_uri": "https://localhost:8080/",
          "height": 534
        },
        "outputId": "413b9bfc-208c-4e09-d8ff-271789d0d422"
      },
      "source": [
        "import seaborn as sns\n",
        "import matplotlib.pyplot as plt\n",
        "\n",
        "plt.figure(figsize=(18,8))\n",
        "sns.countplot(final_df['star_rating'])\n",
        "plt.title('Count ratings')\n",
        "plt.show()"
      ],
      "execution_count": null,
      "outputs": [
        {
          "output_type": "display_data",
          "data": {
            "image/png": "[encoded data removed]",
            "text/plain": [
              "<Figure size 1296x576 with 1 Axes>"
            ]
          },
          "metadata": {
            "tags": []
          }
        }
      ]
    },
    {
      "cell_type": "code",
      "metadata": {
        "id": "vzr4hhLTFuI8",
        "colab_type": "code",
        "colab": {
          "base_uri": "https://localhost:8080/",
          "height": 34
        },
        "outputId": "72749caa-17d8-4366-b4e5-1e9a980dc925"
      },
      "source": [
        "final_df['star_rating_enc'] = final_df['star_rating'].replace(to_replace = [1,2,3,4,5], value = [0,0,0,1,1])\n",
        "pd.unique(final_df['star_rating_enc'])"
      ],
      "execution_count": null,
      "outputs": [
        {
          "output_type": "execute_result",
          "data": {
            "text/plain": [
              "array([1., 0.])"
            ]
          },
          "metadata": {
            "tags": []
          },
          "execution_count": 30
        }
      ]
    },
    {
      "cell_type": "code",
      "metadata": {
        "id": "1TM7OwII8tMB",
        "colab_type": "code",
        "colab": {
          "base_uri": "https://localhost:8080/",
          "height": 534
        },
        "outputId": "4b157b26-8233-40eb-eac4-722f00149776"
      },
      "source": [
        "import seaborn as sns\n",
        "import matplotlib.pyplot as plt\n",
        "\n",
        "plt.figure(figsize=(18,8))\n",
        "sns.countplot(final_df['star_rating_enc'])\n",
        "plt.title('Count ratings')\n",
        "plt.show()"
      ],
      "execution_count": null,
      "outputs": [
        {
          "output_type": "display_data",
          "data": {
            "image/png": "[encoded data removed]",
            "text/plain": [
              "<Figure size 1296x576 with 1 Axes>"
            ]
          },
          "metadata": {
            "tags": []
          }
        }
      ]
    },
    {
      "cell_type": "code",
      "metadata": {
        "id": "DArZaKjcOvES",
        "colab_type": "code",
        "colab": {
          "base_uri": "https://localhost:8080/",
          "height": 365
        },
        "outputId": "78b4f963-9e93-4c5f-b6c7-e0a7f7738e98"
      },
      "source": [
        "final_df_pos = final_df[final_df['star_rating_enc'] == 1]\n",
        "print(final_df_pos.shape)\n",
        "final_df_pos.tail(10)"
      ],
      "execution_count": null,
      "outputs": [
        {
          "output_type": "stream",
          "text": [
            "(12276926, 4)\n"
          ],
          "name": "stdout"
        },
        {
          "output_type": "execute_result",
          "data": {
            "text/html": [
              "<div>\n",
              "<style scoped>\n",
              "    .dataframe tbody tr th:only-of-type {\n",
              "        vertical-align: middle;\n",
              "    }\n",
              "\n",
              "    .dataframe tbody tr th {\n",
              "        vertical-align: top;\n",
              "    }\n",
              "\n",
              "    .dataframe thead th {\n",
              "        text-align: right;\n",
              "    }\n",
              "</style>\n",
              "<table border=\"1\" class=\"dataframe\">\n",
              "  <thead>\n",
              "    <tr style=\"text-align: right;\">\n",
              "      <th></th>\n",
              "      <th>star_rating</th>\n",
              "      <th>verified_purchase</th>\n",
              "      <th>review_body</th>\n",
              "      <th>star_rating_enc</th>\n",
              "    </tr>\n",
              "  </thead>\n",
              "  <tbody>\n",
              "    <tr>\n",
              "      <th>7600302</th>\n",
              "      <td>4.0</td>\n",
              "      <td>Y</td>\n",
              "      <td>The watch came beautifully packaged and the de...</td>\n",
              "      <td>1.0</td>\n",
              "    </tr>\n",
              "    <tr>\n",
              "      <th>7600327</th>\n",
              "      <td>4.0</td>\n",
              "      <td>Y</td>\n",
              "      <td>This watch is great - as have all my Skagen wa...</td>\n",
              "      <td>1.0</td>\n",
              "    </tr>\n",
              "    <tr>\n",
              "      <th>7600345</th>\n",
              "      <td>5.0</td>\n",
              "      <td>Y</td>\n",
              "      <td>Casio call this a Casual Sports watch. I recom...</td>\n",
              "      <td>1.0</td>\n",
              "    </tr>\n",
              "    <tr>\n",
              "      <th>7600347</th>\n",
              "      <td>5.0</td>\n",
              "      <td>Y</td>\n",
              "      <td>I've had this watch for almost 3 years, and it...</td>\n",
              "      <td>1.0</td>\n",
              "    </tr>\n",
              "    <tr>\n",
              "      <th>7600355</th>\n",
              "      <td>5.0</td>\n",
              "      <td>Y</td>\n",
              "      <td>Anyone who knows me will tell you I'm a gadget...</td>\n",
              "      <td>1.0</td>\n",
              "    </tr>\n",
              "    <tr>\n",
              "      <th>7600356</th>\n",
              "      <td>5.0</td>\n",
              "      <td>Y</td>\n",
              "      <td>Hi, I will recommend this timepiece to any chi...</td>\n",
              "      <td>1.0</td>\n",
              "    </tr>\n",
              "    <tr>\n",
              "      <th>7600359</th>\n",
              "      <td>4.0</td>\n",
              "      <td>Y</td>\n",
              "      <td>This watch is beautiful and very easy to read ...</td>\n",
              "      <td>1.0</td>\n",
              "    </tr>\n",
              "    <tr>\n",
              "      <th>7600400</th>\n",
              "      <td>4.0</td>\n",
              "      <td>Y</td>\n",
              "      <td>I wasn't expecting a ton out of this watch giv...</td>\n",
              "      <td>1.0</td>\n",
              "    </tr>\n",
              "    <tr>\n",
              "      <th>7600425</th>\n",
              "      <td>4.0</td>\n",
              "      <td>Y</td>\n",
              "      <td>It would be nice to be able to &amp;quot;flip&amp;quot...</td>\n",
              "      <td>1.0</td>\n",
              "    </tr>\n",
              "    <tr>\n",
              "      <th>7600434</th>\n",
              "      <td>5.0</td>\n",
              "      <td>Y</td>\n",
              "      <td>This watch looks very hip - very Kenneth Cole....</td>\n",
              "      <td>1.0</td>\n",
              "    </tr>\n",
              "  </tbody>\n",
              "</table>\n",
              "</div>"
            ],
            "text/plain": [
              "         star_rating  ... star_rating_enc\n",
              "7600302          4.0  ...             1.0\n",
              "7600327          4.0  ...             1.0\n",
              "7600345          5.0  ...             1.0\n",
              "7600347          5.0  ...             1.0\n",
              "7600355          5.0  ...             1.0\n",
              "7600356          5.0  ...             1.0\n",
              "7600359          4.0  ...             1.0\n",
              "7600400          4.0  ...             1.0\n",
              "7600425          4.0  ...             1.0\n",
              "7600434          5.0  ...             1.0\n",
              "\n",
              "[10 rows x 4 columns]"
            ]
          },
          "metadata": {
            "tags": []
          },
          "execution_count": 32
        }
      ]
    },
    {
      "cell_type": "code",
      "metadata": {
        "id": "qALj7fH-IJ6P",
        "colab_type": "code",
        "colab": {
          "base_uri": "https://localhost:8080/",
          "height": 365
        },
        "outputId": "5c3c3e7b-4c6f-4126-98e1-3d555ed272b1"
      },
      "source": [
        "final_df_neg = final_df[final_df['star_rating_enc'] == 0]\n",
        "print(final_df_neg.shape)\n",
        "final_df_neg.tail(10)"
      ],
      "execution_count": null,
      "outputs": [
        {
          "output_type": "stream",
          "text": [
            "(4338043, 4)\n"
          ],
          "name": "stdout"
        },
        {
          "output_type": "execute_result",
          "data": {
            "text/html": [
              "<div>\n",
              "<style scoped>\n",
              "    .dataframe tbody tr th:only-of-type {\n",
              "        vertical-align: middle;\n",
              "    }\n",
              "\n",
              "    .dataframe tbody tr th {\n",
              "        vertical-align: top;\n",
              "    }\n",
              "\n",
              "    .dataframe thead th {\n",
              "        text-align: right;\n",
              "    }\n",
              "</style>\n",
              "<table border=\"1\" class=\"dataframe\">\n",
              "  <thead>\n",
              "    <tr style=\"text-align: right;\">\n",
              "      <th></th>\n",
              "      <th>star_rating</th>\n",
              "      <th>verified_purchase</th>\n",
              "      <th>review_body</th>\n",
              "      <th>star_rating_enc</th>\n",
              "    </tr>\n",
              "  </thead>\n",
              "  <tbody>\n",
              "    <tr>\n",
              "      <th>7599896</th>\n",
              "      <td>3.0</td>\n",
              "      <td>Y</td>\n",
              "      <td>This watch was not packed in its original box,...</td>\n",
              "      <td>0.0</td>\n",
              "    </tr>\n",
              "    <tr>\n",
              "      <th>7599971</th>\n",
              "      <td>2.0</td>\n",
              "      <td>Y</td>\n",
              "      <td>was not a 'deal' @ 14.99, weighs a ton &amp; huge,...</td>\n",
              "      <td>0.0</td>\n",
              "    </tr>\n",
              "    <tr>\n",
              "      <th>7600044</th>\n",
              "      <td>1.0</td>\n",
              "      <td>Y</td>\n",
              "      <td>The watch came in a great looking case, the fa...</td>\n",
              "      <td>0.0</td>\n",
              "    </tr>\n",
              "    <tr>\n",
              "      <th>7600068</th>\n",
              "      <td>1.0</td>\n",
              "      <td>Y</td>\n",
              "      <td>I have worn Pulsar watches for years.  There's...</td>\n",
              "      <td>0.0</td>\n",
              "    </tr>\n",
              "    <tr>\n",
              "      <th>7600120</th>\n",
              "      <td>1.0</td>\n",
              "      <td>Y</td>\n",
              "      <td>Received with scratch and spots on bracelet, I...</td>\n",
              "      <td>0.0</td>\n",
              "    </tr>\n",
              "    <tr>\n",
              "      <th>7600160</th>\n",
              "      <td>1.0</td>\n",
              "      <td>Y</td>\n",
              "      <td>If I could give this product 0 stars I would! ...</td>\n",
              "      <td>0.0</td>\n",
              "    </tr>\n",
              "    <tr>\n",
              "      <th>7600211</th>\n",
              "      <td>1.0</td>\n",
              "      <td>Y</td>\n",
              "      <td>Watch looks nice and my daughter loves it BUT ...</td>\n",
              "      <td>0.0</td>\n",
              "    </tr>\n",
              "    <tr>\n",
              "      <th>7600287</th>\n",
              "      <td>2.0</td>\n",
              "      <td>Y</td>\n",
              "      <td>This is a nice watch with all the features you...</td>\n",
              "      <td>0.0</td>\n",
              "    </tr>\n",
              "    <tr>\n",
              "      <th>7600399</th>\n",
              "      <td>2.0</td>\n",
              "      <td>Y</td>\n",
              "      <td>My wrist also isn't very large, but the clasp ...</td>\n",
              "      <td>0.0</td>\n",
              "    </tr>\n",
              "    <tr>\n",
              "      <th>7600437</th>\n",
              "      <td>3.0</td>\n",
              "      <td>Y</td>\n",
              "      <td>The 13 year old girl I bought this for just lo...</td>\n",
              "      <td>0.0</td>\n",
              "    </tr>\n",
              "  </tbody>\n",
              "</table>\n",
              "</div>"
            ],
            "text/plain": [
              "         star_rating  ... star_rating_enc\n",
              "7599896          3.0  ...             0.0\n",
              "7599971          2.0  ...             0.0\n",
              "7600044          1.0  ...             0.0\n",
              "7600068          1.0  ...             0.0\n",
              "7600120          1.0  ...             0.0\n",
              "7600160          1.0  ...             0.0\n",
              "7600211          1.0  ...             0.0\n",
              "7600287          2.0  ...             0.0\n",
              "7600399          2.0  ...             0.0\n",
              "7600437          3.0  ...             0.0\n",
              "\n",
              "[10 rows x 4 columns]"
            ]
          },
          "metadata": {
            "tags": []
          },
          "execution_count": 42
        }
      ]
    },
    {
      "cell_type": "markdown",
      "metadata": {
        "id": "gRh5zLbBV-Uw",
        "colab_type": "text"
      },
      "source": [
        "# Gathering/Subsetting only 3 Lakh Positive Datasets"
      ]
    },
    {
      "cell_type": "code",
      "metadata": {
        "id": "Zur7kNpLIVxl",
        "colab_type": "code",
        "colab": {
          "base_uri": "https://localhost:8080/",
          "height": 215
        },
        "outputId": "ac6b6590-6a4b-42a5-f0ad-ee0339ad3e81"
      },
      "source": [
        "final_df_pos.shape\n",
        "\n",
        "reviews_pos1 = final_df_pos.iloc[0:150000]\n",
        "print(reviews_pos1.shape)\n",
        "reviews_pos1.head()"
      ],
      "execution_count": null,
      "outputs": [
        {
          "output_type": "stream",
          "text": [
            "(150000, 4)\n"
          ],
          "name": "stdout"
        },
        {
          "output_type": "execute_result",
          "data": {
            "text/html": [
              "<div>\n",
              "<style scoped>\n",
              "    .dataframe tbody tr th:only-of-type {\n",
              "        vertical-align: middle;\n",
              "    }\n",
              "\n",
              "    .dataframe tbody tr th {\n",
              "        vertical-align: top;\n",
              "    }\n",
              "\n",
              "    .dataframe thead th {\n",
              "        text-align: right;\n",
              "    }\n",
              "</style>\n",
              "<table border=\"1\" class=\"dataframe\">\n",
              "  <thead>\n",
              "    <tr style=\"text-align: right;\">\n",
              "      <th></th>\n",
              "      <th>star_rating</th>\n",
              "      <th>verified_purchase</th>\n",
              "      <th>review_body</th>\n",
              "      <th>star_rating_enc</th>\n",
              "    </tr>\n",
              "  </thead>\n",
              "  <tbody>\n",
              "    <tr>\n",
              "      <th>0</th>\n",
              "      <td>4.0</td>\n",
              "      <td>Y</td>\n",
              "      <td>GOOD VALUE</td>\n",
              "      <td>1.0</td>\n",
              "    </tr>\n",
              "    <tr>\n",
              "      <th>1</th>\n",
              "      <td>5.0</td>\n",
              "      <td>Y</td>\n",
              "      <td>Excellent quality.</td>\n",
              "      <td>1.0</td>\n",
              "    </tr>\n",
              "    <tr>\n",
              "      <th>2</th>\n",
              "      <td>4.0</td>\n",
              "      <td>Y</td>\n",
              "      <td>3rd season using it. I only fill with water an...</td>\n",
              "      <td>1.0</td>\n",
              "    </tr>\n",
              "    <tr>\n",
              "      <th>5</th>\n",
              "      <td>4.0</td>\n",
              "      <td>Y</td>\n",
              "      <td>Nice bag. Should have another strap on bottom ...</td>\n",
              "      <td>1.0</td>\n",
              "    </tr>\n",
              "    <tr>\n",
              "      <th>6</th>\n",
              "      <td>5.0</td>\n",
              "      <td>Y</td>\n",
              "      <td>Gave this to my son who used it while we were ...</td>\n",
              "      <td>1.0</td>\n",
              "    </tr>\n",
              "  </tbody>\n",
              "</table>\n",
              "</div>"
            ],
            "text/plain": [
              "   star_rating  ... star_rating_enc\n",
              "0          4.0  ...             1.0\n",
              "1          5.0  ...             1.0\n",
              "2          4.0  ...             1.0\n",
              "5          4.0  ...             1.0\n",
              "6          5.0  ...             1.0\n",
              "\n",
              "[5 rows x 4 columns]"
            ]
          },
          "metadata": {
            "tags": []
          },
          "execution_count": 44
        }
      ]
    },
    {
      "cell_type": "code",
      "metadata": {
        "id": "kyPnV1mCUI_N",
        "colab_type": "code",
        "colab": {
          "base_uri": "https://localhost:8080/",
          "height": 215
        },
        "outputId": "01effebc-187d-49ca-85df-b8896ea4c800"
      },
      "source": [
        "reviews_pos2 = final_df_pos.iloc[150000:200000]\n",
        "print(reviews_pos2.shape)\n",
        "reviews_pos2.head()"
      ],
      "execution_count": null,
      "outputs": [
        {
          "output_type": "stream",
          "text": [
            "(50000, 4)\n"
          ],
          "name": "stdout"
        },
        {
          "output_type": "execute_result",
          "data": {
            "text/html": [
              "<div>\n",
              "<style scoped>\n",
              "    .dataframe tbody tr th:only-of-type {\n",
              "        vertical-align: middle;\n",
              "    }\n",
              "\n",
              "    .dataframe tbody tr th {\n",
              "        vertical-align: top;\n",
              "    }\n",
              "\n",
              "    .dataframe thead th {\n",
              "        text-align: right;\n",
              "    }\n",
              "</style>\n",
              "<table border=\"1\" class=\"dataframe\">\n",
              "  <thead>\n",
              "    <tr style=\"text-align: right;\">\n",
              "      <th></th>\n",
              "      <th>star_rating</th>\n",
              "      <th>verified_purchase</th>\n",
              "      <th>review_body</th>\n",
              "      <th>star_rating_enc</th>\n",
              "    </tr>\n",
              "  </thead>\n",
              "  <tbody>\n",
              "    <tr>\n",
              "      <th>219948</th>\n",
              "      <td>4.0</td>\n",
              "      <td>Y</td>\n",
              "      <td>Very well made and sturdy. The fabric is breat...</td>\n",
              "      <td>1.0</td>\n",
              "    </tr>\n",
              "    <tr>\n",
              "      <th>219949</th>\n",
              "      <td>5.0</td>\n",
              "      <td>Y</td>\n",
              "      <td>Loved the amount of compression these socks ha...</td>\n",
              "      <td>1.0</td>\n",
              "    </tr>\n",
              "    <tr>\n",
              "      <th>219951</th>\n",
              "      <td>5.0</td>\n",
              "      <td>Y</td>\n",
              "      <td>really nice shirt, not too warm.</td>\n",
              "      <td>1.0</td>\n",
              "    </tr>\n",
              "    <tr>\n",
              "      <th>219953</th>\n",
              "      <td>5.0</td>\n",
              "      <td>Y</td>\n",
              "      <td>I love these socks, comfortable, light, great ...</td>\n",
              "      <td>1.0</td>\n",
              "    </tr>\n",
              "    <tr>\n",
              "      <th>219954</th>\n",
              "      <td>5.0</td>\n",
              "      <td>Y</td>\n",
              "      <td>My 4 year old son has no issues opening it and...</td>\n",
              "      <td>1.0</td>\n",
              "    </tr>\n",
              "  </tbody>\n",
              "</table>\n",
              "</div>"
            ],
            "text/plain": [
              "        star_rating  ... star_rating_enc\n",
              "219948          4.0  ...             1.0\n",
              "219949          5.0  ...             1.0\n",
              "219951          5.0  ...             1.0\n",
              "219953          5.0  ...             1.0\n",
              "219954          5.0  ...             1.0\n",
              "\n",
              "[5 rows x 4 columns]"
            ]
          },
          "metadata": {
            "tags": []
          },
          "execution_count": 45
        }
      ]
    },
    {
      "cell_type": "code",
      "metadata": {
        "id": "xb67itN-VtEM",
        "colab_type": "code",
        "colab": {
          "base_uri": "https://localhost:8080/",
          "height": 215
        },
        "outputId": "9e3f1922-dbd0-41af-c90c-02da437ca024"
      },
      "source": [
        "reviews_pos3 = final_df_pos.iloc[200000:250000]\n",
        "print(reviews_pos3.shape)\n",
        "reviews_pos3.head()"
      ],
      "execution_count": null,
      "outputs": [
        {
          "output_type": "stream",
          "text": [
            "(50000, 4)\n"
          ],
          "name": "stdout"
        },
        {
          "output_type": "execute_result",
          "data": {
            "text/html": [
              "<div>\n",
              "<style scoped>\n",
              "    .dataframe tbody tr th:only-of-type {\n",
              "        vertical-align: middle;\n",
              "    }\n",
              "\n",
              "    .dataframe tbody tr th {\n",
              "        vertical-align: top;\n",
              "    }\n",
              "\n",
              "    .dataframe thead th {\n",
              "        text-align: right;\n",
              "    }\n",
              "</style>\n",
              "<table border=\"1\" class=\"dataframe\">\n",
              "  <thead>\n",
              "    <tr style=\"text-align: right;\">\n",
              "      <th></th>\n",
              "      <th>star_rating</th>\n",
              "      <th>verified_purchase</th>\n",
              "      <th>review_body</th>\n",
              "      <th>star_rating_enc</th>\n",
              "    </tr>\n",
              "  </thead>\n",
              "  <tbody>\n",
              "    <tr>\n",
              "      <th>294362</th>\n",
              "      <td>5.0</td>\n",
              "      <td>Y</td>\n",
              "      <td>Its hard to believe how much gear is packed in...</td>\n",
              "      <td>1.0</td>\n",
              "    </tr>\n",
              "    <tr>\n",
              "      <th>294364</th>\n",
              "      <td>5.0</td>\n",
              "      <td>Y</td>\n",
              "      <td>For 10 bucks you can't beat this knife&lt;br /&gt;I ...</td>\n",
              "      <td>1.0</td>\n",
              "    </tr>\n",
              "    <tr>\n",
              "      <th>294365</th>\n",
              "      <td>4.0</td>\n",
              "      <td>Y</td>\n",
              "      <td>I got 10 years out of my last one. I have had ...</td>\n",
              "      <td>1.0</td>\n",
              "    </tr>\n",
              "    <tr>\n",
              "      <th>294366</th>\n",
              "      <td>5.0</td>\n",
              "      <td>Y</td>\n",
              "      <td>I love this spork! Such a great design, and th...</td>\n",
              "      <td>1.0</td>\n",
              "    </tr>\n",
              "    <tr>\n",
              "      <th>294367</th>\n",
              "      <td>5.0</td>\n",
              "      <td>Y</td>\n",
              "      <td>Bag Is excellent love it</td>\n",
              "      <td>1.0</td>\n",
              "    </tr>\n",
              "  </tbody>\n",
              "</table>\n",
              "</div>"
            ],
            "text/plain": [
              "        star_rating  ... star_rating_enc\n",
              "294362          5.0  ...             1.0\n",
              "294364          5.0  ...             1.0\n",
              "294365          4.0  ...             1.0\n",
              "294366          5.0  ...             1.0\n",
              "294367          5.0  ...             1.0\n",
              "\n",
              "[5 rows x 4 columns]"
            ]
          },
          "metadata": {
            "tags": []
          },
          "execution_count": 46
        }
      ]
    },
    {
      "cell_type": "markdown",
      "metadata": {
        "id": "7kKnfENcWCuz",
        "colab_type": "text"
      },
      "source": [
        "# Gathering/Subsetting only 3 Lakh Negative Datasets"
      ]
    },
    {
      "cell_type": "code",
      "metadata": {
        "id": "MY0ACOx1WFQi",
        "colab_type": "code",
        "colab": {
          "base_uri": "https://localhost:8080/",
          "height": 215
        },
        "outputId": "eda4023d-5683-4332-a193-3fa47865d30c"
      },
      "source": [
        "reviews_neg1 = final_df_neg.iloc[0:150000]\n",
        "print(reviews_neg1.shape)\n",
        "reviews_neg1.head()"
      ],
      "execution_count": null,
      "outputs": [
        {
          "output_type": "stream",
          "text": [
            "(150000, 4)\n"
          ],
          "name": "stdout"
        },
        {
          "output_type": "execute_result",
          "data": {
            "text/html": [
              "<div>\n",
              "<style scoped>\n",
              "    .dataframe tbody tr th:only-of-type {\n",
              "        vertical-align: middle;\n",
              "    }\n",
              "\n",
              "    .dataframe tbody tr th {\n",
              "        vertical-align: top;\n",
              "    }\n",
              "\n",
              "    .dataframe thead th {\n",
              "        text-align: right;\n",
              "    }\n",
              "</style>\n",
              "<table border=\"1\" class=\"dataframe\">\n",
              "  <thead>\n",
              "    <tr style=\"text-align: right;\">\n",
              "      <th></th>\n",
              "      <th>star_rating</th>\n",
              "      <th>verified_purchase</th>\n",
              "      <th>review_body</th>\n",
              "      <th>star_rating_enc</th>\n",
              "    </tr>\n",
              "  </thead>\n",
              "  <tbody>\n",
              "    <tr>\n",
              "      <th>3</th>\n",
              "      <td>3.0</td>\n",
              "      <td>Y</td>\n",
              "      <td>poor construction as mildew keeps forming in t...</td>\n",
              "      <td>0.0</td>\n",
              "    </tr>\n",
              "    <tr>\n",
              "      <th>4</th>\n",
              "      <td>1.0</td>\n",
              "      <td>Y</td>\n",
              "      <td>Very bad quality, clips was broken when it arr...</td>\n",
              "      <td>0.0</td>\n",
              "    </tr>\n",
              "    <tr>\n",
              "      <th>11</th>\n",
              "      <td>3.0</td>\n",
              "      <td>Y</td>\n",
              "      <td>VERY difficult to set up. The muscle needed pr...</td>\n",
              "      <td>0.0</td>\n",
              "    </tr>\n",
              "    <tr>\n",
              "      <th>19</th>\n",
              "      <td>2.0</td>\n",
              "      <td>Y</td>\n",
              "      <td>I received this product at the end of June and...</td>\n",
              "      <td>0.0</td>\n",
              "    </tr>\n",
              "    <tr>\n",
              "      <th>21</th>\n",
              "      <td>1.0</td>\n",
              "      <td>Y</td>\n",
              "      <td>If 1/2&amp;#34; is self inflating this is you're p...</td>\n",
              "      <td>0.0</td>\n",
              "    </tr>\n",
              "  </tbody>\n",
              "</table>\n",
              "</div>"
            ],
            "text/plain": [
              "    star_rating  ... star_rating_enc\n",
              "3           3.0  ...             0.0\n",
              "4           1.0  ...             0.0\n",
              "11          3.0  ...             0.0\n",
              "19          2.0  ...             0.0\n",
              "21          1.0  ...             0.0\n",
              "\n",
              "[5 rows x 4 columns]"
            ]
          },
          "metadata": {
            "tags": []
          },
          "execution_count": 47
        }
      ]
    },
    {
      "cell_type": "code",
      "metadata": {
        "id": "GiagAca3WVbM",
        "colab_type": "code",
        "colab": {
          "base_uri": "https://localhost:8080/",
          "height": 215
        },
        "outputId": "f0560d19-7a12-4e4e-a79a-73eb3e4402fe"
      },
      "source": [
        "reviews_neg2 = final_df_neg.iloc[150000:200000]\n",
        "print(reviews_neg2.shape)\n",
        "reviews_neg2.head()"
      ],
      "execution_count": null,
      "outputs": [
        {
          "output_type": "stream",
          "text": [
            "(50000, 4)\n"
          ],
          "name": "stdout"
        },
        {
          "output_type": "execute_result",
          "data": {
            "text/html": [
              "<div>\n",
              "<style scoped>\n",
              "    .dataframe tbody tr th:only-of-type {\n",
              "        vertical-align: middle;\n",
              "    }\n",
              "\n",
              "    .dataframe tbody tr th {\n",
              "        vertical-align: top;\n",
              "    }\n",
              "\n",
              "    .dataframe thead th {\n",
              "        text-align: right;\n",
              "    }\n",
              "</style>\n",
              "<table border=\"1\" class=\"dataframe\">\n",
              "  <thead>\n",
              "    <tr style=\"text-align: right;\">\n",
              "      <th></th>\n",
              "      <th>star_rating</th>\n",
              "      <th>verified_purchase</th>\n",
              "      <th>review_body</th>\n",
              "      <th>star_rating_enc</th>\n",
              "    </tr>\n",
              "  </thead>\n",
              "  <tbody>\n",
              "    <tr>\n",
              "      <th>897144</th>\n",
              "      <td>3.0</td>\n",
              "      <td>Y</td>\n",
              "      <td>Sometimes it works and sometimes it doesn't.  ...</td>\n",
              "      <td>0.0</td>\n",
              "    </tr>\n",
              "    <tr>\n",
              "      <th>897155</th>\n",
              "      <td>1.0</td>\n",
              "      <td>Y</td>\n",
              "      <td>Item took an eternity to arrive.  It is not ve...</td>\n",
              "      <td>0.0</td>\n",
              "    </tr>\n",
              "    <tr>\n",
              "      <th>897165</th>\n",
              "      <td>1.0</td>\n",
              "      <td>Y</td>\n",
              "      <td>I am being generous in my rating. The wrist ba...</td>\n",
              "      <td>0.0</td>\n",
              "    </tr>\n",
              "    <tr>\n",
              "      <th>897170</th>\n",
              "      <td>1.0</td>\n",
              "      <td>Y</td>\n",
              "      <td>My second one both lose air don't buy...buy th...</td>\n",
              "      <td>0.0</td>\n",
              "    </tr>\n",
              "    <tr>\n",
              "      <th>897183</th>\n",
              "      <td>2.0</td>\n",
              "      <td>Y</td>\n",
              "      <td>the one i received came with some of the stitc...</td>\n",
              "      <td>0.0</td>\n",
              "    </tr>\n",
              "  </tbody>\n",
              "</table>\n",
              "</div>"
            ],
            "text/plain": [
              "        star_rating  ... star_rating_enc\n",
              "897144          3.0  ...             0.0\n",
              "897155          1.0  ...             0.0\n",
              "897165          1.0  ...             0.0\n",
              "897170          1.0  ...             0.0\n",
              "897183          2.0  ...             0.0\n",
              "\n",
              "[5 rows x 4 columns]"
            ]
          },
          "metadata": {
            "tags": []
          },
          "execution_count": 48
        }
      ]
    },
    {
      "cell_type": "code",
      "metadata": {
        "id": "SsoQvZaVWYdA",
        "colab_type": "code",
        "colab": {
          "base_uri": "https://localhost:8080/",
          "height": 215
        },
        "outputId": "acc04b8d-b749-4aca-898e-bbb119dbe53f"
      },
      "source": [
        "reviews_neg3 = final_df_neg.iloc[200000:250000]\n",
        "print(reviews_neg3.shape)\n",
        "reviews_neg3.head()"
      ],
      "execution_count": null,
      "outputs": [
        {
          "output_type": "stream",
          "text": [
            "(50000, 4)\n"
          ],
          "name": "stdout"
        },
        {
          "output_type": "execute_result",
          "data": {
            "text/html": [
              "<div>\n",
              "<style scoped>\n",
              "    .dataframe tbody tr th:only-of-type {\n",
              "        vertical-align: middle;\n",
              "    }\n",
              "\n",
              "    .dataframe tbody tr th {\n",
              "        vertical-align: top;\n",
              "    }\n",
              "\n",
              "    .dataframe thead th {\n",
              "        text-align: right;\n",
              "    }\n",
              "</style>\n",
              "<table border=\"1\" class=\"dataframe\">\n",
              "  <thead>\n",
              "    <tr style=\"text-align: right;\">\n",
              "      <th></th>\n",
              "      <th>star_rating</th>\n",
              "      <th>verified_purchase</th>\n",
              "      <th>review_body</th>\n",
              "      <th>star_rating_enc</th>\n",
              "    </tr>\n",
              "  </thead>\n",
              "  <tbody>\n",
              "    <tr>\n",
              "      <th>1248062</th>\n",
              "      <td>1.0</td>\n",
              "      <td>Y</td>\n",
              "      <td>I've had this less than a month and only used ...</td>\n",
              "      <td>0.0</td>\n",
              "    </tr>\n",
              "    <tr>\n",
              "      <th>1248069</th>\n",
              "      <td>2.0</td>\n",
              "      <td>Y</td>\n",
              "      <td>Putting the chum on my Oakleys was a challenge...</td>\n",
              "      <td>0.0</td>\n",
              "    </tr>\n",
              "    <tr>\n",
              "      <th>1248071</th>\n",
              "      <td>2.0</td>\n",
              "      <td>Y</td>\n",
              "      <td>Purchased this chair as a means to free up spa...</td>\n",
              "      <td>0.0</td>\n",
              "    </tr>\n",
              "    <tr>\n",
              "      <th>1248097</th>\n",
              "      <td>3.0</td>\n",
              "      <td>Y</td>\n",
              "      <td>I thought I did my research and purchased the ...</td>\n",
              "      <td>0.0</td>\n",
              "    </tr>\n",
              "    <tr>\n",
              "      <th>1248101</th>\n",
              "      <td>3.0</td>\n",
              "      <td>Y</td>\n",
              "      <td>Dimensions not as advertised, too short and to...</td>\n",
              "      <td>0.0</td>\n",
              "    </tr>\n",
              "  </tbody>\n",
              "</table>\n",
              "</div>"
            ],
            "text/plain": [
              "         star_rating  ... star_rating_enc\n",
              "1248062          1.0  ...             0.0\n",
              "1248069          2.0  ...             0.0\n",
              "1248071          2.0  ...             0.0\n",
              "1248097          3.0  ...             0.0\n",
              "1248101          3.0  ...             0.0\n",
              "\n",
              "[5 rows x 4 columns]"
            ]
          },
          "metadata": {
            "tags": []
          },
          "execution_count": 49
        }
      ]
    },
    {
      "cell_type": "markdown",
      "metadata": {
        "id": "E3wAOtZ7W1o4",
        "colab_type": "text"
      },
      "source": [
        "# Herewith we are only going to use these 2.5L Positive and 2.5L Negative Dataset for our training, testing and validation purposes"
      ]
    },
    {
      "cell_type": "code",
      "metadata": {
        "id": "l1mgoCXSXBnn",
        "colab_type": "code",
        "colab": {}
      },
      "source": [
        "reviews_pos1 = pd.DataFrame(reviews_pos1)\n",
        "reviews_pos2 = pd.DataFrame(reviews_pos2)\n",
        "reviews_pos3 = pd.DataFrame(reviews_pos3)\n",
        "\n",
        "reviews_neg1 = pd.DataFrame(reviews_neg1)\n",
        "reviews_neg2 = pd.DataFrame(reviews_neg2)\n",
        "reviews_neg3 = pd.DataFrame(reviews_neg3)"
      ],
      "execution_count": null,
      "outputs": []
    },
    {
      "cell_type": "code",
      "metadata": {
        "id": "q0QwvOzCXg9z",
        "colab_type": "code",
        "colab": {}
      },
      "source": [
        "header = [\"review_body\", \"star_rating\", \"star_rating_enc\"]\n",
        "\n",
        "reviews_pos1.to_csv(\"/content/drive/My Drive/Machine Learning Projects/SENTIMENT ANALYSIS/SOURCE CODES AND DATASETS/Amazon EWS - Final Dataset/reviews_pos1.csv\", columns = header)\n",
        "reviews_pos2.to_csv(\"/content/drive/My Drive/Machine Learning Projects/SENTIMENT ANALYSIS/SOURCE CODES AND DATASETS/Amazon EWS - Final Dataset/reviews_pos2.csv\", columns = header)\n",
        "reviews_pos3.to_csv(\"/content/drive/My Drive/Machine Learning Projects/SENTIMENT ANALYSIS/SOURCE CODES AND DATASETS/Amazon EWS - Final Dataset/reviews_pos3.csv\", columns = header)\n",
        "\n",
        "reviews_neg1.to_csv(\"/content/drive/My Drive/Machine Learning Projects/SENTIMENT ANALYSIS/SOURCE CODES AND DATASETS/Amazon EWS - Final Dataset/reviews_neg1.csv\", columns = header)\n",
        "reviews_neg2.to_csv(\"/content/drive/My Drive/Machine Learning Projects/SENTIMENT ANALYSIS/SOURCE CODES AND DATASETS/Amazon EWS - Final Dataset/reviews_neg2.csv\", columns = header)\n",
        "reviews_neg3.to_csv(\"/content/drive/My Drive/Machine Learning Projects/SENTIMENT ANALYSIS/SOURCE CODES AND DATASETS/Amazon EWS - Final Dataset/reviews_neg3.csv\", columns = header)"
      ],
      "execution_count": null,
      "outputs": []
    }
  ]
}