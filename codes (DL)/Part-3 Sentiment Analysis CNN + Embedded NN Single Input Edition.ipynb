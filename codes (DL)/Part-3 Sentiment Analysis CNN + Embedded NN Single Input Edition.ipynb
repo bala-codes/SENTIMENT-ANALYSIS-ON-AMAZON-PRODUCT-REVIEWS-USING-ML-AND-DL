{
  "nbformat": 4,
  "nbformat_minor": 0,
  "metadata": {
    "colab": {
      "name": "Part 2.2 - Sentiment Analysis - Embeded Neural Networks-Single Input Edition.ipynb",
      "provenance": [],
      "collapsed_sections": [],
      "include_colab_link": true
    },
    "kernelspec": {
      "name": "python3",
      "display_name": "Python 3"
    }
  },
  "cells": [
    {
      "cell_type": "markdown",
      "metadata": {
        "id": "view-in-github",
        "colab_type": "text"
      },
      "source": [
        "<a href=\"https://colab.research.google.com/github/bala-codes/Sentiment_Analysis_on_Amazon_Product_Reviews_Using_Machine_and_Deep_Learning/blob/master/codes%20(DL)/Part-3%20Sentiment%20Analysis%20CNN%20%2B%20Embedded%20NN%20Single%20Input%20Edition.ipynb\" target=\"_parent\"><img src=\"https://colab.research.google.com/assets/colab-badge.svg\" alt=\"Open In Colab\"/></a>"
      ]
    },
    {
      "cell_type": "code",
      "metadata": {
        "id": "HyEV8MJe4Ek9",
        "colab_type": "code",
        "colab": {
          "base_uri": "https://localhost:8080/",
          "height": 125
        },
        "outputId": "ba472518-ff6b-4e2c-caaf-dea30a96395f"
      },
      "source": [
        "from google.colab import drive\n",
        "drive.mount('/content/drive')"
      ],
      "execution_count": null,
      "outputs": [
        {
          "output_type": "stream",
          "text": [
            "Go to this URL in a browser: https://accounts.google.com/o/oauth2/auth?client_id=947318989803-6bn6qk8qdgf4n4g3pfee6491hc0brc4i.apps.googleusercontent.com&redirect_uri=urn%3Aietf%3Awg%3Aoauth%3A2.0%3Aoob&scope=email%20https%3A%2F%2Fwww.googleapis.com%2Fauth%2Fdocs.test%20https%3A%2F%2Fwww.googleapis.com%2Fauth%2Fdrive%20https%3A%2F%2Fwww.googleapis.com%2Fauth%2Fdrive.photos.readonly%20https%3A%2F%2Fwww.googleapis.com%2Fauth%2Fpeopleapi.readonly&response_type=code\n",
            "\n",
            "Enter your authorization code:\n",
            "··········\n",
            "Mounted at /content/drive\n"
          ],
          "name": "stdout"
        }
      ]
    },
    {
      "cell_type": "code",
      "metadata": {
        "id": "COvo7tDT4FxA",
        "colab_type": "code",
        "colab": {
          "base_uri": "https://localhost:8080/",
          "height": 134
        },
        "outputId": "d85803da-ba99-47e2-900a-7d0685118acf"
      },
      "source": [
        "#Importing the libraries which are required.\n",
        "import pandas as pd\n",
        "import nltk\n",
        "import re\n",
        "import seaborn as sns\n",
        "import matplotlib.pyplot as plt\n",
        "plt.style.use('ggplot')\n",
        "import numpy as np\n",
        "import pickle\n",
        "from nltk.corpus import stopwords\n",
        "import string\n",
        "nltk.download('stopwords')\n",
        "nltk.download('wordnet')\n",
        "\n",
        "import os\n",
        "os.environ['TF_CPP_MIN_LOG_LEVEL'] = '3' \n",
        "import tensorflow as tf\n",
        "try:\n",
        "    from tensorflow.python.util import module_wrapper as deprecation\n",
        "except ImportError:\n",
        "    from tensorflow.python.util import deprecation_wrapper as deprecation\n",
        "deprecation._PER_MODULE_WARNING_LIMIT = 0\n",
        "\n",
        "from tensorflow.python.util import deprecation\n",
        "deprecation._PRINT_DEPRECATION_WARNINGS = False"
      ],
      "execution_count": null,
      "outputs": [
        {
          "output_type": "stream",
          "text": [
            "[nltk_data] Downloading package stopwords to /root/nltk_data...\n",
            "[nltk_data]   Unzipping corpora/stopwords.zip.\n",
            "[nltk_data] Downloading package wordnet to /root/nltk_data...\n",
            "[nltk_data]   Unzipping corpora/wordnet.zip.\n"
          ],
          "name": "stdout"
        },
        {
          "output_type": "display_data",
          "data": {
            "text/html": [
              "<p style=\"color: red;\">\n",
              "The default version of TensorFlow in Colab will soon switch to TensorFlow 2.x.<br>\n",
              "We recommend you <a href=\"https://www.tensorflow.org/guide/migrate\" target=\"_blank\">upgrade</a> now \n",
              "or ensure your notebook will continue to use TensorFlow 1.x via the <code>%tensorflow_version 1.x</code> magic:\n",
              "<a href=\"https://colab.research.google.com/notebooks/tensorflow_version.ipynb\" target=\"_blank\">more info</a>.</p>\n"
            ],
            "text/plain": [
              "<IPython.core.display.HTML object>"
            ]
          },
          "metadata": {
            "tags": []
          }
        }
      ]
    },
    {
      "cell_type": "code",
      "metadata": {
        "id": "fGFcduC-T2qN",
        "colab_type": "code",
        "colab": {}
      },
      "source": [
        "to_replace = {\"don't\": \"do not\", \"dont\": \"do not\",\"doesn't\": \"does not\", \"doesnt\": \"does not\",\"didn't\": \"did not\", \"didnt\": \"did not\",\"shouldn't\": \"should not\", \"shouldnt\": \"should not\",\n",
        "              \"haven't\": \"have not\", \"hvn't\": \"have not\",\"havent\": \"have not\", \"hadn't\": \"had not\",\"hadnt\": \"had not\", \"cannt\": \"can not\",\"cann't\": \"can not\", \"couldn't\": \"could not\",\n",
        "              \"couldnt\": \"could not\", \"nt\": \"not\",\"ain't\": \"is not\", \"aren't\": \"are not\",\"can't\": \"cannot\", \"'cause\": \"because\", \"could've\": \"could have\", \"couldn't\": \"could not\",\n",
        "               \"didn't\": \"did not\", \"doesn't\": \"does not\", \"don't\": \"do not\", \"hadn't\": \"had not\", \"hasn't\": \"has not\", \"haven't\": \"have not\",\"he'd\": \"he would\",\"he'll\": \"he will\", \"he's\": \"he is\", \"how'd\": \"how did\", \"how'd'y\": \"how do you\", \"how'll\": \"how will\", \"how's\": \"how is\",\n",
        "               \"I'd\": \"I would\", \"I'd've\": \"I would have\", \"I'll\": \"I will\", \"I'll've\": \"I will have\",\"I'm\": \"I am\", \"I've\": \"I have\", \"i'd\": \"i would\",\"i'd've\": \"i would have\", \"i'll\": \"i will\",  \"i'll've\": \"i will have\",\"i'm\": \"i am\", \"i've\": \"i have\", \"isn't\": \"is not\", \"it'd\": \"it would\",\n",
        "               \"it'd've\": \"it would have\", \"it'll\": \"it will\", \"it'll've\": \"it will have\",\"it's\": \"it is\", \"let's\": \"let us\", \"ma'am\": \"madam\",\"mayn't\": \"may not\", \"might've\": \"might have\",\"mightn't\": \"might not\",\"mightn't've\": \"might not have\", \"must've\": \"must have\",\n",
        "               \"mustn't\": \"must not\", \"mustn't've\": \"must not have\", \"needn't\": \"need not\", \"needn't've\": \"need not have\",\"o'clock\": \"of the clock\",\"oughtn't\": \"ought not\", \"oughtn't've\": \"ought not have\", \"shan't\": \"shall not\", \"sha'n't\": \"shall not\", \"shan't've\": \"shall not have\",\n",
        "               \"she'd\": \"she would\", \"she'd've\": \"she would have\", \"she'll\": \"she will\", \"she'll've\": \"she will have\", \"she's\": \"she is\",\"should've\": \"should have\", \"shouldn't\": \"should not\", \"shouldn't've\": \"should not have\", \"so've\": \"so have\",\"so's\": \"so as\",\n",
        "               \"this's\": \"this is\",\"that'd\": \"that would\", \"that'd've\": \"that would have\", \"that's\": \"that is\", \"there'd\": \"there would\",\"there'd've\": \"there would have\", \"there's\": \"there is\", \"here's\": \"here is\",\"they'd\": \"they would\", \"they'd've\": \"they would have\",\n",
        "               \"they'll\": \"they will\", \"they'll've\": \"they will have\", \"they're\": \"they are\", \"they've\": \"they have\", \"to've\": \"to have\",\"wasn't\": \"was not\", \"we'd\": \"we would\", \"we'd've\": \"we would have\", \"we'll\": \"we will\", \"we'll've\": \"we will have\", \"we're\": \"we are\",\n",
        "               \"we've\": \"we have\", \"weren't\": \"were not\", \"what'll\": \"what will\", \"what'll've\": \"what will have\", \"what're\": \"what are\",\"what's\": \"what is\", \"what've\": \"what have\", \"when's\": \"when is\", \"when've\": \"when have\", \"where'd\": \"where did\", \"where's\": \"where is\",\n",
        "               \"where've\": \"where have\", \"who'll\": \"who will\", \"who'll've\": \"who will have\", \"who's\": \"who is\", \"who've\": \"who have\",\"why's\": \"why is\", \"why've\": \"why have\", \"will've\": \"will have\", \"won't\": \"will not\", \"won't've\": \"will not have\",\n",
        "               \"would've\": \"would have\", \"wouldn't\": \"would not\", \"wouldn't've\": \"would not have\", \"y'all\": \"you all\",\"y'all'd\": \"you all would\",\"y'all'd've\": \"you all would have\",\"y'all're\": \"you all are\",\"y'all've\": \"you all have\",\n",
        "               \"you'd\": \"you would\", \"you'd've\": \"you would have\", \"you'll\": \"you will\", \"you'll've\": \"you will have\",\"you're\": \"you are\", \"you've\": \"you have\"}\n",
        "\n",
        "stopwords = ['i', 'me', 'mine', 'he', 'she', 'it', 'a', 'an', 'the','above', 'below', 'while', 'as', 'until', 'of', 'at', 'down', 'if', 'to', 'or', 'was', 'were', 'itself', 'for',\n",
        "             'other', 'both', 'any', 'all', 'between', 'do', 'does', 'did', 'on', 'own', 'who', 'whom', 'this', 'that', 'has','have', 'here', 'some', 'why', 'same','so', 'is', 'be',\n",
        "             'st', 'nd', 'rd', 'th']\n",
        "\n",
        "import re\n",
        "\n",
        "from nltk.stem import WordNetLemmatizer\n",
        "from nltk.stem.snowball import SnowballStemmer\n",
        "\n",
        "class NLP():\n",
        "    def __init__(self, remove_stopwords=True, replace_words=True,\n",
        "                 remove_numbers=True, remove_html_tags=True,\n",
        "                 remove_punctuations=True, lemmatize=False,\n",
        "                 lemmatize_method='wordnet'):\n",
        "        \"\"\"\n",
        "        This package contains functions that can help during the\n",
        "        preprocessing of text data.\n",
        "        :param remove_stopwords: boolean\n",
        "            default value = True\n",
        "        :param replace_words: boolean\n",
        "            default value = True\n",
        "        \"\"\"\n",
        "        if (type(remove_stopwords) != bool or\n",
        "            type(replace_words) != bool or\n",
        "            type(remove_numbers) != bool or\n",
        "            type(remove_html_tags) != bool or\n",
        "            type(remove_punctuations) != bool or\n",
        "            type(lemmatize) != bool):\n",
        "            raise Exception(\"Error - expecting a boolean parameter\")\n",
        "        if lemmatize_method not in ['wordnet', 'snowball']:\n",
        "            raise Exception(\"Error - lemmatizer method not supported\")\n",
        "        self.doc = None\n",
        "        self.lemmatizer = None\n",
        "        self.remove_stopwords = remove_stopwords\n",
        "        self.replace_words = replace_words\n",
        "        self.remove_numbers = remove_numbers\n",
        "        self.remove_html_tags = remove_html_tags\n",
        "        self.remove_punctations = remove_punctuations\n",
        "        self.lemmatize_method = lemmatize_method\n",
        "        self.lemmatize = lemmatize\n",
        "        self.stopword_list = set(stopwords)\n",
        "        self.replacement_list = to_replace\n",
        "        if self.lemmatize_method == 'wordnet':\n",
        "            self.lemmatizer = WordNetLemmatizer()\n",
        "        if self.lemmatize_method == 'snowball':\n",
        "            self.lemmatizer = SnowballStemmer('english')\n",
        "    \n",
        "\n",
        "    def remove_stopwords_fun(self):\n",
        "        \"\"\"\n",
        "        This function removes stopwords from doc.\n",
        "        It works by tokenizing the doc and then\n",
        "        checking if the word is present in stopwords\n",
        "        \"\"\"\n",
        "        tokens = str(self.doc).split()\n",
        "        cleaned_tokens = [token for token in tokens\n",
        "                          if token.lower() not in self.stopword_list]\n",
        "        self.doc = ' '.join(cleaned_tokens)\n",
        "\n",
        "    def replace_words_fun(self):\n",
        "        \"\"\"\n",
        "        This function replaces words that are --\n",
        "        by checking a word if a word is present in a dictionary\n",
        "        if the word is present in dictionary then it is replaced\n",
        "        with its value from dictionary\n",
        "        \"\"\"\n",
        "\n",
        "        cleaned_doc = []\n",
        "        for word in str(self.doc).split():\n",
        "            if word.lower() in self.replacement_list.keys():\n",
        "                cleaned_doc.append(self.replacement_list[word.lower()])\n",
        "            else:\n",
        "                cleaned_doc.append(word)\n",
        "        self.doc = ' '.join(cleaned_doc)\n",
        "\n",
        "    def remove_numbers_fun(self):\n",
        "        \"\"\"\n",
        "        This function uses regex to remve\n",
        "        all the numbers from the doc.\n",
        "        \"\"\"\n",
        "        self.doc = re.sub(\"[0-9]\", \"\", self.doc)\n",
        "\n",
        "    def remove_html_tags_fun(self):\n",
        "        \"\"\"\n",
        "        This function uses regex's complile method\n",
        "        to remove all the HTML tags from the doc\n",
        "        \"\"\"\n",
        "        cleaner = re.compile('<.*?>')\n",
        "        cleaned_text = re.sub(cleaner, '', self.doc)\n",
        "        cleaned_text = re.sub('[\\n\\t]', '', cleaned_text)\n",
        "        self.doc = cleaned_text\n",
        "\n",
        "    def remove_punctations_fun(self):\n",
        "        \"\"\"\n",
        "        This function uses regex to remove alk the\n",
        "        punctations from the doc.\n",
        "        \"\"\" \n",
        "        self.doc = re.sub('[^a-zA-Z0-9]', ' ', self.doc)\n",
        "\n",
        "    def lemmatize_fun(self):\n",
        "        \"\"\"\n",
        "        This function applies the stemming to the words\n",
        "        It can be operated with either WordNetLemmatizer\n",
        "        or Snowball Stemmer\n",
        "        ---------------------------\n",
        "        Example:\n",
        "        lemmatize(method='snowball')\n",
        "        \n",
        "        default value = 'wordnet\n",
        "        \"\"\"\n",
        "        tokens = str(self.doc).split()\n",
        "        cleaned_tokens = None\n",
        "        if self.lemmatize_method == 'wordnet':\n",
        "            cleaned_tokens = [self.lemmatizer.lemmatize(token) for token in tokens]\n",
        "        else:\n",
        "            cleaned_tokens = [self.lemmatizer.stem(token) for token in tokens]\n",
        "       \n",
        "        self.doc = ' '.join(cleaned_tokens)\n",
        "\n",
        "    def add_stopword(self, *args):\n",
        "        \"\"\"\n",
        "        This function is used to add new stopwords\n",
        "        to the predefined list\n",
        "        Parameters - [\"new_stopword\"]\n",
        "        ------------------------------\n",
        "        Example -\n",
        "        obj = NLP()\n",
        "        obj.add_stopword([\"first_word\", \"second_word\"])\n",
        "        \"\"\"\n",
        "        if self.remove_stopwords is False:\n",
        "            raise Exception(\"Please enable removal of stopwords\")\n",
        "        if type(args) != list:\n",
        "            raise Exception(\"Error - pass stopwords in list\")\n",
        "        for arg in args:\n",
        "            self.stopword_list.add(arg)\n",
        "\n",
        "    def add_replacement(self, *args):\n",
        "        \"\"\"\n",
        "        This function is used to add new replacement words\n",
        "        to the predifined list\n",
        "        Parameters - [  = \"\"]\n",
        "        ----------------------------\n",
        "        Example -\n",
        "        obj = NLP()\n",
        "        obj.add_replacement([first: \"replacement1\", second: \"replacement2\"])\n",
        "        \"\"\"\n",
        "        if self.replace_words is False:\n",
        "            raise Exception(\"Please enable cleaning of stopwords\")\n",
        "        if type(args) != list:\n",
        "            raise Exception(\"Error - pass input parameters in list\")\n",
        "        if args == []:\n",
        "            raise Exception(\"Error - list is empty\")\n",
        "        try:\n",
        "            for key, value in args.items():\n",
        "                self.replacement_list[key] = value\n",
        "        except:\n",
        "            print(\"Expected args in dict format\")\n",
        "\n",
        "    def remove_stopwords(self, *args):\n",
        "        \"\"\"\n",
        "        This function is used to remove stopwords from predefined list\n",
        "        Parameters - [\"first_word\"]\n",
        "        ------------------------------\n",
        "        Example\n",
        "        obj = NLP()\n",
        "        obj.remove_stopwords(['new_stopword_here'])\n",
        "        \"\"\"\n",
        "        if self.remove_stopwords is False:\n",
        "            raise Exception(\"Error - enable stopword removal functionality\")\n",
        "        if type(args) != list:\n",
        "            raise Exception(\"Error - expected a list\")\n",
        "        if args == []:\n",
        "            raise Exception(\"Error - no items to remove from stopword list\")\n",
        "        for arg in args:\n",
        "            if arg in self.stopword_list:\n",
        "                self.stopword_list.remove(arg)\n",
        "            else:\n",
        "                raise Exception(arg+\" not in list\")\n",
        "\n",
        "    def print_stopwords(self):\n",
        "        \"\"\"\n",
        "        This function prints all the stopwords\n",
        "        that are present in the list\n",
        "        Return Type - list\n",
        "        ------------------------------\n",
        "        Example\n",
        "        obj = NLP()\n",
        "        obj.print_stopwords()\n",
        "        \"\"\"\n",
        "        if self.stopword_list == []:\n",
        "            raise Exception(\"Error - stopword list is empty\")\n",
        "        print(self.stopword_list)\n",
        "\n",
        "    def process(self, doc):\n",
        "        \"\"\"\n",
        "        This function processes the doc\n",
        "        If the remove_stopwords flag is True\n",
        "            - it will remove stopwords from doc\n",
        "        If the clean_words flag is True\n",
        "            - it will clean the doc by replacing words\n",
        "        Parameters - [doc]\n",
        "        ------------------------------\n",
        "        Example\n",
        "        obj = NLP()\n",
        "        obj.process([\"process this text\"])\n",
        "        How to use with pandas?\n",
        "        obj = NLP()\n",
        "        df = df['text].apply(obj.process)\n",
        "        \"\"\"\n",
        "        self.doc = doc\n",
        "        if self.replace_words is True:\n",
        "            self.replace_words_fun()\n",
        "        if self.remove_html_tags is True:\n",
        "            self.remove_html_tags_fun()\n",
        "        if self.remove_stopwords is True:\n",
        "            self.remove_stopwords_fun()\n",
        "        if self.remove_numbers is True:\n",
        "            self.remove_numbers_fun()\n",
        "        if self.remove_stopwords is True:\n",
        "            self.remove_stopwords_fun()\n",
        "        if self.remove_punctations is True:\n",
        "            self.remove_punctations_fun() \n",
        "        if self.lemmatize is True:\n",
        "            self.lemmatize_fun()\n",
        "        return self.doc\n"
      ],
      "execution_count": null,
      "outputs": []
    },
    {
      "cell_type": "code",
      "metadata": {
        "id": "mVTGMtj54RMW",
        "colab_type": "code",
        "colab": {}
      },
      "source": [
        "def plot_preds1(val1, val2):\n",
        "  class_labels = ['POSITIVE', 'NEGATIVE']\n",
        "  j = [val1, val2]\n",
        "  y_pos = np.arange(len(class_labels))\n",
        "  colors = ['g','r']\n",
        "  plt.barh(y_pos,j, color = colors, alpha = 0.6)\n",
        "  plt.yticks(y_pos,class_labels)\n",
        "  plt.title('PREDICTION FOR BEING POSITIVE VS NEGATIVE SENTIMENTS')\n",
        "  plt.xlabel('Percentage')\n",
        "  plt.ylabel('Labels')\n",
        "  plt.show()\n",
        "\n",
        "\n",
        "def plot_preds2(val1, val2):\n",
        "  class_labels = ['NEGATIVE','POSITIVE']\n",
        "  j = [val1, val2]\n",
        "  y_pos = np.arange(len(class_labels))\n",
        "  colors = ['g', 'r']\n",
        "  plt.barh(y_pos,j, color = colors, alpha = 0.6)\n",
        "  plt.yticks(y_pos,class_labels)\n",
        "  plt.title('PREDICTION FOR BEING POSITIVE VS NEGATIVE SENTIMENTS')\n",
        "  plt.xlabel('Percentage')\n",
        "  plt.ylabel('Labels')\n",
        "  plt.show()"
      ],
      "execution_count": null,
      "outputs": []
    },
    {
      "cell_type": "code",
      "metadata": {
        "id": "ljDmhp8y4c7p",
        "colab_type": "code",
        "colab": {}
      },
      "source": [
        "# Use the below function to load the Saved Tokenizer\n",
        "with open('/content/drive/My Drive/Machine Learning Projects/SENTIMENT ANALYSIS - AMAZON CUSTOMER REVIEWS/SOURCE CODES AND DATASETS/PACKAGE 2 -SOURCE CODES AND FILES/Pretrained Models/tokenizer.pkl', 'rb') as handle:\n",
        "    tokenizer = pickle.load(handle)\n",
        "\n",
        "import tensorflow as tf \n",
        "from keras.preprocessing.sequence import pad_sequences\n",
        "maxlen = 300\n",
        "\n",
        "#nn_emb_model = tf.keras.models.load_model('/content/drive/My Drive/Machine Learning Projects/SENTIMENT ANALYSIS - AMAZON CUSTOMER REVIEWS/SOURCE CODES AND DATASETS/PACKAGE 2 -SOURCE CODES AND FILES/Pretrained Models/sa-conv-k5-95-89.h5') \n",
        "nn_emb_model = tf.keras.models.load_model('/content/drive/My Drive/Machine Learning Projects/SENTIMENT ANALYSIS - AMAZON CUSTOMER REVIEWS/SOURCE CODES AND DATASETS/PACKAGE 2 -SOURCE CODES AND FILES/Pretrained Models/sa-conv-k4-94-88.h5') \n",
        "\n",
        "def prediction(x):\n",
        "  process1 = tokenizer.texts_to_sequences(x)\n",
        "  #print(\"P1\",process1)\n",
        "  process2 = pad_sequences(process1, padding='post', maxlen=maxlen)\n",
        "  #print(\"P3\",process2)\n",
        "  prediction = nn_emb_model.predict(process2)\n",
        "  prediction = np.squeeze(prediction)\n",
        "  val1 = np.squeeze(prediction)\n",
        "  val2 = 1 - np.squeeze(prediction)\n",
        "\n",
        "  value1 = \"The Given Review is a Positive Sentiment\"\n",
        "  value0 = \"The Given Review is a Negative Sentiment\"\n",
        "  if prediction >= 0.5:\n",
        "    plot_preds1(val1 , val2)\n",
        "    return value1\n",
        "  else:\n",
        "    plot_preds1(val1 , val2)\n",
        "    return value0"
      ],
      "execution_count": null,
      "outputs": []
    },
    {
      "cell_type": "code",
      "metadata": {
        "id": "wD7u3-ajU2RL",
        "colab_type": "code",
        "colab": {
          "base_uri": "https://localhost:8080/",
          "height": 352
        },
        "outputId": "ecaac4d1-d818-45b2-bb3c-cfabd1ae90c9"
      },
      "source": [
        "x = input(\"ENTER THE USER'S COMMENT HERE : \") \n",
        "text_cleaner = NLP()\n",
        "x = text_cleaner.process([x])\n",
        "x=[x,]\n",
        "print()\n",
        "print(prediction(x))"
      ],
      "execution_count": null,
      "outputs": [
        {
          "output_type": "stream",
          "text": [
            "ENTER THE USER'S COMMENT HERE : not bad, the product is quite good\n",
            "\n"
          ],
          "name": "stdout"
        },
        {
          "output_type": "display_data",
          "data": {
            "image/png": "[encoded data removed]",
            "text/plain": [
              "<Figure size 432x288 with 1 Axes>"
            ]
          },
          "metadata": {
            "tags": []
          }
        },
        {
          "output_type": "stream",
          "text": [
            "The Given Review is a Negative Sentiment\n"
          ],
          "name": "stdout"
        }
      ]
    },
    {
      "cell_type": "code",
      "metadata": {
        "id": "q-4zOXsDHZdh",
        "colab_type": "code",
        "colab": {}
      },
      "source": [
        ""
      ],
      "execution_count": null,
      "outputs": []
    }
  ]
}